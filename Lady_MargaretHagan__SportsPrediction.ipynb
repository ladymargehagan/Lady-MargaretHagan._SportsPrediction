{
  "cells": [
    {
      "cell_type": "code",
      "execution_count": null,
      "metadata": {
        "id": "UA7Y9vKWkG-x"
      },
      "outputs": [],
      "source": [
        "import numpy as np\n",
        "import pandas as pd"
      ]
    },
    {
      "cell_type": "code",
      "execution_count": null,
      "metadata": {
        "id": "47tGo0oUl1ur",
        "colab": {
          "base_uri": "https://localhost:8080/"
        },
        "outputId": "0116c606-5b0b-4240-a8a6-e6a0f11d075f"
      },
      "outputs": [
        {
          "output_type": "stream",
          "name": "stdout",
          "text": [
            "Mounted at /content/drive\n"
          ]
        }
      ],
      "source": [
        "from google.colab import drive\n",
        "drive.mount('/content/drive')"
      ]
    },
    {
      "cell_type": "code",
      "execution_count": null,
      "metadata": {
        "colab": {
          "base_uri": "https://localhost:8080/"
        },
        "id": "9hSssQ-smM_D",
        "outputId": "46f7958f-fcf1-4c60-bfaf-3c8e2b777900"
      },
      "outputs": [
        {
          "output_type": "stream",
          "name": "stderr",
          "text": [
            "<ipython-input-3-9351a3998765>:1: DtypeWarning: Columns (108) have mixed types. Specify dtype option on import or set low_memory=False.\n",
            "  male_p = pd.read_csv('/content/drive/MyDrive/Colab Notebooks/male_players (legacy).csv')\n"
          ]
        }
      ],
      "source": [
        "male_p = pd.read_csv('/content/drive/MyDrive/Colab Notebooks/male_players (legacy).csv')"
      ]
    },
    {
      "cell_type": "code",
      "execution_count": null,
      "metadata": {
        "colab": {
          "base_uri": "https://localhost:8080/",
          "height": 412
        },
        "id": "zQw8XoOlmU37",
        "outputId": "69cf76f2-2b7f-4c11-9352-eec9678aa985"
      },
      "outputs": [
        {
          "output_type": "execute_result",
          "data": {
            "text/plain": [
              "   player_id                                        player_url  fifa_version  \\\n",
              "0     158023                /player/158023/lionel-messi/150002            15   \n",
              "1      20801  /player/20801/c-ronaldo-dos-santos-aveiro/150002            15   \n",
              "2       9014                  /player/9014/arjen-robben/150002            15   \n",
              "3      41236           /player/41236/zlatan-ibrahimovic/150002            15   \n",
              "4     167495                /player/167495/manuel-neuer/150002            15   \n",
              "\n",
              "   fifa_update fifa_update_date         short_name  \\\n",
              "0            2       2014-09-18           L. Messi   \n",
              "1            2       2014-09-18  Cristiano Ronaldo   \n",
              "2            2       2014-09-18          A. Robben   \n",
              "3            2       2014-09-18     Z. Ibrahimović   \n",
              "4            2       2014-09-18           M. Neuer   \n",
              "\n",
              "                             long_name player_positions  overall  potential  \\\n",
              "0       Lionel Andrés Messi Cuccittini               CF       93         95   \n",
              "1  Cristiano Ronaldo dos Santos Aveiro           LW, LM       92         92   \n",
              "2                         Arjen Robben       RM, LM, RW       90         90   \n",
              "3                   Zlatan Ibrahimović               ST       90         90   \n",
              "4                   Manuel Peter Neuer               GK       90         90   \n",
              "\n",
              "   ...   cdm   rdm   rwb    lb   lcb    cb   rcb    rb    gk  \\\n",
              "0  ...  62+3  62+3  62+3  54+3  45+3  45+3  45+3  54+3  15+3   \n",
              "1  ...  63+3  63+3  63+3  57+3  52+3  52+3  52+3  57+3  16+3   \n",
              "2  ...  64+3  64+3  64+3  55+3  46+3  46+3  46+3  55+3  14+3   \n",
              "3  ...  65+3  65+3  61+3  56+3  55+3  55+3  55+3  56+3  17+3   \n",
              "4  ...  40+3  40+3  36+3  36+3  38+3  38+3  38+3  36+3  87+3   \n",
              "\n",
              "                                     player_face_url  \n",
              "0  https://cdn.sofifa.net/players/158/023/15_120.png  \n",
              "1  https://cdn.sofifa.net/players/020/801/15_120.png  \n",
              "2  https://cdn.sofifa.net/players/009/014/15_120.png  \n",
              "3  https://cdn.sofifa.net/players/041/236/15_120.png  \n",
              "4  https://cdn.sofifa.net/players/167/495/15_120.png  \n",
              "\n",
              "[5 rows x 110 columns]"
            ],
            "text/html": [
              "\n",
              "  <div id=\"df-7c18afdf-4bf3-40da-8f26-8f7304369efb\" class=\"colab-df-container\">\n",
              "    <div>\n",
              "<style scoped>\n",
              "    .dataframe tbody tr th:only-of-type {\n",
              "        vertical-align: middle;\n",
              "    }\n",
              "\n",
              "    .dataframe tbody tr th {\n",
              "        vertical-align: top;\n",
              "    }\n",
              "\n",
              "    .dataframe thead th {\n",
              "        text-align: right;\n",
              "    }\n",
              "</style>\n",
              "<table border=\"1\" class=\"dataframe\">\n",
              "  <thead>\n",
              "    <tr style=\"text-align: right;\">\n",
              "      <th></th>\n",
              "      <th>player_id</th>\n",
              "      <th>player_url</th>\n",
              "      <th>fifa_version</th>\n",
              "      <th>fifa_update</th>\n",
              "      <th>fifa_update_date</th>\n",
              "      <th>short_name</th>\n",
              "      <th>long_name</th>\n",
              "      <th>player_positions</th>\n",
              "      <th>overall</th>\n",
              "      <th>potential</th>\n",
              "      <th>...</th>\n",
              "      <th>cdm</th>\n",
              "      <th>rdm</th>\n",
              "      <th>rwb</th>\n",
              "      <th>lb</th>\n",
              "      <th>lcb</th>\n",
              "      <th>cb</th>\n",
              "      <th>rcb</th>\n",
              "      <th>rb</th>\n",
              "      <th>gk</th>\n",
              "      <th>player_face_url</th>\n",
              "    </tr>\n",
              "  </thead>\n",
              "  <tbody>\n",
              "    <tr>\n",
              "      <th>0</th>\n",
              "      <td>158023</td>\n",
              "      <td>/player/158023/lionel-messi/150002</td>\n",
              "      <td>15</td>\n",
              "      <td>2</td>\n",
              "      <td>2014-09-18</td>\n",
              "      <td>L. Messi</td>\n",
              "      <td>Lionel Andrés Messi Cuccittini</td>\n",
              "      <td>CF</td>\n",
              "      <td>93</td>\n",
              "      <td>95</td>\n",
              "      <td>...</td>\n",
              "      <td>62+3</td>\n",
              "      <td>62+3</td>\n",
              "      <td>62+3</td>\n",
              "      <td>54+3</td>\n",
              "      <td>45+3</td>\n",
              "      <td>45+3</td>\n",
              "      <td>45+3</td>\n",
              "      <td>54+3</td>\n",
              "      <td>15+3</td>\n",
              "      <td>https://cdn.sofifa.net/players/158/023/15_120.png</td>\n",
              "    </tr>\n",
              "    <tr>\n",
              "      <th>1</th>\n",
              "      <td>20801</td>\n",
              "      <td>/player/20801/c-ronaldo-dos-santos-aveiro/150002</td>\n",
              "      <td>15</td>\n",
              "      <td>2</td>\n",
              "      <td>2014-09-18</td>\n",
              "      <td>Cristiano Ronaldo</td>\n",
              "      <td>Cristiano Ronaldo dos Santos Aveiro</td>\n",
              "      <td>LW, LM</td>\n",
              "      <td>92</td>\n",
              "      <td>92</td>\n",
              "      <td>...</td>\n",
              "      <td>63+3</td>\n",
              "      <td>63+3</td>\n",
              "      <td>63+3</td>\n",
              "      <td>57+3</td>\n",
              "      <td>52+3</td>\n",
              "      <td>52+3</td>\n",
              "      <td>52+3</td>\n",
              "      <td>57+3</td>\n",
              "      <td>16+3</td>\n",
              "      <td>https://cdn.sofifa.net/players/020/801/15_120.png</td>\n",
              "    </tr>\n",
              "    <tr>\n",
              "      <th>2</th>\n",
              "      <td>9014</td>\n",
              "      <td>/player/9014/arjen-robben/150002</td>\n",
              "      <td>15</td>\n",
              "      <td>2</td>\n",
              "      <td>2014-09-18</td>\n",
              "      <td>A. Robben</td>\n",
              "      <td>Arjen Robben</td>\n",
              "      <td>RM, LM, RW</td>\n",
              "      <td>90</td>\n",
              "      <td>90</td>\n",
              "      <td>...</td>\n",
              "      <td>64+3</td>\n",
              "      <td>64+3</td>\n",
              "      <td>64+3</td>\n",
              "      <td>55+3</td>\n",
              "      <td>46+3</td>\n",
              "      <td>46+3</td>\n",
              "      <td>46+3</td>\n",
              "      <td>55+3</td>\n",
              "      <td>14+3</td>\n",
              "      <td>https://cdn.sofifa.net/players/009/014/15_120.png</td>\n",
              "    </tr>\n",
              "    <tr>\n",
              "      <th>3</th>\n",
              "      <td>41236</td>\n",
              "      <td>/player/41236/zlatan-ibrahimovic/150002</td>\n",
              "      <td>15</td>\n",
              "      <td>2</td>\n",
              "      <td>2014-09-18</td>\n",
              "      <td>Z. Ibrahimović</td>\n",
              "      <td>Zlatan Ibrahimović</td>\n",
              "      <td>ST</td>\n",
              "      <td>90</td>\n",
              "      <td>90</td>\n",
              "      <td>...</td>\n",
              "      <td>65+3</td>\n",
              "      <td>65+3</td>\n",
              "      <td>61+3</td>\n",
              "      <td>56+3</td>\n",
              "      <td>55+3</td>\n",
              "      <td>55+3</td>\n",
              "      <td>55+3</td>\n",
              "      <td>56+3</td>\n",
              "      <td>17+3</td>\n",
              "      <td>https://cdn.sofifa.net/players/041/236/15_120.png</td>\n",
              "    </tr>\n",
              "    <tr>\n",
              "      <th>4</th>\n",
              "      <td>167495</td>\n",
              "      <td>/player/167495/manuel-neuer/150002</td>\n",
              "      <td>15</td>\n",
              "      <td>2</td>\n",
              "      <td>2014-09-18</td>\n",
              "      <td>M. Neuer</td>\n",
              "      <td>Manuel Peter Neuer</td>\n",
              "      <td>GK</td>\n",
              "      <td>90</td>\n",
              "      <td>90</td>\n",
              "      <td>...</td>\n",
              "      <td>40+3</td>\n",
              "      <td>40+3</td>\n",
              "      <td>36+3</td>\n",
              "      <td>36+3</td>\n",
              "      <td>38+3</td>\n",
              "      <td>38+3</td>\n",
              "      <td>38+3</td>\n",
              "      <td>36+3</td>\n",
              "      <td>87+3</td>\n",
              "      <td>https://cdn.sofifa.net/players/167/495/15_120.png</td>\n",
              "    </tr>\n",
              "  </tbody>\n",
              "</table>\n",
              "<p>5 rows × 110 columns</p>\n",
              "</div>\n",
              "    <div class=\"colab-df-buttons\">\n",
              "\n",
              "  <div class=\"colab-df-container\">\n",
              "    <button class=\"colab-df-convert\" onclick=\"convertToInteractive('df-7c18afdf-4bf3-40da-8f26-8f7304369efb')\"\n",
              "            title=\"Convert this dataframe to an interactive table.\"\n",
              "            style=\"display:none;\">\n",
              "\n",
              "  <svg xmlns=\"http://www.w3.org/2000/svg\" height=\"24px\" viewBox=\"0 -960 960 960\">\n",
              "    <path d=\"M120-120v-720h720v720H120Zm60-500h600v-160H180v160Zm220 220h160v-160H400v160Zm0 220h160v-160H400v160ZM180-400h160v-160H180v160Zm440 0h160v-160H620v160ZM180-180h160v-160H180v160Zm440 0h160v-160H620v160Z\"/>\n",
              "  </svg>\n",
              "    </button>\n",
              "\n",
              "  <style>\n",
              "    .colab-df-container {\n",
              "      display:flex;\n",
              "      gap: 12px;\n",
              "    }\n",
              "\n",
              "    .colab-df-convert {\n",
              "      background-color: #E8F0FE;\n",
              "      border: none;\n",
              "      border-radius: 50%;\n",
              "      cursor: pointer;\n",
              "      display: none;\n",
              "      fill: #1967D2;\n",
              "      height: 32px;\n",
              "      padding: 0 0 0 0;\n",
              "      width: 32px;\n",
              "    }\n",
              "\n",
              "    .colab-df-convert:hover {\n",
              "      background-color: #E2EBFA;\n",
              "      box-shadow: 0px 1px 2px rgba(60, 64, 67, 0.3), 0px 1px 3px 1px rgba(60, 64, 67, 0.15);\n",
              "      fill: #174EA6;\n",
              "    }\n",
              "\n",
              "    .colab-df-buttons div {\n",
              "      margin-bottom: 4px;\n",
              "    }\n",
              "\n",
              "    [theme=dark] .colab-df-convert {\n",
              "      background-color: #3B4455;\n",
              "      fill: #D2E3FC;\n",
              "    }\n",
              "\n",
              "    [theme=dark] .colab-df-convert:hover {\n",
              "      background-color: #434B5C;\n",
              "      box-shadow: 0px 1px 3px 1px rgba(0, 0, 0, 0.15);\n",
              "      filter: drop-shadow(0px 1px 2px rgba(0, 0, 0, 0.3));\n",
              "      fill: #FFFFFF;\n",
              "    }\n",
              "  </style>\n",
              "\n",
              "    <script>\n",
              "      const buttonEl =\n",
              "        document.querySelector('#df-7c18afdf-4bf3-40da-8f26-8f7304369efb button.colab-df-convert');\n",
              "      buttonEl.style.display =\n",
              "        google.colab.kernel.accessAllowed ? 'block' : 'none';\n",
              "\n",
              "      async function convertToInteractive(key) {\n",
              "        const element = document.querySelector('#df-7c18afdf-4bf3-40da-8f26-8f7304369efb');\n",
              "        const dataTable =\n",
              "          await google.colab.kernel.invokeFunction('convertToInteractive',\n",
              "                                                    [key], {});\n",
              "        if (!dataTable) return;\n",
              "\n",
              "        const docLinkHtml = 'Like what you see? Visit the ' +\n",
              "          '<a target=\"_blank\" href=https://colab.research.google.com/notebooks/data_table.ipynb>data table notebook</a>'\n",
              "          + ' to learn more about interactive tables.';\n",
              "        element.innerHTML = '';\n",
              "        dataTable['output_type'] = 'display_data';\n",
              "        await google.colab.output.renderOutput(dataTable, element);\n",
              "        const docLink = document.createElement('div');\n",
              "        docLink.innerHTML = docLinkHtml;\n",
              "        element.appendChild(docLink);\n",
              "      }\n",
              "    </script>\n",
              "  </div>\n",
              "\n",
              "\n",
              "<div id=\"df-1ac29ff4-1ce4-45aa-8db4-2cd5b40953fc\">\n",
              "  <button class=\"colab-df-quickchart\" onclick=\"quickchart('df-1ac29ff4-1ce4-45aa-8db4-2cd5b40953fc')\"\n",
              "            title=\"Suggest charts\"\n",
              "            style=\"display:none;\">\n",
              "\n",
              "<svg xmlns=\"http://www.w3.org/2000/svg\" height=\"24px\"viewBox=\"0 0 24 24\"\n",
              "     width=\"24px\">\n",
              "    <g>\n",
              "        <path d=\"M19 3H5c-1.1 0-2 .9-2 2v14c0 1.1.9 2 2 2h14c1.1 0 2-.9 2-2V5c0-1.1-.9-2-2-2zM9 17H7v-7h2v7zm4 0h-2V7h2v10zm4 0h-2v-4h2v4z\"/>\n",
              "    </g>\n",
              "</svg>\n",
              "  </button>\n",
              "\n",
              "<style>\n",
              "  .colab-df-quickchart {\n",
              "      --bg-color: #E8F0FE;\n",
              "      --fill-color: #1967D2;\n",
              "      --hover-bg-color: #E2EBFA;\n",
              "      --hover-fill-color: #174EA6;\n",
              "      --disabled-fill-color: #AAA;\n",
              "      --disabled-bg-color: #DDD;\n",
              "  }\n",
              "\n",
              "  [theme=dark] .colab-df-quickchart {\n",
              "      --bg-color: #3B4455;\n",
              "      --fill-color: #D2E3FC;\n",
              "      --hover-bg-color: #434B5C;\n",
              "      --hover-fill-color: #FFFFFF;\n",
              "      --disabled-bg-color: #3B4455;\n",
              "      --disabled-fill-color: #666;\n",
              "  }\n",
              "\n",
              "  .colab-df-quickchart {\n",
              "    background-color: var(--bg-color);\n",
              "    border: none;\n",
              "    border-radius: 50%;\n",
              "    cursor: pointer;\n",
              "    display: none;\n",
              "    fill: var(--fill-color);\n",
              "    height: 32px;\n",
              "    padding: 0;\n",
              "    width: 32px;\n",
              "  }\n",
              "\n",
              "  .colab-df-quickchart:hover {\n",
              "    background-color: var(--hover-bg-color);\n",
              "    box-shadow: 0 1px 2px rgba(60, 64, 67, 0.3), 0 1px 3px 1px rgba(60, 64, 67, 0.15);\n",
              "    fill: var(--button-hover-fill-color);\n",
              "  }\n",
              "\n",
              "  .colab-df-quickchart-complete:disabled,\n",
              "  .colab-df-quickchart-complete:disabled:hover {\n",
              "    background-color: var(--disabled-bg-color);\n",
              "    fill: var(--disabled-fill-color);\n",
              "    box-shadow: none;\n",
              "  }\n",
              "\n",
              "  .colab-df-spinner {\n",
              "    border: 2px solid var(--fill-color);\n",
              "    border-color: transparent;\n",
              "    border-bottom-color: var(--fill-color);\n",
              "    animation:\n",
              "      spin 1s steps(1) infinite;\n",
              "  }\n",
              "\n",
              "  @keyframes spin {\n",
              "    0% {\n",
              "      border-color: transparent;\n",
              "      border-bottom-color: var(--fill-color);\n",
              "      border-left-color: var(--fill-color);\n",
              "    }\n",
              "    20% {\n",
              "      border-color: transparent;\n",
              "      border-left-color: var(--fill-color);\n",
              "      border-top-color: var(--fill-color);\n",
              "    }\n",
              "    30% {\n",
              "      border-color: transparent;\n",
              "      border-left-color: var(--fill-color);\n",
              "      border-top-color: var(--fill-color);\n",
              "      border-right-color: var(--fill-color);\n",
              "    }\n",
              "    40% {\n",
              "      border-color: transparent;\n",
              "      border-right-color: var(--fill-color);\n",
              "      border-top-color: var(--fill-color);\n",
              "    }\n",
              "    60% {\n",
              "      border-color: transparent;\n",
              "      border-right-color: var(--fill-color);\n",
              "    }\n",
              "    80% {\n",
              "      border-color: transparent;\n",
              "      border-right-color: var(--fill-color);\n",
              "      border-bottom-color: var(--fill-color);\n",
              "    }\n",
              "    90% {\n",
              "      border-color: transparent;\n",
              "      border-bottom-color: var(--fill-color);\n",
              "    }\n",
              "  }\n",
              "</style>\n",
              "\n",
              "  <script>\n",
              "    async function quickchart(key) {\n",
              "      const quickchartButtonEl =\n",
              "        document.querySelector('#' + key + ' button');\n",
              "      quickchartButtonEl.disabled = true;  // To prevent multiple clicks.\n",
              "      quickchartButtonEl.classList.add('colab-df-spinner');\n",
              "      try {\n",
              "        const charts = await google.colab.kernel.invokeFunction(\n",
              "            'suggestCharts', [key], {});\n",
              "      } catch (error) {\n",
              "        console.error('Error during call to suggestCharts:', error);\n",
              "      }\n",
              "      quickchartButtonEl.classList.remove('colab-df-spinner');\n",
              "      quickchartButtonEl.classList.add('colab-df-quickchart-complete');\n",
              "    }\n",
              "    (() => {\n",
              "      let quickchartButtonEl =\n",
              "        document.querySelector('#df-1ac29ff4-1ce4-45aa-8db4-2cd5b40953fc button');\n",
              "      quickchartButtonEl.style.display =\n",
              "        google.colab.kernel.accessAllowed ? 'block' : 'none';\n",
              "    })();\n",
              "  </script>\n",
              "</div>\n",
              "\n",
              "    </div>\n",
              "  </div>\n"
            ],
            "application/vnd.google.colaboratory.intrinsic+json": {
              "type": "dataframe",
              "variable_name": "male_p"
            }
          },
          "metadata": {},
          "execution_count": 4
        }
      ],
      "source": [
        "male_p.head()"
      ]
    },
    {
      "cell_type": "markdown",
      "metadata": {
        "id": "_lt5ukV6mc15"
      },
      "source": [
        "Data Pre-Processing"
      ]
    },
    {
      "cell_type": "code",
      "source": [
        "male_p.info()"
      ],
      "metadata": {
        "colab": {
          "base_uri": "https://localhost:8080/"
        },
        "id": "QGFlEIafAO4p",
        "outputId": "7a3f1d4f-c4c4-489c-c0a9-04634a9414dc"
      },
      "execution_count": null,
      "outputs": [
        {
          "output_type": "stream",
          "name": "stdout",
          "text": [
            "<class 'pandas.core.frame.DataFrame'>\n",
            "RangeIndex: 161583 entries, 0 to 161582\n",
            "Columns: 110 entries, player_id to player_face_url\n",
            "dtypes: float64(18), int64(45), object(47)\n",
            "memory usage: 135.6+ MB\n"
          ]
        }
      ]
    },
    {
      "cell_type": "code",
      "execution_count": null,
      "metadata": {
        "colab": {
          "base_uri": "https://localhost:8080/",
          "height": 350
        },
        "id": "alqKLJlEmnKb",
        "outputId": "961ff90e-21d3-4e0d-f44c-15ff71ced294"
      },
      "outputs": [
        {
          "output_type": "execute_result",
          "data": {
            "text/plain": [
              "           player_id   fifa_version  fifa_update        overall  \\\n",
              "count  161583.000000  161583.000000     161583.0  161583.000000   \n",
              "mean   214484.722353      19.125514          2.0      65.699071   \n",
              "std     34928.608856       2.559318          0.0       7.040855   \n",
              "min         2.000000      15.000000          2.0      40.000000   \n",
              "25%    199159.000000      17.000000          2.0      61.000000   \n",
              "50%    220621.000000      19.000000          2.0      66.000000   \n",
              "75%    236958.000000      21.000000          2.0      70.000000   \n",
              "max    271817.000000      23.000000          2.0      94.000000   \n",
              "\n",
              "           potential     value_eur       wage_eur            age  \\\n",
              "count  161583.000000  1.595300e+05  159822.000000  161583.000000   \n",
              "mean       70.744008  2.326770e+06   10855.409768      25.123181   \n",
              "std         6.259121  6.005746e+06   21941.656285       4.670207   \n",
              "min        40.000000  1.000000e+03     500.000000      16.000000   \n",
              "25%        66.000000  3.250000e+05    2000.000000      21.000000   \n",
              "50%        70.000000  7.250000e+05    4000.000000      25.000000   \n",
              "75%        75.000000  1.800000e+06   10000.000000      28.000000   \n",
              "max        95.000000  1.940000e+08  575000.000000      54.000000   \n",
              "\n",
              "           height_cm      weight_kg  ...  mentality_composure  \\\n",
              "count  161583.000000  161583.000000  ...        128722.000000   \n",
              "mean      181.240205      75.235031  ...            57.816892   \n",
              "std         6.750148       7.000456  ...            12.329739   \n",
              "min       154.000000      49.000000  ...             3.000000   \n",
              "25%       176.000000      70.000000  ...            50.000000   \n",
              "50%       181.000000      75.000000  ...            59.000000   \n",
              "75%       186.000000      80.000000  ...            66.000000   \n",
              "max       208.000000     110.000000  ...            96.000000   \n",
              "\n",
              "       defending_marking_awareness  defending_standing_tackle  \\\n",
              "count                161583.000000              161583.000000   \n",
              "mean                     45.757957                  47.669996   \n",
              "std                      20.453699                  21.336404   \n",
              "min                       1.000000                   2.000000   \n",
              "25%                      26.000000                  27.000000   \n",
              "50%                      50.000000                  54.000000   \n",
              "75%                      63.000000                  66.000000   \n",
              "max                      94.000000                  94.000000   \n",
              "\n",
              "       defending_sliding_tackle  goalkeeping_diving  goalkeeping_handling  \\\n",
              "count             161583.000000        161583.00000         161583.000000   \n",
              "mean                  45.698588            16.52961             16.274918   \n",
              "std                   20.935273            17.67047             16.834294   \n",
              "min                    3.000000             1.00000              1.000000   \n",
              "25%                   25.000000             8.00000              8.000000   \n",
              "50%                   52.000000            11.00000             11.000000   \n",
              "75%                   64.000000            14.00000             14.000000   \n",
              "max                   95.000000            91.00000             92.000000   \n",
              "\n",
              "       goalkeeping_kicking  goalkeeping_positioning  goalkeeping_reflexes  \\\n",
              "count        161583.000000            161583.000000         161583.000000   \n",
              "mean             16.140374                16.288861             16.636973   \n",
              "std              16.476466                16.998697             17.980143   \n",
              "min               1.000000                 1.000000              1.000000   \n",
              "25%               8.000000                 8.000000              8.000000   \n",
              "50%              11.000000                11.000000             11.000000   \n",
              "75%              14.000000                14.000000             14.000000   \n",
              "max              95.000000                92.000000             94.000000   \n",
              "\n",
              "       goalkeeping_speed  \n",
              "count       17969.000000  \n",
              "mean           39.149090  \n",
              "std            10.503788  \n",
              "min            12.000000  \n",
              "25%            31.000000  \n",
              "50%            41.000000  \n",
              "75%            46.000000  \n",
              "max            68.000000  \n",
              "\n",
              "[8 rows x 63 columns]"
            ],
            "text/html": [
              "\n",
              "  <div id=\"df-9d876715-ae0d-4764-98ff-e66bdaa5a3de\" class=\"colab-df-container\">\n",
              "    <div>\n",
              "<style scoped>\n",
              "    .dataframe tbody tr th:only-of-type {\n",
              "        vertical-align: middle;\n",
              "    }\n",
              "\n",
              "    .dataframe tbody tr th {\n",
              "        vertical-align: top;\n",
              "    }\n",
              "\n",
              "    .dataframe thead th {\n",
              "        text-align: right;\n",
              "    }\n",
              "</style>\n",
              "<table border=\"1\" class=\"dataframe\">\n",
              "  <thead>\n",
              "    <tr style=\"text-align: right;\">\n",
              "      <th></th>\n",
              "      <th>player_id</th>\n",
              "      <th>fifa_version</th>\n",
              "      <th>fifa_update</th>\n",
              "      <th>overall</th>\n",
              "      <th>potential</th>\n",
              "      <th>value_eur</th>\n",
              "      <th>wage_eur</th>\n",
              "      <th>age</th>\n",
              "      <th>height_cm</th>\n",
              "      <th>weight_kg</th>\n",
              "      <th>...</th>\n",
              "      <th>mentality_composure</th>\n",
              "      <th>defending_marking_awareness</th>\n",
              "      <th>defending_standing_tackle</th>\n",
              "      <th>defending_sliding_tackle</th>\n",
              "      <th>goalkeeping_diving</th>\n",
              "      <th>goalkeeping_handling</th>\n",
              "      <th>goalkeeping_kicking</th>\n",
              "      <th>goalkeeping_positioning</th>\n",
              "      <th>goalkeeping_reflexes</th>\n",
              "      <th>goalkeeping_speed</th>\n",
              "    </tr>\n",
              "  </thead>\n",
              "  <tbody>\n",
              "    <tr>\n",
              "      <th>count</th>\n",
              "      <td>161583.000000</td>\n",
              "      <td>161583.000000</td>\n",
              "      <td>161583.0</td>\n",
              "      <td>161583.000000</td>\n",
              "      <td>161583.000000</td>\n",
              "      <td>1.595300e+05</td>\n",
              "      <td>159822.000000</td>\n",
              "      <td>161583.000000</td>\n",
              "      <td>161583.000000</td>\n",
              "      <td>161583.000000</td>\n",
              "      <td>...</td>\n",
              "      <td>128722.000000</td>\n",
              "      <td>161583.000000</td>\n",
              "      <td>161583.000000</td>\n",
              "      <td>161583.000000</td>\n",
              "      <td>161583.00000</td>\n",
              "      <td>161583.000000</td>\n",
              "      <td>161583.000000</td>\n",
              "      <td>161583.000000</td>\n",
              "      <td>161583.000000</td>\n",
              "      <td>17969.000000</td>\n",
              "    </tr>\n",
              "    <tr>\n",
              "      <th>mean</th>\n",
              "      <td>214484.722353</td>\n",
              "      <td>19.125514</td>\n",
              "      <td>2.0</td>\n",
              "      <td>65.699071</td>\n",
              "      <td>70.744008</td>\n",
              "      <td>2.326770e+06</td>\n",
              "      <td>10855.409768</td>\n",
              "      <td>25.123181</td>\n",
              "      <td>181.240205</td>\n",
              "      <td>75.235031</td>\n",
              "      <td>...</td>\n",
              "      <td>57.816892</td>\n",
              "      <td>45.757957</td>\n",
              "      <td>47.669996</td>\n",
              "      <td>45.698588</td>\n",
              "      <td>16.52961</td>\n",
              "      <td>16.274918</td>\n",
              "      <td>16.140374</td>\n",
              "      <td>16.288861</td>\n",
              "      <td>16.636973</td>\n",
              "      <td>39.149090</td>\n",
              "    </tr>\n",
              "    <tr>\n",
              "      <th>std</th>\n",
              "      <td>34928.608856</td>\n",
              "      <td>2.559318</td>\n",
              "      <td>0.0</td>\n",
              "      <td>7.040855</td>\n",
              "      <td>6.259121</td>\n",
              "      <td>6.005746e+06</td>\n",
              "      <td>21941.656285</td>\n",
              "      <td>4.670207</td>\n",
              "      <td>6.750148</td>\n",
              "      <td>7.000456</td>\n",
              "      <td>...</td>\n",
              "      <td>12.329739</td>\n",
              "      <td>20.453699</td>\n",
              "      <td>21.336404</td>\n",
              "      <td>20.935273</td>\n",
              "      <td>17.67047</td>\n",
              "      <td>16.834294</td>\n",
              "      <td>16.476466</td>\n",
              "      <td>16.998697</td>\n",
              "      <td>17.980143</td>\n",
              "      <td>10.503788</td>\n",
              "    </tr>\n",
              "    <tr>\n",
              "      <th>min</th>\n",
              "      <td>2.000000</td>\n",
              "      <td>15.000000</td>\n",
              "      <td>2.0</td>\n",
              "      <td>40.000000</td>\n",
              "      <td>40.000000</td>\n",
              "      <td>1.000000e+03</td>\n",
              "      <td>500.000000</td>\n",
              "      <td>16.000000</td>\n",
              "      <td>154.000000</td>\n",
              "      <td>49.000000</td>\n",
              "      <td>...</td>\n",
              "      <td>3.000000</td>\n",
              "      <td>1.000000</td>\n",
              "      <td>2.000000</td>\n",
              "      <td>3.000000</td>\n",
              "      <td>1.00000</td>\n",
              "      <td>1.000000</td>\n",
              "      <td>1.000000</td>\n",
              "      <td>1.000000</td>\n",
              "      <td>1.000000</td>\n",
              "      <td>12.000000</td>\n",
              "    </tr>\n",
              "    <tr>\n",
              "      <th>25%</th>\n",
              "      <td>199159.000000</td>\n",
              "      <td>17.000000</td>\n",
              "      <td>2.0</td>\n",
              "      <td>61.000000</td>\n",
              "      <td>66.000000</td>\n",
              "      <td>3.250000e+05</td>\n",
              "      <td>2000.000000</td>\n",
              "      <td>21.000000</td>\n",
              "      <td>176.000000</td>\n",
              "      <td>70.000000</td>\n",
              "      <td>...</td>\n",
              "      <td>50.000000</td>\n",
              "      <td>26.000000</td>\n",
              "      <td>27.000000</td>\n",
              "      <td>25.000000</td>\n",
              "      <td>8.00000</td>\n",
              "      <td>8.000000</td>\n",
              "      <td>8.000000</td>\n",
              "      <td>8.000000</td>\n",
              "      <td>8.000000</td>\n",
              "      <td>31.000000</td>\n",
              "    </tr>\n",
              "    <tr>\n",
              "      <th>50%</th>\n",
              "      <td>220621.000000</td>\n",
              "      <td>19.000000</td>\n",
              "      <td>2.0</td>\n",
              "      <td>66.000000</td>\n",
              "      <td>70.000000</td>\n",
              "      <td>7.250000e+05</td>\n",
              "      <td>4000.000000</td>\n",
              "      <td>25.000000</td>\n",
              "      <td>181.000000</td>\n",
              "      <td>75.000000</td>\n",
              "      <td>...</td>\n",
              "      <td>59.000000</td>\n",
              "      <td>50.000000</td>\n",
              "      <td>54.000000</td>\n",
              "      <td>52.000000</td>\n",
              "      <td>11.00000</td>\n",
              "      <td>11.000000</td>\n",
              "      <td>11.000000</td>\n",
              "      <td>11.000000</td>\n",
              "      <td>11.000000</td>\n",
              "      <td>41.000000</td>\n",
              "    </tr>\n",
              "    <tr>\n",
              "      <th>75%</th>\n",
              "      <td>236958.000000</td>\n",
              "      <td>21.000000</td>\n",
              "      <td>2.0</td>\n",
              "      <td>70.000000</td>\n",
              "      <td>75.000000</td>\n",
              "      <td>1.800000e+06</td>\n",
              "      <td>10000.000000</td>\n",
              "      <td>28.000000</td>\n",
              "      <td>186.000000</td>\n",
              "      <td>80.000000</td>\n",
              "      <td>...</td>\n",
              "      <td>66.000000</td>\n",
              "      <td>63.000000</td>\n",
              "      <td>66.000000</td>\n",
              "      <td>64.000000</td>\n",
              "      <td>14.00000</td>\n",
              "      <td>14.000000</td>\n",
              "      <td>14.000000</td>\n",
              "      <td>14.000000</td>\n",
              "      <td>14.000000</td>\n",
              "      <td>46.000000</td>\n",
              "    </tr>\n",
              "    <tr>\n",
              "      <th>max</th>\n",
              "      <td>271817.000000</td>\n",
              "      <td>23.000000</td>\n",
              "      <td>2.0</td>\n",
              "      <td>94.000000</td>\n",
              "      <td>95.000000</td>\n",
              "      <td>1.940000e+08</td>\n",
              "      <td>575000.000000</td>\n",
              "      <td>54.000000</td>\n",
              "      <td>208.000000</td>\n",
              "      <td>110.000000</td>\n",
              "      <td>...</td>\n",
              "      <td>96.000000</td>\n",
              "      <td>94.000000</td>\n",
              "      <td>94.000000</td>\n",
              "      <td>95.000000</td>\n",
              "      <td>91.00000</td>\n",
              "      <td>92.000000</td>\n",
              "      <td>95.000000</td>\n",
              "      <td>92.000000</td>\n",
              "      <td>94.000000</td>\n",
              "      <td>68.000000</td>\n",
              "    </tr>\n",
              "  </tbody>\n",
              "</table>\n",
              "<p>8 rows × 63 columns</p>\n",
              "</div>\n",
              "    <div class=\"colab-df-buttons\">\n",
              "\n",
              "  <div class=\"colab-df-container\">\n",
              "    <button class=\"colab-df-convert\" onclick=\"convertToInteractive('df-9d876715-ae0d-4764-98ff-e66bdaa5a3de')\"\n",
              "            title=\"Convert this dataframe to an interactive table.\"\n",
              "            style=\"display:none;\">\n",
              "\n",
              "  <svg xmlns=\"http://www.w3.org/2000/svg\" height=\"24px\" viewBox=\"0 -960 960 960\">\n",
              "    <path d=\"M120-120v-720h720v720H120Zm60-500h600v-160H180v160Zm220 220h160v-160H400v160Zm0 220h160v-160H400v160ZM180-400h160v-160H180v160Zm440 0h160v-160H620v160ZM180-180h160v-160H180v160Zm440 0h160v-160H620v160Z\"/>\n",
              "  </svg>\n",
              "    </button>\n",
              "\n",
              "  <style>\n",
              "    .colab-df-container {\n",
              "      display:flex;\n",
              "      gap: 12px;\n",
              "    }\n",
              "\n",
              "    .colab-df-convert {\n",
              "      background-color: #E8F0FE;\n",
              "      border: none;\n",
              "      border-radius: 50%;\n",
              "      cursor: pointer;\n",
              "      display: none;\n",
              "      fill: #1967D2;\n",
              "      height: 32px;\n",
              "      padding: 0 0 0 0;\n",
              "      width: 32px;\n",
              "    }\n",
              "\n",
              "    .colab-df-convert:hover {\n",
              "      background-color: #E2EBFA;\n",
              "      box-shadow: 0px 1px 2px rgba(60, 64, 67, 0.3), 0px 1px 3px 1px rgba(60, 64, 67, 0.15);\n",
              "      fill: #174EA6;\n",
              "    }\n",
              "\n",
              "    .colab-df-buttons div {\n",
              "      margin-bottom: 4px;\n",
              "    }\n",
              "\n",
              "    [theme=dark] .colab-df-convert {\n",
              "      background-color: #3B4455;\n",
              "      fill: #D2E3FC;\n",
              "    }\n",
              "\n",
              "    [theme=dark] .colab-df-convert:hover {\n",
              "      background-color: #434B5C;\n",
              "      box-shadow: 0px 1px 3px 1px rgba(0, 0, 0, 0.15);\n",
              "      filter: drop-shadow(0px 1px 2px rgba(0, 0, 0, 0.3));\n",
              "      fill: #FFFFFF;\n",
              "    }\n",
              "  </style>\n",
              "\n",
              "    <script>\n",
              "      const buttonEl =\n",
              "        document.querySelector('#df-9d876715-ae0d-4764-98ff-e66bdaa5a3de button.colab-df-convert');\n",
              "      buttonEl.style.display =\n",
              "        google.colab.kernel.accessAllowed ? 'block' : 'none';\n",
              "\n",
              "      async function convertToInteractive(key) {\n",
              "        const element = document.querySelector('#df-9d876715-ae0d-4764-98ff-e66bdaa5a3de');\n",
              "        const dataTable =\n",
              "          await google.colab.kernel.invokeFunction('convertToInteractive',\n",
              "                                                    [key], {});\n",
              "        if (!dataTable) return;\n",
              "\n",
              "        const docLinkHtml = 'Like what you see? Visit the ' +\n",
              "          '<a target=\"_blank\" href=https://colab.research.google.com/notebooks/data_table.ipynb>data table notebook</a>'\n",
              "          + ' to learn more about interactive tables.';\n",
              "        element.innerHTML = '';\n",
              "        dataTable['output_type'] = 'display_data';\n",
              "        await google.colab.output.renderOutput(dataTable, element);\n",
              "        const docLink = document.createElement('div');\n",
              "        docLink.innerHTML = docLinkHtml;\n",
              "        element.appendChild(docLink);\n",
              "      }\n",
              "    </script>\n",
              "  </div>\n",
              "\n",
              "\n",
              "<div id=\"df-86bbc4ef-bcc8-486f-ae16-435f74901bfa\">\n",
              "  <button class=\"colab-df-quickchart\" onclick=\"quickchart('df-86bbc4ef-bcc8-486f-ae16-435f74901bfa')\"\n",
              "            title=\"Suggest charts\"\n",
              "            style=\"display:none;\">\n",
              "\n",
              "<svg xmlns=\"http://www.w3.org/2000/svg\" height=\"24px\"viewBox=\"0 0 24 24\"\n",
              "     width=\"24px\">\n",
              "    <g>\n",
              "        <path d=\"M19 3H5c-1.1 0-2 .9-2 2v14c0 1.1.9 2 2 2h14c1.1 0 2-.9 2-2V5c0-1.1-.9-2-2-2zM9 17H7v-7h2v7zm4 0h-2V7h2v10zm4 0h-2v-4h2v4z\"/>\n",
              "    </g>\n",
              "</svg>\n",
              "  </button>\n",
              "\n",
              "<style>\n",
              "  .colab-df-quickchart {\n",
              "      --bg-color: #E8F0FE;\n",
              "      --fill-color: #1967D2;\n",
              "      --hover-bg-color: #E2EBFA;\n",
              "      --hover-fill-color: #174EA6;\n",
              "      --disabled-fill-color: #AAA;\n",
              "      --disabled-bg-color: #DDD;\n",
              "  }\n",
              "\n",
              "  [theme=dark] .colab-df-quickchart {\n",
              "      --bg-color: #3B4455;\n",
              "      --fill-color: #D2E3FC;\n",
              "      --hover-bg-color: #434B5C;\n",
              "      --hover-fill-color: #FFFFFF;\n",
              "      --disabled-bg-color: #3B4455;\n",
              "      --disabled-fill-color: #666;\n",
              "  }\n",
              "\n",
              "  .colab-df-quickchart {\n",
              "    background-color: var(--bg-color);\n",
              "    border: none;\n",
              "    border-radius: 50%;\n",
              "    cursor: pointer;\n",
              "    display: none;\n",
              "    fill: var(--fill-color);\n",
              "    height: 32px;\n",
              "    padding: 0;\n",
              "    width: 32px;\n",
              "  }\n",
              "\n",
              "  .colab-df-quickchart:hover {\n",
              "    background-color: var(--hover-bg-color);\n",
              "    box-shadow: 0 1px 2px rgba(60, 64, 67, 0.3), 0 1px 3px 1px rgba(60, 64, 67, 0.15);\n",
              "    fill: var(--button-hover-fill-color);\n",
              "  }\n",
              "\n",
              "  .colab-df-quickchart-complete:disabled,\n",
              "  .colab-df-quickchart-complete:disabled:hover {\n",
              "    background-color: var(--disabled-bg-color);\n",
              "    fill: var(--disabled-fill-color);\n",
              "    box-shadow: none;\n",
              "  }\n",
              "\n",
              "  .colab-df-spinner {\n",
              "    border: 2px solid var(--fill-color);\n",
              "    border-color: transparent;\n",
              "    border-bottom-color: var(--fill-color);\n",
              "    animation:\n",
              "      spin 1s steps(1) infinite;\n",
              "  }\n",
              "\n",
              "  @keyframes spin {\n",
              "    0% {\n",
              "      border-color: transparent;\n",
              "      border-bottom-color: var(--fill-color);\n",
              "      border-left-color: var(--fill-color);\n",
              "    }\n",
              "    20% {\n",
              "      border-color: transparent;\n",
              "      border-left-color: var(--fill-color);\n",
              "      border-top-color: var(--fill-color);\n",
              "    }\n",
              "    30% {\n",
              "      border-color: transparent;\n",
              "      border-left-color: var(--fill-color);\n",
              "      border-top-color: var(--fill-color);\n",
              "      border-right-color: var(--fill-color);\n",
              "    }\n",
              "    40% {\n",
              "      border-color: transparent;\n",
              "      border-right-color: var(--fill-color);\n",
              "      border-top-color: var(--fill-color);\n",
              "    }\n",
              "    60% {\n",
              "      border-color: transparent;\n",
              "      border-right-color: var(--fill-color);\n",
              "    }\n",
              "    80% {\n",
              "      border-color: transparent;\n",
              "      border-right-color: var(--fill-color);\n",
              "      border-bottom-color: var(--fill-color);\n",
              "    }\n",
              "    90% {\n",
              "      border-color: transparent;\n",
              "      border-bottom-color: var(--fill-color);\n",
              "    }\n",
              "  }\n",
              "</style>\n",
              "\n",
              "  <script>\n",
              "    async function quickchart(key) {\n",
              "      const quickchartButtonEl =\n",
              "        document.querySelector('#' + key + ' button');\n",
              "      quickchartButtonEl.disabled = true;  // To prevent multiple clicks.\n",
              "      quickchartButtonEl.classList.add('colab-df-spinner');\n",
              "      try {\n",
              "        const charts = await google.colab.kernel.invokeFunction(\n",
              "            'suggestCharts', [key], {});\n",
              "      } catch (error) {\n",
              "        console.error('Error during call to suggestCharts:', error);\n",
              "      }\n",
              "      quickchartButtonEl.classList.remove('colab-df-spinner');\n",
              "      quickchartButtonEl.classList.add('colab-df-quickchart-complete');\n",
              "    }\n",
              "    (() => {\n",
              "      let quickchartButtonEl =\n",
              "        document.querySelector('#df-86bbc4ef-bcc8-486f-ae16-435f74901bfa button');\n",
              "      quickchartButtonEl.style.display =\n",
              "        google.colab.kernel.accessAllowed ? 'block' : 'none';\n",
              "    })();\n",
              "  </script>\n",
              "</div>\n",
              "\n",
              "    </div>\n",
              "  </div>\n"
            ],
            "application/vnd.google.colaboratory.intrinsic+json": {
              "type": "dataframe"
            }
          },
          "metadata": {},
          "execution_count": 6
        }
      ],
      "source": [
        "male_p.describe()"
      ]
    },
    {
      "cell_type": "code",
      "execution_count": null,
      "metadata": {
        "colab": {
          "base_uri": "https://localhost:8080/"
        },
        "id": "1RejZoaImvWF",
        "outputId": "1d43dbcf-6073-4483-ae31-aff1fdf955fc"
      },
      "outputs": [
        {
          "output_type": "stream",
          "name": "stdout",
          "text": [
            "Shape of the data: 110\n"
          ]
        }
      ],
      "source": [
        "print(f'Shape of the data: {male_p.shape[1]}')"
      ]
    },
    {
      "cell_type": "code",
      "execution_count": null,
      "metadata": {
        "id": "Ca3QLkPnnkOp"
      },
      "outputs": [],
      "source": [
        "#handling missing data\n",
        "\n",
        "na = []\n",
        "no_na = []"
      ]
    },
    {
      "cell_type": "code",
      "execution_count": null,
      "metadata": {
        "id": "O7d20lWloGXb"
      },
      "outputs": [],
      "source": [
        "for col in male_p.columns:\n",
        "  if male_p[col].isnull().sum() / len(male_p) > 0.3:\n",
        "    na.append(col)\n",
        "  else:\n",
        "    no_na.append(col)"
      ]
    },
    {
      "cell_type": "code",
      "execution_count": null,
      "metadata": {
        "colab": {
          "base_uri": "https://localhost:8080/"
        },
        "id": "NP9ESdNUoNnt",
        "outputId": "15807c84-ec89-4208-d496-1f37616d061b"
      },
      "outputs": [
        {
          "output_type": "execute_result",
          "data": {
            "text/plain": [
              "['club_loaned_from',\n",
              " 'nation_team_id',\n",
              " 'nation_position',\n",
              " 'nation_jersey_number',\n",
              " 'release_clause_eur',\n",
              " 'player_tags',\n",
              " 'player_traits',\n",
              " 'goalkeeping_speed']"
            ]
          },
          "metadata": {},
          "execution_count": 10
        }
      ],
      "source": [
        "na"
      ]
    },
    {
      "cell_type": "code",
      "execution_count": null,
      "metadata": {
        "id": "psQa7h37o8lJ"
      },
      "outputs": [],
      "source": [
        "m_players = male_p.drop(columns = na)"
      ]
    },
    {
      "cell_type": "code",
      "source": [
        "m_players.shape[1]"
      ],
      "metadata": {
        "colab": {
          "base_uri": "https://localhost:8080/"
        },
        "id": "e8FLY1xqqmRL",
        "outputId": "85111d32-faa4-4b6c-86ea-4befacb1307a"
      },
      "execution_count": null,
      "outputs": [
        {
          "output_type": "execute_result",
          "data": {
            "text/plain": [
              "102"
            ]
          },
          "metadata": {},
          "execution_count": 12
        }
      ]
    },
    {
      "cell_type": "code",
      "source": [
        "m_players.info()"
      ],
      "metadata": {
        "colab": {
          "base_uri": "https://localhost:8080/"
        },
        "id": "uuZM_iGLqrpf",
        "outputId": "c49ec06d-750e-4403-a26b-407eb9c24268"
      },
      "execution_count": null,
      "outputs": [
        {
          "output_type": "stream",
          "name": "stdout",
          "text": [
            "<class 'pandas.core.frame.DataFrame'>\n",
            "RangeIndex: 161583 entries, 0 to 161582\n",
            "Columns: 102 entries, player_id to player_face_url\n",
            "dtypes: float64(14), int64(45), object(43)\n",
            "memory usage: 125.7+ MB\n"
          ]
        }
      ]
    },
    {
      "cell_type": "code",
      "source": [
        "#checking correltions\n",
        "\n",
        "correlation_matrix = m_players.select_dtypes(include=[np.number]).corr()"
      ],
      "metadata": {
        "id": "89swktRyrcht"
      },
      "execution_count": null,
      "outputs": []
    },
    {
      "cell_type": "code",
      "source": [
        "corr = correlation_matrix['overall'].sort_values(ascending=False)"
      ],
      "metadata": {
        "id": "mBU2hpa2wwLW"
      },
      "execution_count": null,
      "outputs": []
    },
    {
      "cell_type": "code",
      "source": [
        "corr"
      ],
      "metadata": {
        "colab": {
          "base_uri": "https://localhost:8080/"
        },
        "id": "7IvzSo-HxD8O",
        "outputId": "a1285f46-1762-49f7-81a1-370f24aa2061"
      },
      "execution_count": null,
      "outputs": [
        {
          "output_type": "execute_result",
          "data": {
            "text/plain": [
              "overall                           1.000000\n",
              "movement_reactions                0.845753\n",
              "potential                         0.695362\n",
              "mentality_composure               0.683307\n",
              "passing                           0.681114\n",
              "wage_eur                          0.611368\n",
              "dribbling                         0.606575\n",
              "value_eur                         0.566827\n",
              "physic                            0.513279\n",
              "attacking_short_passing           0.499757\n",
              "mentality_vision                  0.493282\n",
              "international_reputation          0.485234\n",
              "skill_long_passing                0.483808\n",
              "shooting                          0.482498\n",
              "power_shot_power                  0.480297\n",
              "age                               0.458390\n",
              "skill_ball_control                0.457011\n",
              "skill_curve                       0.415863\n",
              "power_long_shots                  0.409086\n",
              "mentality_aggression              0.398310\n",
              "attacking_crossing                0.396833\n",
              "skill_fk_accuracy                 0.387269\n",
              "attacking_volleys                 0.377048\n",
              "skill_dribbling                   0.369827\n",
              "power_stamina                     0.360025\n",
              "power_strength                    0.350786\n",
              "mentality_positioning             0.350178\n",
              "attacking_heading_accuracy        0.340029\n",
              "mentality_penalties               0.334488\n",
              "skill_moves                       0.330951\n",
              "attacking_finishing               0.326376\n",
              "defending                         0.325151\n",
              "mentality_interceptions           0.314282\n",
              "power_jumping                     0.275578\n",
              "defending_marking_awareness       0.274173\n",
              "movement_agility                  0.263671\n",
              "defending_standing_tackle         0.250624\n",
              "defending_sliding_tackle          0.220398\n",
              "weak_foot                         0.217422\n",
              "movement_sprint_speed             0.208990\n",
              "movement_acceleration             0.194625\n",
              "pace                              0.187184\n",
              "weight_kg                         0.140015\n",
              "movement_balance                  0.099129\n",
              "club_contract_valid_until_year    0.072073\n",
              "fifa_version                      0.047487\n",
              "height_cm                         0.044415\n",
              "goalkeeping_positioning          -0.004731\n",
              "goalkeeping_handling             -0.010862\n",
              "goalkeeping_reflexes             -0.011783\n",
              "goalkeeping_diving               -0.013603\n",
              "goalkeeping_kicking              -0.015521\n",
              "nationality_id                   -0.093951\n",
              "league_id                        -0.152280\n",
              "club_team_id                     -0.178272\n",
              "club_jersey_number               -0.187109\n",
              "league_level                     -0.221734\n",
              "player_id                        -0.368772\n",
              "fifa_update                            NaN\n",
              "Name: overall, dtype: float64"
            ]
          },
          "metadata": {},
          "execution_count": 16
        }
      ]
    },
    {
      "cell_type": "code",
      "source": [
        "#selected features based on correlation and inference about real-world player performance determinants\n",
        "\n",
        "selected_features = ['overall', 'passing', 'dribbling', 'attacking_short_passing', 'shooting',\n",
        "                  'skill_long_passing', 'skill_ball_control', 'attacking_crossing',\n",
        "                  'skill_fk_accuracy', 'mentality_vision', 'mentality_aggression',\n",
        "                  'mentality_positioning', 'mentality_penalties', 'movement_reactions',\n",
        "                  'potential', 'wage_eur', 'value_eur', 'international_reputation', 'physic',\n",
        "                  'age', 'goalkeeping_diving', 'goalkeeping_handling', 'goalkeeping_kicking',\n",
        "                  'goalkeeping_positioning', 'goalkeeping_reflexes'\n",
        "]"
      ],
      "metadata": {
        "id": "9MSzrPlK2_xa"
      },
      "execution_count": null,
      "outputs": []
    },
    {
      "cell_type": "code",
      "source": [
        "new_player_features = m_players[selected_features]"
      ],
      "metadata": {
        "id": "4znwiUhkE9Na"
      },
      "execution_count": null,
      "outputs": []
    },
    {
      "cell_type": "code",
      "source": [
        "new_player_features.columns"
      ],
      "metadata": {
        "colab": {
          "base_uri": "https://localhost:8080/"
        },
        "id": "kt-iy6YLGy6L",
        "outputId": "9dd19d64-c72b-4484-924d-e3a3e0b303aa"
      },
      "execution_count": null,
      "outputs": [
        {
          "output_type": "execute_result",
          "data": {
            "text/plain": [
              "Index(['overall', 'passing', 'dribbling', 'attacking_short_passing',\n",
              "       'shooting', 'skill_long_passing', 'skill_ball_control',\n",
              "       'attacking_crossing', 'skill_fk_accuracy', 'mentality_vision',\n",
              "       'mentality_aggression', 'mentality_positioning', 'mentality_penalties',\n",
              "       'movement_reactions', 'potential', 'wage_eur', 'value_eur',\n",
              "       'international_reputation', 'physic', 'age', 'goalkeeping_diving',\n",
              "       'goalkeeping_handling', 'goalkeeping_kicking',\n",
              "       'goalkeeping_positioning', 'goalkeeping_reflexes'],\n",
              "      dtype='object')"
            ]
          },
          "metadata": {},
          "execution_count": 19
        }
      ]
    },
    {
      "cell_type": "code",
      "source": [
        "new_player_features.fillna(new_player_features.median(), inplace=True)"
      ],
      "metadata": {
        "colab": {
          "base_uri": "https://localhost:8080/"
        },
        "id": "tBxL29YYHcSp",
        "outputId": "c070e310-ec9c-4ef0-9461-a9171c13f48e"
      },
      "execution_count": null,
      "outputs": [
        {
          "output_type": "stream",
          "name": "stderr",
          "text": [
            "<ipython-input-20-81bffd98691c>:1: SettingWithCopyWarning: \n",
            "A value is trying to be set on a copy of a slice from a DataFrame\n",
            "\n",
            "See the caveats in the documentation: https://pandas.pydata.org/pandas-docs/stable/user_guide/indexing.html#returning-a-view-versus-a-copy\n",
            "  new_player_features.fillna(new_player_features.median(), inplace=True)\n"
          ]
        }
      ]
    },
    {
      "cell_type": "code",
      "source": [
        "new_player_features"
      ],
      "metadata": {
        "colab": {
          "base_uri": "https://localhost:8080/",
          "height": 444
        },
        "id": "vWrLPYggHcHu",
        "outputId": "a6df7cc9-de89-47d1-a2fd-c67ab85a41d5"
      },
      "execution_count": null,
      "outputs": [
        {
          "output_type": "execute_result",
          "data": {
            "text/plain": [
              "        overall  passing  dribbling  attacking_short_passing  shooting  \\\n",
              "0            93     86.0       96.0                       89      89.0   \n",
              "1            92     81.0       91.0                       82      93.0   \n",
              "2            90     83.0       92.0                       86      86.0   \n",
              "3            90     81.0       86.0                       84      91.0   \n",
              "4            90     58.0       63.0                       42      54.0   \n",
              "...         ...      ...        ...                      ...       ...   \n",
              "161578       46     40.0       47.0                       38      48.0   \n",
              "161579       46     29.0       34.0                       30      25.0   \n",
              "161580       46     43.0       46.0                       51      36.0   \n",
              "161581       46     36.0       46.0                       40      50.0   \n",
              "161582       46     26.0       32.0                       32      22.0   \n",
              "\n",
              "        skill_long_passing  skill_ball_control  attacking_crossing  \\\n",
              "0                       76                  96                  84   \n",
              "1                       72                  92                  83   \n",
              "2                       76                  90                  80   \n",
              "3                       76                  90                  76   \n",
              "4                       41                  31                  25   \n",
              "...                    ...                 ...                 ...   \n",
              "161578                  33                  45                  48   \n",
              "161579                  25                  32                  30   \n",
              "161580                  43                  35                  37   \n",
              "161581                  26                  43                  29   \n",
              "161582                  29                  31                  21   \n",
              "\n",
              "        skill_fk_accuracy  mentality_vision  ...  wage_eur    value_eur  \\\n",
              "0                      90                90  ...  550000.0  100500000.0   \n",
              "1                      79                81  ...  375000.0   79000000.0   \n",
              "2                      83                84  ...  275000.0   54500000.0   \n",
              "3                      80                83  ...  275000.0   52500000.0   \n",
              "4                      25                20  ...  300000.0   63500000.0   \n",
              "...                   ...               ...  ...       ...          ...   \n",
              "161578                 35                42  ...     700.0     110000.0   \n",
              "161579                 26                31  ...     750.0     110000.0   \n",
              "161580                 30                40  ...     500.0     110000.0   \n",
              "161581                 25                44  ...     500.0     150000.0   \n",
              "161582                 20                20  ...     500.0     110000.0   \n",
              "\n",
              "        international_reputation  physic  age  goalkeeping_diving  \\\n",
              "0                              5    63.0   27                   6   \n",
              "1                              5    79.0   29                   7   \n",
              "2                              5    64.0   30                  10   \n",
              "3                              5    86.0   32                  13   \n",
              "4                              5    66.0   28                  87   \n",
              "...                          ...     ...  ...                 ...   \n",
              "161578                         1    44.0   18                   9   \n",
              "161579                         1    57.0   19                   6   \n",
              "161580                         1    53.0   19                   8   \n",
              "161581                         1    42.0   17                  13   \n",
              "161582                         1    57.0   17                  13   \n",
              "\n",
              "        goalkeeping_handling  goalkeeping_kicking  goalkeeping_positioning  \\\n",
              "0                         11                   15                       14   \n",
              "1                         11                   15                       14   \n",
              "2                          8                   11                        5   \n",
              "3                         15                   10                        9   \n",
              "4                         85                   92                       90   \n",
              "...                      ...                  ...                      ...   \n",
              "161578                    13                   13                       12   \n",
              "161579                    14                    8                       13   \n",
              "161580                     9                    7                       14   \n",
              "161581                    12                   14                        7   \n",
              "161582                     7                    6                        6   \n",
              "\n",
              "        goalkeeping_reflexes  \n",
              "0                          8  \n",
              "1                         11  \n",
              "2                         15  \n",
              "3                         12  \n",
              "4                         86  \n",
              "...                      ...  \n",
              "161578                     7  \n",
              "161579                    14  \n",
              "161580                     9  \n",
              "161581                    13  \n",
              "161582                    14  \n",
              "\n",
              "[161583 rows x 25 columns]"
            ],
            "text/html": [
              "\n",
              "  <div id=\"df-66f7656a-5338-42b6-94d7-7f81c631ce1f\" class=\"colab-df-container\">\n",
              "    <div>\n",
              "<style scoped>\n",
              "    .dataframe tbody tr th:only-of-type {\n",
              "        vertical-align: middle;\n",
              "    }\n",
              "\n",
              "    .dataframe tbody tr th {\n",
              "        vertical-align: top;\n",
              "    }\n",
              "\n",
              "    .dataframe thead th {\n",
              "        text-align: right;\n",
              "    }\n",
              "</style>\n",
              "<table border=\"1\" class=\"dataframe\">\n",
              "  <thead>\n",
              "    <tr style=\"text-align: right;\">\n",
              "      <th></th>\n",
              "      <th>overall</th>\n",
              "      <th>passing</th>\n",
              "      <th>dribbling</th>\n",
              "      <th>attacking_short_passing</th>\n",
              "      <th>shooting</th>\n",
              "      <th>skill_long_passing</th>\n",
              "      <th>skill_ball_control</th>\n",
              "      <th>attacking_crossing</th>\n",
              "      <th>skill_fk_accuracy</th>\n",
              "      <th>mentality_vision</th>\n",
              "      <th>...</th>\n",
              "      <th>wage_eur</th>\n",
              "      <th>value_eur</th>\n",
              "      <th>international_reputation</th>\n",
              "      <th>physic</th>\n",
              "      <th>age</th>\n",
              "      <th>goalkeeping_diving</th>\n",
              "      <th>goalkeeping_handling</th>\n",
              "      <th>goalkeeping_kicking</th>\n",
              "      <th>goalkeeping_positioning</th>\n",
              "      <th>goalkeeping_reflexes</th>\n",
              "    </tr>\n",
              "  </thead>\n",
              "  <tbody>\n",
              "    <tr>\n",
              "      <th>0</th>\n",
              "      <td>93</td>\n",
              "      <td>86.0</td>\n",
              "      <td>96.0</td>\n",
              "      <td>89</td>\n",
              "      <td>89.0</td>\n",
              "      <td>76</td>\n",
              "      <td>96</td>\n",
              "      <td>84</td>\n",
              "      <td>90</td>\n",
              "      <td>90</td>\n",
              "      <td>...</td>\n",
              "      <td>550000.0</td>\n",
              "      <td>100500000.0</td>\n",
              "      <td>5</td>\n",
              "      <td>63.0</td>\n",
              "      <td>27</td>\n",
              "      <td>6</td>\n",
              "      <td>11</td>\n",
              "      <td>15</td>\n",
              "      <td>14</td>\n",
              "      <td>8</td>\n",
              "    </tr>\n",
              "    <tr>\n",
              "      <th>1</th>\n",
              "      <td>92</td>\n",
              "      <td>81.0</td>\n",
              "      <td>91.0</td>\n",
              "      <td>82</td>\n",
              "      <td>93.0</td>\n",
              "      <td>72</td>\n",
              "      <td>92</td>\n",
              "      <td>83</td>\n",
              "      <td>79</td>\n",
              "      <td>81</td>\n",
              "      <td>...</td>\n",
              "      <td>375000.0</td>\n",
              "      <td>79000000.0</td>\n",
              "      <td>5</td>\n",
              "      <td>79.0</td>\n",
              "      <td>29</td>\n",
              "      <td>7</td>\n",
              "      <td>11</td>\n",
              "      <td>15</td>\n",
              "      <td>14</td>\n",
              "      <td>11</td>\n",
              "    </tr>\n",
              "    <tr>\n",
              "      <th>2</th>\n",
              "      <td>90</td>\n",
              "      <td>83.0</td>\n",
              "      <td>92.0</td>\n",
              "      <td>86</td>\n",
              "      <td>86.0</td>\n",
              "      <td>76</td>\n",
              "      <td>90</td>\n",
              "      <td>80</td>\n",
              "      <td>83</td>\n",
              "      <td>84</td>\n",
              "      <td>...</td>\n",
              "      <td>275000.0</td>\n",
              "      <td>54500000.0</td>\n",
              "      <td>5</td>\n",
              "      <td>64.0</td>\n",
              "      <td>30</td>\n",
              "      <td>10</td>\n",
              "      <td>8</td>\n",
              "      <td>11</td>\n",
              "      <td>5</td>\n",
              "      <td>15</td>\n",
              "    </tr>\n",
              "    <tr>\n",
              "      <th>3</th>\n",
              "      <td>90</td>\n",
              "      <td>81.0</td>\n",
              "      <td>86.0</td>\n",
              "      <td>84</td>\n",
              "      <td>91.0</td>\n",
              "      <td>76</td>\n",
              "      <td>90</td>\n",
              "      <td>76</td>\n",
              "      <td>80</td>\n",
              "      <td>83</td>\n",
              "      <td>...</td>\n",
              "      <td>275000.0</td>\n",
              "      <td>52500000.0</td>\n",
              "      <td>5</td>\n",
              "      <td>86.0</td>\n",
              "      <td>32</td>\n",
              "      <td>13</td>\n",
              "      <td>15</td>\n",
              "      <td>10</td>\n",
              "      <td>9</td>\n",
              "      <td>12</td>\n",
              "    </tr>\n",
              "    <tr>\n",
              "      <th>4</th>\n",
              "      <td>90</td>\n",
              "      <td>58.0</td>\n",
              "      <td>63.0</td>\n",
              "      <td>42</td>\n",
              "      <td>54.0</td>\n",
              "      <td>41</td>\n",
              "      <td>31</td>\n",
              "      <td>25</td>\n",
              "      <td>25</td>\n",
              "      <td>20</td>\n",
              "      <td>...</td>\n",
              "      <td>300000.0</td>\n",
              "      <td>63500000.0</td>\n",
              "      <td>5</td>\n",
              "      <td>66.0</td>\n",
              "      <td>28</td>\n",
              "      <td>87</td>\n",
              "      <td>85</td>\n",
              "      <td>92</td>\n",
              "      <td>90</td>\n",
              "      <td>86</td>\n",
              "    </tr>\n",
              "    <tr>\n",
              "      <th>...</th>\n",
              "      <td>...</td>\n",
              "      <td>...</td>\n",
              "      <td>...</td>\n",
              "      <td>...</td>\n",
              "      <td>...</td>\n",
              "      <td>...</td>\n",
              "      <td>...</td>\n",
              "      <td>...</td>\n",
              "      <td>...</td>\n",
              "      <td>...</td>\n",
              "      <td>...</td>\n",
              "      <td>...</td>\n",
              "      <td>...</td>\n",
              "      <td>...</td>\n",
              "      <td>...</td>\n",
              "      <td>...</td>\n",
              "      <td>...</td>\n",
              "      <td>...</td>\n",
              "      <td>...</td>\n",
              "      <td>...</td>\n",
              "      <td>...</td>\n",
              "    </tr>\n",
              "    <tr>\n",
              "      <th>161578</th>\n",
              "      <td>46</td>\n",
              "      <td>40.0</td>\n",
              "      <td>47.0</td>\n",
              "      <td>38</td>\n",
              "      <td>48.0</td>\n",
              "      <td>33</td>\n",
              "      <td>45</td>\n",
              "      <td>48</td>\n",
              "      <td>35</td>\n",
              "      <td>42</td>\n",
              "      <td>...</td>\n",
              "      <td>700.0</td>\n",
              "      <td>110000.0</td>\n",
              "      <td>1</td>\n",
              "      <td>44.0</td>\n",
              "      <td>18</td>\n",
              "      <td>9</td>\n",
              "      <td>13</td>\n",
              "      <td>13</td>\n",
              "      <td>12</td>\n",
              "      <td>7</td>\n",
              "    </tr>\n",
              "    <tr>\n",
              "      <th>161579</th>\n",
              "      <td>46</td>\n",
              "      <td>29.0</td>\n",
              "      <td>34.0</td>\n",
              "      <td>30</td>\n",
              "      <td>25.0</td>\n",
              "      <td>25</td>\n",
              "      <td>32</td>\n",
              "      <td>30</td>\n",
              "      <td>26</td>\n",
              "      <td>31</td>\n",
              "      <td>...</td>\n",
              "      <td>750.0</td>\n",
              "      <td>110000.0</td>\n",
              "      <td>1</td>\n",
              "      <td>57.0</td>\n",
              "      <td>19</td>\n",
              "      <td>6</td>\n",
              "      <td>14</td>\n",
              "      <td>8</td>\n",
              "      <td>13</td>\n",
              "      <td>14</td>\n",
              "    </tr>\n",
              "    <tr>\n",
              "      <th>161580</th>\n",
              "      <td>46</td>\n",
              "      <td>43.0</td>\n",
              "      <td>46.0</td>\n",
              "      <td>51</td>\n",
              "      <td>36.0</td>\n",
              "      <td>43</td>\n",
              "      <td>35</td>\n",
              "      <td>37</td>\n",
              "      <td>30</td>\n",
              "      <td>40</td>\n",
              "      <td>...</td>\n",
              "      <td>500.0</td>\n",
              "      <td>110000.0</td>\n",
              "      <td>1</td>\n",
              "      <td>53.0</td>\n",
              "      <td>19</td>\n",
              "      <td>8</td>\n",
              "      <td>9</td>\n",
              "      <td>7</td>\n",
              "      <td>14</td>\n",
              "      <td>9</td>\n",
              "    </tr>\n",
              "    <tr>\n",
              "      <th>161581</th>\n",
              "      <td>46</td>\n",
              "      <td>36.0</td>\n",
              "      <td>46.0</td>\n",
              "      <td>40</td>\n",
              "      <td>50.0</td>\n",
              "      <td>26</td>\n",
              "      <td>43</td>\n",
              "      <td>29</td>\n",
              "      <td>25</td>\n",
              "      <td>44</td>\n",
              "      <td>...</td>\n",
              "      <td>500.0</td>\n",
              "      <td>150000.0</td>\n",
              "      <td>1</td>\n",
              "      <td>42.0</td>\n",
              "      <td>17</td>\n",
              "      <td>13</td>\n",
              "      <td>12</td>\n",
              "      <td>14</td>\n",
              "      <td>7</td>\n",
              "      <td>13</td>\n",
              "    </tr>\n",
              "    <tr>\n",
              "      <th>161582</th>\n",
              "      <td>46</td>\n",
              "      <td>26.0</td>\n",
              "      <td>32.0</td>\n",
              "      <td>32</td>\n",
              "      <td>22.0</td>\n",
              "      <td>29</td>\n",
              "      <td>31</td>\n",
              "      <td>21</td>\n",
              "      <td>20</td>\n",
              "      <td>20</td>\n",
              "      <td>...</td>\n",
              "      <td>500.0</td>\n",
              "      <td>110000.0</td>\n",
              "      <td>1</td>\n",
              "      <td>57.0</td>\n",
              "      <td>17</td>\n",
              "      <td>13</td>\n",
              "      <td>7</td>\n",
              "      <td>6</td>\n",
              "      <td>6</td>\n",
              "      <td>14</td>\n",
              "    </tr>\n",
              "  </tbody>\n",
              "</table>\n",
              "<p>161583 rows × 25 columns</p>\n",
              "</div>\n",
              "    <div class=\"colab-df-buttons\">\n",
              "\n",
              "  <div class=\"colab-df-container\">\n",
              "    <button class=\"colab-df-convert\" onclick=\"convertToInteractive('df-66f7656a-5338-42b6-94d7-7f81c631ce1f')\"\n",
              "            title=\"Convert this dataframe to an interactive table.\"\n",
              "            style=\"display:none;\">\n",
              "\n",
              "  <svg xmlns=\"http://www.w3.org/2000/svg\" height=\"24px\" viewBox=\"0 -960 960 960\">\n",
              "    <path d=\"M120-120v-720h720v720H120Zm60-500h600v-160H180v160Zm220 220h160v-160H400v160Zm0 220h160v-160H400v160ZM180-400h160v-160H180v160Zm440 0h160v-160H620v160ZM180-180h160v-160H180v160Zm440 0h160v-160H620v160Z\"/>\n",
              "  </svg>\n",
              "    </button>\n",
              "\n",
              "  <style>\n",
              "    .colab-df-container {\n",
              "      display:flex;\n",
              "      gap: 12px;\n",
              "    }\n",
              "\n",
              "    .colab-df-convert {\n",
              "      background-color: #E8F0FE;\n",
              "      border: none;\n",
              "      border-radius: 50%;\n",
              "      cursor: pointer;\n",
              "      display: none;\n",
              "      fill: #1967D2;\n",
              "      height: 32px;\n",
              "      padding: 0 0 0 0;\n",
              "      width: 32px;\n",
              "    }\n",
              "\n",
              "    .colab-df-convert:hover {\n",
              "      background-color: #E2EBFA;\n",
              "      box-shadow: 0px 1px 2px rgba(60, 64, 67, 0.3), 0px 1px 3px 1px rgba(60, 64, 67, 0.15);\n",
              "      fill: #174EA6;\n",
              "    }\n",
              "\n",
              "    .colab-df-buttons div {\n",
              "      margin-bottom: 4px;\n",
              "    }\n",
              "\n",
              "    [theme=dark] .colab-df-convert {\n",
              "      background-color: #3B4455;\n",
              "      fill: #D2E3FC;\n",
              "    }\n",
              "\n",
              "    [theme=dark] .colab-df-convert:hover {\n",
              "      background-color: #434B5C;\n",
              "      box-shadow: 0px 1px 3px 1px rgba(0, 0, 0, 0.15);\n",
              "      filter: drop-shadow(0px 1px 2px rgba(0, 0, 0, 0.3));\n",
              "      fill: #FFFFFF;\n",
              "    }\n",
              "  </style>\n",
              "\n",
              "    <script>\n",
              "      const buttonEl =\n",
              "        document.querySelector('#df-66f7656a-5338-42b6-94d7-7f81c631ce1f button.colab-df-convert');\n",
              "      buttonEl.style.display =\n",
              "        google.colab.kernel.accessAllowed ? 'block' : 'none';\n",
              "\n",
              "      async function convertToInteractive(key) {\n",
              "        const element = document.querySelector('#df-66f7656a-5338-42b6-94d7-7f81c631ce1f');\n",
              "        const dataTable =\n",
              "          await google.colab.kernel.invokeFunction('convertToInteractive',\n",
              "                                                    [key], {});\n",
              "        if (!dataTable) return;\n",
              "\n",
              "        const docLinkHtml = 'Like what you see? Visit the ' +\n",
              "          '<a target=\"_blank\" href=https://colab.research.google.com/notebooks/data_table.ipynb>data table notebook</a>'\n",
              "          + ' to learn more about interactive tables.';\n",
              "        element.innerHTML = '';\n",
              "        dataTable['output_type'] = 'display_data';\n",
              "        await google.colab.output.renderOutput(dataTable, element);\n",
              "        const docLink = document.createElement('div');\n",
              "        docLink.innerHTML = docLinkHtml;\n",
              "        element.appendChild(docLink);\n",
              "      }\n",
              "    </script>\n",
              "  </div>\n",
              "\n",
              "\n",
              "<div id=\"df-79573a3e-7fc5-415b-b1e4-0d25f9c94239\">\n",
              "  <button class=\"colab-df-quickchart\" onclick=\"quickchart('df-79573a3e-7fc5-415b-b1e4-0d25f9c94239')\"\n",
              "            title=\"Suggest charts\"\n",
              "            style=\"display:none;\">\n",
              "\n",
              "<svg xmlns=\"http://www.w3.org/2000/svg\" height=\"24px\"viewBox=\"0 0 24 24\"\n",
              "     width=\"24px\">\n",
              "    <g>\n",
              "        <path d=\"M19 3H5c-1.1 0-2 .9-2 2v14c0 1.1.9 2 2 2h14c1.1 0 2-.9 2-2V5c0-1.1-.9-2-2-2zM9 17H7v-7h2v7zm4 0h-2V7h2v10zm4 0h-2v-4h2v4z\"/>\n",
              "    </g>\n",
              "</svg>\n",
              "  </button>\n",
              "\n",
              "<style>\n",
              "  .colab-df-quickchart {\n",
              "      --bg-color: #E8F0FE;\n",
              "      --fill-color: #1967D2;\n",
              "      --hover-bg-color: #E2EBFA;\n",
              "      --hover-fill-color: #174EA6;\n",
              "      --disabled-fill-color: #AAA;\n",
              "      --disabled-bg-color: #DDD;\n",
              "  }\n",
              "\n",
              "  [theme=dark] .colab-df-quickchart {\n",
              "      --bg-color: #3B4455;\n",
              "      --fill-color: #D2E3FC;\n",
              "      --hover-bg-color: #434B5C;\n",
              "      --hover-fill-color: #FFFFFF;\n",
              "      --disabled-bg-color: #3B4455;\n",
              "      --disabled-fill-color: #666;\n",
              "  }\n",
              "\n",
              "  .colab-df-quickchart {\n",
              "    background-color: var(--bg-color);\n",
              "    border: none;\n",
              "    border-radius: 50%;\n",
              "    cursor: pointer;\n",
              "    display: none;\n",
              "    fill: var(--fill-color);\n",
              "    height: 32px;\n",
              "    padding: 0;\n",
              "    width: 32px;\n",
              "  }\n",
              "\n",
              "  .colab-df-quickchart:hover {\n",
              "    background-color: var(--hover-bg-color);\n",
              "    box-shadow: 0 1px 2px rgba(60, 64, 67, 0.3), 0 1px 3px 1px rgba(60, 64, 67, 0.15);\n",
              "    fill: var(--button-hover-fill-color);\n",
              "  }\n",
              "\n",
              "  .colab-df-quickchart-complete:disabled,\n",
              "  .colab-df-quickchart-complete:disabled:hover {\n",
              "    background-color: var(--disabled-bg-color);\n",
              "    fill: var(--disabled-fill-color);\n",
              "    box-shadow: none;\n",
              "  }\n",
              "\n",
              "  .colab-df-spinner {\n",
              "    border: 2px solid var(--fill-color);\n",
              "    border-color: transparent;\n",
              "    border-bottom-color: var(--fill-color);\n",
              "    animation:\n",
              "      spin 1s steps(1) infinite;\n",
              "  }\n",
              "\n",
              "  @keyframes spin {\n",
              "    0% {\n",
              "      border-color: transparent;\n",
              "      border-bottom-color: var(--fill-color);\n",
              "      border-left-color: var(--fill-color);\n",
              "    }\n",
              "    20% {\n",
              "      border-color: transparent;\n",
              "      border-left-color: var(--fill-color);\n",
              "      border-top-color: var(--fill-color);\n",
              "    }\n",
              "    30% {\n",
              "      border-color: transparent;\n",
              "      border-left-color: var(--fill-color);\n",
              "      border-top-color: var(--fill-color);\n",
              "      border-right-color: var(--fill-color);\n",
              "    }\n",
              "    40% {\n",
              "      border-color: transparent;\n",
              "      border-right-color: var(--fill-color);\n",
              "      border-top-color: var(--fill-color);\n",
              "    }\n",
              "    60% {\n",
              "      border-color: transparent;\n",
              "      border-right-color: var(--fill-color);\n",
              "    }\n",
              "    80% {\n",
              "      border-color: transparent;\n",
              "      border-right-color: var(--fill-color);\n",
              "      border-bottom-color: var(--fill-color);\n",
              "    }\n",
              "    90% {\n",
              "      border-color: transparent;\n",
              "      border-bottom-color: var(--fill-color);\n",
              "    }\n",
              "  }\n",
              "</style>\n",
              "\n",
              "  <script>\n",
              "    async function quickchart(key) {\n",
              "      const quickchartButtonEl =\n",
              "        document.querySelector('#' + key + ' button');\n",
              "      quickchartButtonEl.disabled = true;  // To prevent multiple clicks.\n",
              "      quickchartButtonEl.classList.add('colab-df-spinner');\n",
              "      try {\n",
              "        const charts = await google.colab.kernel.invokeFunction(\n",
              "            'suggestCharts', [key], {});\n",
              "      } catch (error) {\n",
              "        console.error('Error during call to suggestCharts:', error);\n",
              "      }\n",
              "      quickchartButtonEl.classList.remove('colab-df-spinner');\n",
              "      quickchartButtonEl.classList.add('colab-df-quickchart-complete');\n",
              "    }\n",
              "    (() => {\n",
              "      let quickchartButtonEl =\n",
              "        document.querySelector('#df-79573a3e-7fc5-415b-b1e4-0d25f9c94239 button');\n",
              "      quickchartButtonEl.style.display =\n",
              "        google.colab.kernel.accessAllowed ? 'block' : 'none';\n",
              "    })();\n",
              "  </script>\n",
              "</div>\n",
              "\n",
              "  <div id=\"id_ebd3a6d6-0d6e-4c43-97cf-969859fdf3c9\">\n",
              "    <style>\n",
              "      .colab-df-generate {\n",
              "        background-color: #E8F0FE;\n",
              "        border: none;\n",
              "        border-radius: 50%;\n",
              "        cursor: pointer;\n",
              "        display: none;\n",
              "        fill: #1967D2;\n",
              "        height: 32px;\n",
              "        padding: 0 0 0 0;\n",
              "        width: 32px;\n",
              "      }\n",
              "\n",
              "      .colab-df-generate:hover {\n",
              "        background-color: #E2EBFA;\n",
              "        box-shadow: 0px 1px 2px rgba(60, 64, 67, 0.3), 0px 1px 3px 1px rgba(60, 64, 67, 0.15);\n",
              "        fill: #174EA6;\n",
              "      }\n",
              "\n",
              "      [theme=dark] .colab-df-generate {\n",
              "        background-color: #3B4455;\n",
              "        fill: #D2E3FC;\n",
              "      }\n",
              "\n",
              "      [theme=dark] .colab-df-generate:hover {\n",
              "        background-color: #434B5C;\n",
              "        box-shadow: 0px 1px 3px 1px rgba(0, 0, 0, 0.15);\n",
              "        filter: drop-shadow(0px 1px 2px rgba(0, 0, 0, 0.3));\n",
              "        fill: #FFFFFF;\n",
              "      }\n",
              "    </style>\n",
              "    <button class=\"colab-df-generate\" onclick=\"generateWithVariable('new_player_features')\"\n",
              "            title=\"Generate code using this dataframe.\"\n",
              "            style=\"display:none;\">\n",
              "\n",
              "  <svg xmlns=\"http://www.w3.org/2000/svg\" height=\"24px\"viewBox=\"0 0 24 24\"\n",
              "       width=\"24px\">\n",
              "    <path d=\"M7,19H8.4L18.45,9,17,7.55,7,17.6ZM5,21V16.75L18.45,3.32a2,2,0,0,1,2.83,0l1.4,1.43a1.91,1.91,0,0,1,.58,1.4,1.91,1.91,0,0,1-.58,1.4L9.25,21ZM18.45,9,17,7.55Zm-12,3A5.31,5.31,0,0,0,4.9,8.1,5.31,5.31,0,0,0,1,6.5,5.31,5.31,0,0,0,4.9,4.9,5.31,5.31,0,0,0,6.5,1,5.31,5.31,0,0,0,8.1,4.9,5.31,5.31,0,0,0,12,6.5,5.46,5.46,0,0,0,6.5,12Z\"/>\n",
              "  </svg>\n",
              "    </button>\n",
              "    <script>\n",
              "      (() => {\n",
              "      const buttonEl =\n",
              "        document.querySelector('#id_ebd3a6d6-0d6e-4c43-97cf-969859fdf3c9 button.colab-df-generate');\n",
              "      buttonEl.style.display =\n",
              "        google.colab.kernel.accessAllowed ? 'block' : 'none';\n",
              "\n",
              "      buttonEl.onclick = () => {\n",
              "        google.colab.notebook.generateWithVariable('new_player_features');\n",
              "      }\n",
              "      })();\n",
              "    </script>\n",
              "  </div>\n",
              "\n",
              "    </div>\n",
              "  </div>\n"
            ],
            "application/vnd.google.colaboratory.intrinsic+json": {
              "type": "dataframe",
              "variable_name": "new_player_features"
            }
          },
          "metadata": {},
          "execution_count": 21
        }
      ]
    },
    {
      "cell_type": "markdown",
      "source": [
        "Feature Engineering"
      ],
      "metadata": {
        "id": "2TsyqVpzHuy3"
      }
    },
    {
      "cell_type": "code",
      "source": [
        "#merging similar features\n",
        "\n",
        "combined_passing = ['passing','attacking_short_passing','skill_long_passing']\n",
        "combined_dribbling = ['dribbling','skill_ball_control']\n",
        "combined_mentality = ['mentality_vision','mentality_aggression','mentality_positioning','mentality_penalties']\n",
        "\n",
        "new_player_features['combined_passing'] = new_player_features[combined_passing].mean(axis=1)\n",
        "new_player_features['combined_dribbling'] = new_player_features[combined_dribbling].mean(axis=1)\n",
        "new_player_features['combined_mentality'] = new_player_features[combined_mentality].mean(axis=1)\n",
        "\n",
        "new_player_features.drop(columns=combined_passing, inplace=True)\n",
        "new_player_features.drop(columns=combined_dribbling, inplace=True)\n",
        "new_player_features.drop(columns=combined_mentality, inplace=True)"
      ],
      "metadata": {
        "colab": {
          "base_uri": "https://localhost:8080/"
        },
        "id": "k_lDAyG7Htwn",
        "outputId": "bfd5417c-5654-4add-90e1-3670d32b3137"
      },
      "execution_count": null,
      "outputs": [
        {
          "output_type": "stream",
          "name": "stderr",
          "text": [
            "<ipython-input-22-e98f8b5c8bba>:7: SettingWithCopyWarning: \n",
            "A value is trying to be set on a copy of a slice from a DataFrame.\n",
            "Try using .loc[row_indexer,col_indexer] = value instead\n",
            "\n",
            "See the caveats in the documentation: https://pandas.pydata.org/pandas-docs/stable/user_guide/indexing.html#returning-a-view-versus-a-copy\n",
            "  new_player_features['combined_passing'] = new_player_features[combined_passing].mean(axis=1)\n",
            "<ipython-input-22-e98f8b5c8bba>:8: SettingWithCopyWarning: \n",
            "A value is trying to be set on a copy of a slice from a DataFrame.\n",
            "Try using .loc[row_indexer,col_indexer] = value instead\n",
            "\n",
            "See the caveats in the documentation: https://pandas.pydata.org/pandas-docs/stable/user_guide/indexing.html#returning-a-view-versus-a-copy\n",
            "  new_player_features['combined_dribbling'] = new_player_features[combined_dribbling].mean(axis=1)\n",
            "<ipython-input-22-e98f8b5c8bba>:9: SettingWithCopyWarning: \n",
            "A value is trying to be set on a copy of a slice from a DataFrame.\n",
            "Try using .loc[row_indexer,col_indexer] = value instead\n",
            "\n",
            "See the caveats in the documentation: https://pandas.pydata.org/pandas-docs/stable/user_guide/indexing.html#returning-a-view-versus-a-copy\n",
            "  new_player_features['combined_mentality'] = new_player_features[combined_mentality].mean(axis=1)\n",
            "<ipython-input-22-e98f8b5c8bba>:11: SettingWithCopyWarning: \n",
            "A value is trying to be set on a copy of a slice from a DataFrame\n",
            "\n",
            "See the caveats in the documentation: https://pandas.pydata.org/pandas-docs/stable/user_guide/indexing.html#returning-a-view-versus-a-copy\n",
            "  new_player_features.drop(columns=combined_passing, inplace=True)\n",
            "<ipython-input-22-e98f8b5c8bba>:12: SettingWithCopyWarning: \n",
            "A value is trying to be set on a copy of a slice from a DataFrame\n",
            "\n",
            "See the caveats in the documentation: https://pandas.pydata.org/pandas-docs/stable/user_guide/indexing.html#returning-a-view-versus-a-copy\n",
            "  new_player_features.drop(columns=combined_dribbling, inplace=True)\n",
            "<ipython-input-22-e98f8b5c8bba>:13: SettingWithCopyWarning: \n",
            "A value is trying to be set on a copy of a slice from a DataFrame\n",
            "\n",
            "See the caveats in the documentation: https://pandas.pydata.org/pandas-docs/stable/user_guide/indexing.html#returning-a-view-versus-a-copy\n",
            "  new_player_features.drop(columns=combined_mentality, inplace=True)\n"
          ]
        }
      ]
    },
    {
      "cell_type": "code",
      "source": [
        "new_player_features"
      ],
      "metadata": {
        "colab": {
          "base_uri": "https://localhost:8080/",
          "height": 444
        },
        "id": "lQb0lLDJLwnu",
        "outputId": "aadf5212-9657-435a-ca1e-101eb7bdc9e6"
      },
      "execution_count": null,
      "outputs": [
        {
          "output_type": "execute_result",
          "data": {
            "text/plain": [
              "        overall  shooting  attacking_crossing  skill_fk_accuracy  \\\n",
              "0            93      89.0                  84                 90   \n",
              "1            92      93.0                  83                 79   \n",
              "2            90      86.0                  80                 83   \n",
              "3            90      91.0                  76                 80   \n",
              "4            90      54.0                  25                 25   \n",
              "...         ...       ...                 ...                ...   \n",
              "161578       46      48.0                  48                 35   \n",
              "161579       46      25.0                  30                 26   \n",
              "161580       46      36.0                  37                 30   \n",
              "161581       46      50.0                  29                 25   \n",
              "161582       46      22.0                  21                 20   \n",
              "\n",
              "        movement_reactions  potential  wage_eur    value_eur  \\\n",
              "0                       94         95  550000.0  100500000.0   \n",
              "1                       90         92  375000.0   79000000.0   \n",
              "2                       89         90  275000.0   54500000.0   \n",
              "3                       85         90  275000.0   52500000.0   \n",
              "4                       89         90  300000.0   63500000.0   \n",
              "...                    ...        ...       ...          ...   \n",
              "161578                  39         61     700.0     110000.0   \n",
              "161579                  42         58     750.0     110000.0   \n",
              "161580                  50         58     500.0     110000.0   \n",
              "161581                  45         70     500.0     150000.0   \n",
              "161582                  40         63     500.0     110000.0   \n",
              "\n",
              "        international_reputation  physic  age  goalkeeping_diving  \\\n",
              "0                              5    63.0   27                   6   \n",
              "1                              5    79.0   29                   7   \n",
              "2                              5    64.0   30                  10   \n",
              "3                              5    86.0   32                  13   \n",
              "4                              5    66.0   28                  87   \n",
              "...                          ...     ...  ...                 ...   \n",
              "161578                         1    44.0   18                   9   \n",
              "161579                         1    57.0   19                   6   \n",
              "161580                         1    53.0   19                   8   \n",
              "161581                         1    42.0   17                  13   \n",
              "161582                         1    57.0   17                  13   \n",
              "\n",
              "        goalkeeping_handling  goalkeeping_kicking  goalkeeping_positioning  \\\n",
              "0                         11                   15                       14   \n",
              "1                         11                   15                       14   \n",
              "2                          8                   11                        5   \n",
              "3                         15                   10                        9   \n",
              "4                         85                   92                       90   \n",
              "...                      ...                  ...                      ...   \n",
              "161578                    13                   13                       12   \n",
              "161579                    14                    8                       13   \n",
              "161580                     9                    7                       14   \n",
              "161581                    12                   14                        7   \n",
              "161582                     7                    6                        6   \n",
              "\n",
              "        goalkeeping_reflexes  combined_passing  combined_dribbling  \\\n",
              "0                          8         83.666667                96.0   \n",
              "1                         11         78.333333                91.5   \n",
              "2                         15         81.666667                91.0   \n",
              "3                         12         80.333333                88.0   \n",
              "4                         86         47.000000                47.0   \n",
              "...                      ...               ...                 ...   \n",
              "161578                     7         37.000000                46.0   \n",
              "161579                    14         28.000000                33.0   \n",
              "161580                     9         45.666667                40.5   \n",
              "161581                    13         34.000000                44.5   \n",
              "161582                    14         29.000000                31.5   \n",
              "\n",
              "        combined_mentality  \n",
              "0                    76.50  \n",
              "1                    80.00  \n",
              "2                    75.00  \n",
              "3                    86.00  \n",
              "4                    27.75  \n",
              "...                    ...  \n",
              "161578               40.50  \n",
              "161579               34.75  \n",
              "161580               45.25  \n",
              "161581               44.75  \n",
              "161582               32.25  \n",
              "\n",
              "[161583 rows x 19 columns]"
            ],
            "text/html": [
              "\n",
              "  <div id=\"df-e2dd9fd6-2162-428b-9a22-17d3414f27a2\" class=\"colab-df-container\">\n",
              "    <div>\n",
              "<style scoped>\n",
              "    .dataframe tbody tr th:only-of-type {\n",
              "        vertical-align: middle;\n",
              "    }\n",
              "\n",
              "    .dataframe tbody tr th {\n",
              "        vertical-align: top;\n",
              "    }\n",
              "\n",
              "    .dataframe thead th {\n",
              "        text-align: right;\n",
              "    }\n",
              "</style>\n",
              "<table border=\"1\" class=\"dataframe\">\n",
              "  <thead>\n",
              "    <tr style=\"text-align: right;\">\n",
              "      <th></th>\n",
              "      <th>overall</th>\n",
              "      <th>shooting</th>\n",
              "      <th>attacking_crossing</th>\n",
              "      <th>skill_fk_accuracy</th>\n",
              "      <th>movement_reactions</th>\n",
              "      <th>potential</th>\n",
              "      <th>wage_eur</th>\n",
              "      <th>value_eur</th>\n",
              "      <th>international_reputation</th>\n",
              "      <th>physic</th>\n",
              "      <th>age</th>\n",
              "      <th>goalkeeping_diving</th>\n",
              "      <th>goalkeeping_handling</th>\n",
              "      <th>goalkeeping_kicking</th>\n",
              "      <th>goalkeeping_positioning</th>\n",
              "      <th>goalkeeping_reflexes</th>\n",
              "      <th>combined_passing</th>\n",
              "      <th>combined_dribbling</th>\n",
              "      <th>combined_mentality</th>\n",
              "    </tr>\n",
              "  </thead>\n",
              "  <tbody>\n",
              "    <tr>\n",
              "      <th>0</th>\n",
              "      <td>93</td>\n",
              "      <td>89.0</td>\n",
              "      <td>84</td>\n",
              "      <td>90</td>\n",
              "      <td>94</td>\n",
              "      <td>95</td>\n",
              "      <td>550000.0</td>\n",
              "      <td>100500000.0</td>\n",
              "      <td>5</td>\n",
              "      <td>63.0</td>\n",
              "      <td>27</td>\n",
              "      <td>6</td>\n",
              "      <td>11</td>\n",
              "      <td>15</td>\n",
              "      <td>14</td>\n",
              "      <td>8</td>\n",
              "      <td>83.666667</td>\n",
              "      <td>96.0</td>\n",
              "      <td>76.50</td>\n",
              "    </tr>\n",
              "    <tr>\n",
              "      <th>1</th>\n",
              "      <td>92</td>\n",
              "      <td>93.0</td>\n",
              "      <td>83</td>\n",
              "      <td>79</td>\n",
              "      <td>90</td>\n",
              "      <td>92</td>\n",
              "      <td>375000.0</td>\n",
              "      <td>79000000.0</td>\n",
              "      <td>5</td>\n",
              "      <td>79.0</td>\n",
              "      <td>29</td>\n",
              "      <td>7</td>\n",
              "      <td>11</td>\n",
              "      <td>15</td>\n",
              "      <td>14</td>\n",
              "      <td>11</td>\n",
              "      <td>78.333333</td>\n",
              "      <td>91.5</td>\n",
              "      <td>80.00</td>\n",
              "    </tr>\n",
              "    <tr>\n",
              "      <th>2</th>\n",
              "      <td>90</td>\n",
              "      <td>86.0</td>\n",
              "      <td>80</td>\n",
              "      <td>83</td>\n",
              "      <td>89</td>\n",
              "      <td>90</td>\n",
              "      <td>275000.0</td>\n",
              "      <td>54500000.0</td>\n",
              "      <td>5</td>\n",
              "      <td>64.0</td>\n",
              "      <td>30</td>\n",
              "      <td>10</td>\n",
              "      <td>8</td>\n",
              "      <td>11</td>\n",
              "      <td>5</td>\n",
              "      <td>15</td>\n",
              "      <td>81.666667</td>\n",
              "      <td>91.0</td>\n",
              "      <td>75.00</td>\n",
              "    </tr>\n",
              "    <tr>\n",
              "      <th>3</th>\n",
              "      <td>90</td>\n",
              "      <td>91.0</td>\n",
              "      <td>76</td>\n",
              "      <td>80</td>\n",
              "      <td>85</td>\n",
              "      <td>90</td>\n",
              "      <td>275000.0</td>\n",
              "      <td>52500000.0</td>\n",
              "      <td>5</td>\n",
              "      <td>86.0</td>\n",
              "      <td>32</td>\n",
              "      <td>13</td>\n",
              "      <td>15</td>\n",
              "      <td>10</td>\n",
              "      <td>9</td>\n",
              "      <td>12</td>\n",
              "      <td>80.333333</td>\n",
              "      <td>88.0</td>\n",
              "      <td>86.00</td>\n",
              "    </tr>\n",
              "    <tr>\n",
              "      <th>4</th>\n",
              "      <td>90</td>\n",
              "      <td>54.0</td>\n",
              "      <td>25</td>\n",
              "      <td>25</td>\n",
              "      <td>89</td>\n",
              "      <td>90</td>\n",
              "      <td>300000.0</td>\n",
              "      <td>63500000.0</td>\n",
              "      <td>5</td>\n",
              "      <td>66.0</td>\n",
              "      <td>28</td>\n",
              "      <td>87</td>\n",
              "      <td>85</td>\n",
              "      <td>92</td>\n",
              "      <td>90</td>\n",
              "      <td>86</td>\n",
              "      <td>47.000000</td>\n",
              "      <td>47.0</td>\n",
              "      <td>27.75</td>\n",
              "    </tr>\n",
              "    <tr>\n",
              "      <th>...</th>\n",
              "      <td>...</td>\n",
              "      <td>...</td>\n",
              "      <td>...</td>\n",
              "      <td>...</td>\n",
              "      <td>...</td>\n",
              "      <td>...</td>\n",
              "      <td>...</td>\n",
              "      <td>...</td>\n",
              "      <td>...</td>\n",
              "      <td>...</td>\n",
              "      <td>...</td>\n",
              "      <td>...</td>\n",
              "      <td>...</td>\n",
              "      <td>...</td>\n",
              "      <td>...</td>\n",
              "      <td>...</td>\n",
              "      <td>...</td>\n",
              "      <td>...</td>\n",
              "      <td>...</td>\n",
              "    </tr>\n",
              "    <tr>\n",
              "      <th>161578</th>\n",
              "      <td>46</td>\n",
              "      <td>48.0</td>\n",
              "      <td>48</td>\n",
              "      <td>35</td>\n",
              "      <td>39</td>\n",
              "      <td>61</td>\n",
              "      <td>700.0</td>\n",
              "      <td>110000.0</td>\n",
              "      <td>1</td>\n",
              "      <td>44.0</td>\n",
              "      <td>18</td>\n",
              "      <td>9</td>\n",
              "      <td>13</td>\n",
              "      <td>13</td>\n",
              "      <td>12</td>\n",
              "      <td>7</td>\n",
              "      <td>37.000000</td>\n",
              "      <td>46.0</td>\n",
              "      <td>40.50</td>\n",
              "    </tr>\n",
              "    <tr>\n",
              "      <th>161579</th>\n",
              "      <td>46</td>\n",
              "      <td>25.0</td>\n",
              "      <td>30</td>\n",
              "      <td>26</td>\n",
              "      <td>42</td>\n",
              "      <td>58</td>\n",
              "      <td>750.0</td>\n",
              "      <td>110000.0</td>\n",
              "      <td>1</td>\n",
              "      <td>57.0</td>\n",
              "      <td>19</td>\n",
              "      <td>6</td>\n",
              "      <td>14</td>\n",
              "      <td>8</td>\n",
              "      <td>13</td>\n",
              "      <td>14</td>\n",
              "      <td>28.000000</td>\n",
              "      <td>33.0</td>\n",
              "      <td>34.75</td>\n",
              "    </tr>\n",
              "    <tr>\n",
              "      <th>161580</th>\n",
              "      <td>46</td>\n",
              "      <td>36.0</td>\n",
              "      <td>37</td>\n",
              "      <td>30</td>\n",
              "      <td>50</td>\n",
              "      <td>58</td>\n",
              "      <td>500.0</td>\n",
              "      <td>110000.0</td>\n",
              "      <td>1</td>\n",
              "      <td>53.0</td>\n",
              "      <td>19</td>\n",
              "      <td>8</td>\n",
              "      <td>9</td>\n",
              "      <td>7</td>\n",
              "      <td>14</td>\n",
              "      <td>9</td>\n",
              "      <td>45.666667</td>\n",
              "      <td>40.5</td>\n",
              "      <td>45.25</td>\n",
              "    </tr>\n",
              "    <tr>\n",
              "      <th>161581</th>\n",
              "      <td>46</td>\n",
              "      <td>50.0</td>\n",
              "      <td>29</td>\n",
              "      <td>25</td>\n",
              "      <td>45</td>\n",
              "      <td>70</td>\n",
              "      <td>500.0</td>\n",
              "      <td>150000.0</td>\n",
              "      <td>1</td>\n",
              "      <td>42.0</td>\n",
              "      <td>17</td>\n",
              "      <td>13</td>\n",
              "      <td>12</td>\n",
              "      <td>14</td>\n",
              "      <td>7</td>\n",
              "      <td>13</td>\n",
              "      <td>34.000000</td>\n",
              "      <td>44.5</td>\n",
              "      <td>44.75</td>\n",
              "    </tr>\n",
              "    <tr>\n",
              "      <th>161582</th>\n",
              "      <td>46</td>\n",
              "      <td>22.0</td>\n",
              "      <td>21</td>\n",
              "      <td>20</td>\n",
              "      <td>40</td>\n",
              "      <td>63</td>\n",
              "      <td>500.0</td>\n",
              "      <td>110000.0</td>\n",
              "      <td>1</td>\n",
              "      <td>57.0</td>\n",
              "      <td>17</td>\n",
              "      <td>13</td>\n",
              "      <td>7</td>\n",
              "      <td>6</td>\n",
              "      <td>6</td>\n",
              "      <td>14</td>\n",
              "      <td>29.000000</td>\n",
              "      <td>31.5</td>\n",
              "      <td>32.25</td>\n",
              "    </tr>\n",
              "  </tbody>\n",
              "</table>\n",
              "<p>161583 rows × 19 columns</p>\n",
              "</div>\n",
              "    <div class=\"colab-df-buttons\">\n",
              "\n",
              "  <div class=\"colab-df-container\">\n",
              "    <button class=\"colab-df-convert\" onclick=\"convertToInteractive('df-e2dd9fd6-2162-428b-9a22-17d3414f27a2')\"\n",
              "            title=\"Convert this dataframe to an interactive table.\"\n",
              "            style=\"display:none;\">\n",
              "\n",
              "  <svg xmlns=\"http://www.w3.org/2000/svg\" height=\"24px\" viewBox=\"0 -960 960 960\">\n",
              "    <path d=\"M120-120v-720h720v720H120Zm60-500h600v-160H180v160Zm220 220h160v-160H400v160Zm0 220h160v-160H400v160ZM180-400h160v-160H180v160Zm440 0h160v-160H620v160ZM180-180h160v-160H180v160Zm440 0h160v-160H620v160Z\"/>\n",
              "  </svg>\n",
              "    </button>\n",
              "\n",
              "  <style>\n",
              "    .colab-df-container {\n",
              "      display:flex;\n",
              "      gap: 12px;\n",
              "    }\n",
              "\n",
              "    .colab-df-convert {\n",
              "      background-color: #E8F0FE;\n",
              "      border: none;\n",
              "      border-radius: 50%;\n",
              "      cursor: pointer;\n",
              "      display: none;\n",
              "      fill: #1967D2;\n",
              "      height: 32px;\n",
              "      padding: 0 0 0 0;\n",
              "      width: 32px;\n",
              "    }\n",
              "\n",
              "    .colab-df-convert:hover {\n",
              "      background-color: #E2EBFA;\n",
              "      box-shadow: 0px 1px 2px rgba(60, 64, 67, 0.3), 0px 1px 3px 1px rgba(60, 64, 67, 0.15);\n",
              "      fill: #174EA6;\n",
              "    }\n",
              "\n",
              "    .colab-df-buttons div {\n",
              "      margin-bottom: 4px;\n",
              "    }\n",
              "\n",
              "    [theme=dark] .colab-df-convert {\n",
              "      background-color: #3B4455;\n",
              "      fill: #D2E3FC;\n",
              "    }\n",
              "\n",
              "    [theme=dark] .colab-df-convert:hover {\n",
              "      background-color: #434B5C;\n",
              "      box-shadow: 0px 1px 3px 1px rgba(0, 0, 0, 0.15);\n",
              "      filter: drop-shadow(0px 1px 2px rgba(0, 0, 0, 0.3));\n",
              "      fill: #FFFFFF;\n",
              "    }\n",
              "  </style>\n",
              "\n",
              "    <script>\n",
              "      const buttonEl =\n",
              "        document.querySelector('#df-e2dd9fd6-2162-428b-9a22-17d3414f27a2 button.colab-df-convert');\n",
              "      buttonEl.style.display =\n",
              "        google.colab.kernel.accessAllowed ? 'block' : 'none';\n",
              "\n",
              "      async function convertToInteractive(key) {\n",
              "        const element = document.querySelector('#df-e2dd9fd6-2162-428b-9a22-17d3414f27a2');\n",
              "        const dataTable =\n",
              "          await google.colab.kernel.invokeFunction('convertToInteractive',\n",
              "                                                    [key], {});\n",
              "        if (!dataTable) return;\n",
              "\n",
              "        const docLinkHtml = 'Like what you see? Visit the ' +\n",
              "          '<a target=\"_blank\" href=https://colab.research.google.com/notebooks/data_table.ipynb>data table notebook</a>'\n",
              "          + ' to learn more about interactive tables.';\n",
              "        element.innerHTML = '';\n",
              "        dataTable['output_type'] = 'display_data';\n",
              "        await google.colab.output.renderOutput(dataTable, element);\n",
              "        const docLink = document.createElement('div');\n",
              "        docLink.innerHTML = docLinkHtml;\n",
              "        element.appendChild(docLink);\n",
              "      }\n",
              "    </script>\n",
              "  </div>\n",
              "\n",
              "\n",
              "<div id=\"df-012ada8e-572c-48de-91ee-da4bcbe9de20\">\n",
              "  <button class=\"colab-df-quickchart\" onclick=\"quickchart('df-012ada8e-572c-48de-91ee-da4bcbe9de20')\"\n",
              "            title=\"Suggest charts\"\n",
              "            style=\"display:none;\">\n",
              "\n",
              "<svg xmlns=\"http://www.w3.org/2000/svg\" height=\"24px\"viewBox=\"0 0 24 24\"\n",
              "     width=\"24px\">\n",
              "    <g>\n",
              "        <path d=\"M19 3H5c-1.1 0-2 .9-2 2v14c0 1.1.9 2 2 2h14c1.1 0 2-.9 2-2V5c0-1.1-.9-2-2-2zM9 17H7v-7h2v7zm4 0h-2V7h2v10zm4 0h-2v-4h2v4z\"/>\n",
              "    </g>\n",
              "</svg>\n",
              "  </button>\n",
              "\n",
              "<style>\n",
              "  .colab-df-quickchart {\n",
              "      --bg-color: #E8F0FE;\n",
              "      --fill-color: #1967D2;\n",
              "      --hover-bg-color: #E2EBFA;\n",
              "      --hover-fill-color: #174EA6;\n",
              "      --disabled-fill-color: #AAA;\n",
              "      --disabled-bg-color: #DDD;\n",
              "  }\n",
              "\n",
              "  [theme=dark] .colab-df-quickchart {\n",
              "      --bg-color: #3B4455;\n",
              "      --fill-color: #D2E3FC;\n",
              "      --hover-bg-color: #434B5C;\n",
              "      --hover-fill-color: #FFFFFF;\n",
              "      --disabled-bg-color: #3B4455;\n",
              "      --disabled-fill-color: #666;\n",
              "  }\n",
              "\n",
              "  .colab-df-quickchart {\n",
              "    background-color: var(--bg-color);\n",
              "    border: none;\n",
              "    border-radius: 50%;\n",
              "    cursor: pointer;\n",
              "    display: none;\n",
              "    fill: var(--fill-color);\n",
              "    height: 32px;\n",
              "    padding: 0;\n",
              "    width: 32px;\n",
              "  }\n",
              "\n",
              "  .colab-df-quickchart:hover {\n",
              "    background-color: var(--hover-bg-color);\n",
              "    box-shadow: 0 1px 2px rgba(60, 64, 67, 0.3), 0 1px 3px 1px rgba(60, 64, 67, 0.15);\n",
              "    fill: var(--button-hover-fill-color);\n",
              "  }\n",
              "\n",
              "  .colab-df-quickchart-complete:disabled,\n",
              "  .colab-df-quickchart-complete:disabled:hover {\n",
              "    background-color: var(--disabled-bg-color);\n",
              "    fill: var(--disabled-fill-color);\n",
              "    box-shadow: none;\n",
              "  }\n",
              "\n",
              "  .colab-df-spinner {\n",
              "    border: 2px solid var(--fill-color);\n",
              "    border-color: transparent;\n",
              "    border-bottom-color: var(--fill-color);\n",
              "    animation:\n",
              "      spin 1s steps(1) infinite;\n",
              "  }\n",
              "\n",
              "  @keyframes spin {\n",
              "    0% {\n",
              "      border-color: transparent;\n",
              "      border-bottom-color: var(--fill-color);\n",
              "      border-left-color: var(--fill-color);\n",
              "    }\n",
              "    20% {\n",
              "      border-color: transparent;\n",
              "      border-left-color: var(--fill-color);\n",
              "      border-top-color: var(--fill-color);\n",
              "    }\n",
              "    30% {\n",
              "      border-color: transparent;\n",
              "      border-left-color: var(--fill-color);\n",
              "      border-top-color: var(--fill-color);\n",
              "      border-right-color: var(--fill-color);\n",
              "    }\n",
              "    40% {\n",
              "      border-color: transparent;\n",
              "      border-right-color: var(--fill-color);\n",
              "      border-top-color: var(--fill-color);\n",
              "    }\n",
              "    60% {\n",
              "      border-color: transparent;\n",
              "      border-right-color: var(--fill-color);\n",
              "    }\n",
              "    80% {\n",
              "      border-color: transparent;\n",
              "      border-right-color: var(--fill-color);\n",
              "      border-bottom-color: var(--fill-color);\n",
              "    }\n",
              "    90% {\n",
              "      border-color: transparent;\n",
              "      border-bottom-color: var(--fill-color);\n",
              "    }\n",
              "  }\n",
              "</style>\n",
              "\n",
              "  <script>\n",
              "    async function quickchart(key) {\n",
              "      const quickchartButtonEl =\n",
              "        document.querySelector('#' + key + ' button');\n",
              "      quickchartButtonEl.disabled = true;  // To prevent multiple clicks.\n",
              "      quickchartButtonEl.classList.add('colab-df-spinner');\n",
              "      try {\n",
              "        const charts = await google.colab.kernel.invokeFunction(\n",
              "            'suggestCharts', [key], {});\n",
              "      } catch (error) {\n",
              "        console.error('Error during call to suggestCharts:', error);\n",
              "      }\n",
              "      quickchartButtonEl.classList.remove('colab-df-spinner');\n",
              "      quickchartButtonEl.classList.add('colab-df-quickchart-complete');\n",
              "    }\n",
              "    (() => {\n",
              "      let quickchartButtonEl =\n",
              "        document.querySelector('#df-012ada8e-572c-48de-91ee-da4bcbe9de20 button');\n",
              "      quickchartButtonEl.style.display =\n",
              "        google.colab.kernel.accessAllowed ? 'block' : 'none';\n",
              "    })();\n",
              "  </script>\n",
              "</div>\n",
              "\n",
              "  <div id=\"id_13ef1615-1130-4948-b2b5-68d1df0eb7c4\">\n",
              "    <style>\n",
              "      .colab-df-generate {\n",
              "        background-color: #E8F0FE;\n",
              "        border: none;\n",
              "        border-radius: 50%;\n",
              "        cursor: pointer;\n",
              "        display: none;\n",
              "        fill: #1967D2;\n",
              "        height: 32px;\n",
              "        padding: 0 0 0 0;\n",
              "        width: 32px;\n",
              "      }\n",
              "\n",
              "      .colab-df-generate:hover {\n",
              "        background-color: #E2EBFA;\n",
              "        box-shadow: 0px 1px 2px rgba(60, 64, 67, 0.3), 0px 1px 3px 1px rgba(60, 64, 67, 0.15);\n",
              "        fill: #174EA6;\n",
              "      }\n",
              "\n",
              "      [theme=dark] .colab-df-generate {\n",
              "        background-color: #3B4455;\n",
              "        fill: #D2E3FC;\n",
              "      }\n",
              "\n",
              "      [theme=dark] .colab-df-generate:hover {\n",
              "        background-color: #434B5C;\n",
              "        box-shadow: 0px 1px 3px 1px rgba(0, 0, 0, 0.15);\n",
              "        filter: drop-shadow(0px 1px 2px rgba(0, 0, 0, 0.3));\n",
              "        fill: #FFFFFF;\n",
              "      }\n",
              "    </style>\n",
              "    <button class=\"colab-df-generate\" onclick=\"generateWithVariable('new_player_features')\"\n",
              "            title=\"Generate code using this dataframe.\"\n",
              "            style=\"display:none;\">\n",
              "\n",
              "  <svg xmlns=\"http://www.w3.org/2000/svg\" height=\"24px\"viewBox=\"0 0 24 24\"\n",
              "       width=\"24px\">\n",
              "    <path d=\"M7,19H8.4L18.45,9,17,7.55,7,17.6ZM5,21V16.75L18.45,3.32a2,2,0,0,1,2.83,0l1.4,1.43a1.91,1.91,0,0,1,.58,1.4,1.91,1.91,0,0,1-.58,1.4L9.25,21ZM18.45,9,17,7.55Zm-12,3A5.31,5.31,0,0,0,4.9,8.1,5.31,5.31,0,0,0,1,6.5,5.31,5.31,0,0,0,4.9,4.9,5.31,5.31,0,0,0,6.5,1,5.31,5.31,0,0,0,8.1,4.9,5.31,5.31,0,0,0,12,6.5,5.46,5.46,0,0,0,6.5,12Z\"/>\n",
              "  </svg>\n",
              "    </button>\n",
              "    <script>\n",
              "      (() => {\n",
              "      const buttonEl =\n",
              "        document.querySelector('#id_13ef1615-1130-4948-b2b5-68d1df0eb7c4 button.colab-df-generate');\n",
              "      buttonEl.style.display =\n",
              "        google.colab.kernel.accessAllowed ? 'block' : 'none';\n",
              "\n",
              "      buttonEl.onclick = () => {\n",
              "        google.colab.notebook.generateWithVariable('new_player_features');\n",
              "      }\n",
              "      })();\n",
              "    </script>\n",
              "  </div>\n",
              "\n",
              "    </div>\n",
              "  </div>\n"
            ],
            "application/vnd.google.colaboratory.intrinsic+json": {
              "type": "dataframe",
              "variable_name": "new_player_features"
            }
          },
          "metadata": {},
          "execution_count": 23
        }
      ]
    },
    {
      "cell_type": "code",
      "source": [
        "#converting all data types to make it easier for the model to train\n",
        "\n",
        "new_player_features = new_player_features.astype(int)"
      ],
      "metadata": {
        "id": "Q2cBc_46JFC3"
      },
      "execution_count": null,
      "outputs": []
    },
    {
      "cell_type": "code",
      "source": [
        "new_player_features.info()"
      ],
      "metadata": {
        "colab": {
          "base_uri": "https://localhost:8080/"
        },
        "id": "c6DqhnApL_X_",
        "outputId": "91134cd5-29ae-4952-aef5-4b189f2d02ea"
      },
      "execution_count": null,
      "outputs": [
        {
          "output_type": "stream",
          "name": "stdout",
          "text": [
            "<class 'pandas.core.frame.DataFrame'>\n",
            "RangeIndex: 161583 entries, 0 to 161582\n",
            "Data columns (total 19 columns):\n",
            " #   Column                    Non-Null Count   Dtype\n",
            "---  ------                    --------------   -----\n",
            " 0   overall                   161583 non-null  int64\n",
            " 1   shooting                  161583 non-null  int64\n",
            " 2   attacking_crossing        161583 non-null  int64\n",
            " 3   skill_fk_accuracy         161583 non-null  int64\n",
            " 4   movement_reactions        161583 non-null  int64\n",
            " 5   potential                 161583 non-null  int64\n",
            " 6   wage_eur                  161583 non-null  int64\n",
            " 7   value_eur                 161583 non-null  int64\n",
            " 8   international_reputation  161583 non-null  int64\n",
            " 9   physic                    161583 non-null  int64\n",
            " 10  age                       161583 non-null  int64\n",
            " 11  goalkeeping_diving        161583 non-null  int64\n",
            " 12  goalkeeping_handling      161583 non-null  int64\n",
            " 13  goalkeeping_kicking       161583 non-null  int64\n",
            " 14  goalkeeping_positioning   161583 non-null  int64\n",
            " 15  goalkeeping_reflexes      161583 non-null  int64\n",
            " 16  combined_passing          161583 non-null  int64\n",
            " 17  combined_dribbling        161583 non-null  int64\n",
            " 18  combined_mentality        161583 non-null  int64\n",
            "dtypes: int64(19)\n",
            "memory usage: 23.4 MB\n"
          ]
        }
      ]
    },
    {
      "cell_type": "code",
      "execution_count": null,
      "metadata": {
        "id": "5NQe0BDOmg7-"
      },
      "outputs": [],
      "source": [
        "#packaging previous steps into a function\n",
        "\n",
        "def preprocessing(df):\n",
        "  # Getting general informaiton about the data\n",
        "  df.info()\n",
        "  df.describe()\n",
        "  print(f'Shape of the data: {df.shape[1]}')\n",
        "\n",
        "  # Handling missing data\n",
        "  na = []\n",
        "  no_na = []\n",
        "  for col in df.columns:\n",
        "    if df[col].isnull().sum() / len(df) > 0.3:\n",
        "        na.append(col)\n",
        "    else:\n",
        "        no_na.append(col)\n",
        "\n",
        "  #dropping na columns\n",
        "  df = df.drop(columns=na)\n",
        "\n",
        "  #Selecting optimal features based on correlation and inference\n",
        "\n",
        "  correlation_matrix = df.select_dtypes(include=[np.number]).corr()\n",
        "  corr = correlation_matrix['overall'].sort_values(ascending=False)\n",
        "  selected_features = ['overall', 'passing', 'dribbling', 'potential', 'attacking_short_passing', 'shooting',\n",
        "                  'skill_long_passing', 'skill_ball_control', 'attacking_crossing',\n",
        "                  'skill_fk_accuracy', 'mentality_vision', 'mentality_aggression',\n",
        "                  'mentality_positioning', 'mentality_penalties', 'movement_reactions',\n",
        "                   'wage_eur', 'value_eur', 'international_reputation', 'physic',\n",
        "                  'age', 'goalkeeping_diving', 'goalkeeping_handling', 'goalkeeping_kicking',\n",
        "                  'goalkeeping_positioning', 'goalkeeping_reflexes'\n",
        "]\n",
        "\n",
        "  new_features = df[selected_features]\n",
        "\n",
        "  #Filling missing values with median\n",
        "\n",
        "  new_features.fillna(new_features.median(), inplace=True)\n",
        "\n",
        "  #merging similar attributes\n",
        "  combined_passing = ['passing', 'attacking_short_passing', 'skill_long_passing']\n",
        "  combined_dribbling = ['dribbling', 'skill_ball_control']\n",
        "  combined_mentality = ['mentality_vision', 'mentality_aggression', 'mentality_positioning', 'mentality_penalties']\n",
        "\n",
        "  new_features['combined_passing'] = new_features[combined_passing].mean(axis=1)\n",
        "  new_features['combined_dribbling'] = new_features[combined_dribbling].mean(axis=1)\n",
        "  new_features['combined_mentality'] = new_features[combined_mentality].mean(axis=1)\n",
        "\n",
        "  new_features.drop(columns=combined_passing, inplace=True)\n",
        "  new_features.drop(columns=combined_dribbling, inplace=True)\n",
        "  new_features.drop(columns=combined_mentality, inplace=True)\n",
        "\n",
        "  #converting to int to make it simpler for model to train\n",
        "  new_features = new_features.astype(int)\n",
        "  return new_features"
      ]
    },
    {
      "cell_type": "markdown",
      "source": [
        "Traning model"
      ],
      "metadata": {
        "id": "qD5ITxlCNCHf"
      }
    },
    {
      "cell_type": "code",
      "source": [
        "y = new_player_features['overall']\n",
        "X = new_player_features.drop('overall', axis=1)"
      ],
      "metadata": {
        "id": "5k9QTHFBMo4q"
      },
      "execution_count": null,
      "outputs": []
    },
    {
      "cell_type": "code",
      "source": [
        "from sklearn.preprocessing import StandardScaler\n",
        "scaler = StandardScaler()\n",
        "scaled = scaler.fit_transform(X)\n",
        "\n",
        "X = pd.DataFrame(scaled, columns=X.columns)"
      ],
      "metadata": {
        "id": "rb1ctW3pNwNs"
      },
      "execution_count": null,
      "outputs": []
    },
    {
      "cell_type": "code",
      "source": [
        "X.head()"
      ],
      "metadata": {
        "colab": {
          "base_uri": "https://localhost:8080/",
          "height": 226
        },
        "id": "S6sdwX_HOCon",
        "outputId": "0cbe919d-c716-40f4-eef1-beb9dcd62b8e"
      },
      "execution_count": null,
      "outputs": [
        {
          "output_type": "execute_result",
          "data": {
            "text/plain": [
              "   shooting  attacking_crossing  skill_fk_accuracy  movement_reactions  \\\n",
              "0  2.783978            1.907629           2.724596            3.535775   \n",
              "1  3.088467            1.852080           2.086120            3.099571   \n",
              "2  2.555612            1.685432           2.318293            2.990520   \n",
              "3  2.936223            1.463234           2.144163            2.554317   \n",
              "4  0.119701           -1.369786          -1.048217            2.990520   \n",
              "\n",
              "   potential   wage_eur  value_eur  international_reputation    physic  \\\n",
              "0   3.875315  24.697104  16.447428                 10.148137 -0.211839   \n",
              "1   3.396013  16.681825  12.846177                 10.148137  1.529711   \n",
              "2   3.076478  12.101666   8.742427                 10.148137 -0.102992   \n",
              "3   3.076478  12.101666   8.407427                 10.148137  2.291639   \n",
              "4   3.076478  13.246706  10.249927                 10.148137  0.114701   \n",
              "\n",
              "        age  goalkeeping_diving  goalkeeping_handling  goalkeeping_kicking  \\\n",
              "0  0.401872           -0.595889             -0.313345            -0.069212   \n",
              "1  0.830120           -0.539297             -0.313345            -0.069212   \n",
              "2  1.044244           -0.369522             -0.491553            -0.311984   \n",
              "3  1.472491           -0.199747             -0.075734            -0.372677   \n",
              "4  0.615996            3.988044              4.082458             4.604134   \n",
              "\n",
              "   goalkeeping_positioning  goalkeeping_reflexes  combined_passing  \\\n",
              "0                -0.134650             -0.480363          2.273730   \n",
              "1                -0.134650             -0.313512          1.857696   \n",
              "2                -0.664104             -0.091044          2.107317   \n",
              "3                -0.428791             -0.257895          2.024110   \n",
              "4                 4.336295              3.857769         -0.721715   \n",
              "\n",
              "   combined_dribbling  combined_mentality  \n",
              "0            3.130935            1.827725  \n",
              "1            2.696748            2.125940  \n",
              "2            2.696748            1.753171  \n",
              "3            2.436235            2.573263  \n",
              "4           -1.124099           -1.825413  "
            ],
            "text/html": [
              "\n",
              "  <div id=\"df-64da7f13-24d6-4629-a76d-9e3690e49f11\" class=\"colab-df-container\">\n",
              "    <div>\n",
              "<style scoped>\n",
              "    .dataframe tbody tr th:only-of-type {\n",
              "        vertical-align: middle;\n",
              "    }\n",
              "\n",
              "    .dataframe tbody tr th {\n",
              "        vertical-align: top;\n",
              "    }\n",
              "\n",
              "    .dataframe thead th {\n",
              "        text-align: right;\n",
              "    }\n",
              "</style>\n",
              "<table border=\"1\" class=\"dataframe\">\n",
              "  <thead>\n",
              "    <tr style=\"text-align: right;\">\n",
              "      <th></th>\n",
              "      <th>shooting</th>\n",
              "      <th>attacking_crossing</th>\n",
              "      <th>skill_fk_accuracy</th>\n",
              "      <th>movement_reactions</th>\n",
              "      <th>potential</th>\n",
              "      <th>wage_eur</th>\n",
              "      <th>value_eur</th>\n",
              "      <th>international_reputation</th>\n",
              "      <th>physic</th>\n",
              "      <th>age</th>\n",
              "      <th>goalkeeping_diving</th>\n",
              "      <th>goalkeeping_handling</th>\n",
              "      <th>goalkeeping_kicking</th>\n",
              "      <th>goalkeeping_positioning</th>\n",
              "      <th>goalkeeping_reflexes</th>\n",
              "      <th>combined_passing</th>\n",
              "      <th>combined_dribbling</th>\n",
              "      <th>combined_mentality</th>\n",
              "    </tr>\n",
              "  </thead>\n",
              "  <tbody>\n",
              "    <tr>\n",
              "      <th>0</th>\n",
              "      <td>2.783978</td>\n",
              "      <td>1.907629</td>\n",
              "      <td>2.724596</td>\n",
              "      <td>3.535775</td>\n",
              "      <td>3.875315</td>\n",
              "      <td>24.697104</td>\n",
              "      <td>16.447428</td>\n",
              "      <td>10.148137</td>\n",
              "      <td>-0.211839</td>\n",
              "      <td>0.401872</td>\n",
              "      <td>-0.595889</td>\n",
              "      <td>-0.313345</td>\n",
              "      <td>-0.069212</td>\n",
              "      <td>-0.134650</td>\n",
              "      <td>-0.480363</td>\n",
              "      <td>2.273730</td>\n",
              "      <td>3.130935</td>\n",
              "      <td>1.827725</td>\n",
              "    </tr>\n",
              "    <tr>\n",
              "      <th>1</th>\n",
              "      <td>3.088467</td>\n",
              "      <td>1.852080</td>\n",
              "      <td>2.086120</td>\n",
              "      <td>3.099571</td>\n",
              "      <td>3.396013</td>\n",
              "      <td>16.681825</td>\n",
              "      <td>12.846177</td>\n",
              "      <td>10.148137</td>\n",
              "      <td>1.529711</td>\n",
              "      <td>0.830120</td>\n",
              "      <td>-0.539297</td>\n",
              "      <td>-0.313345</td>\n",
              "      <td>-0.069212</td>\n",
              "      <td>-0.134650</td>\n",
              "      <td>-0.313512</td>\n",
              "      <td>1.857696</td>\n",
              "      <td>2.696748</td>\n",
              "      <td>2.125940</td>\n",
              "    </tr>\n",
              "    <tr>\n",
              "      <th>2</th>\n",
              "      <td>2.555612</td>\n",
              "      <td>1.685432</td>\n",
              "      <td>2.318293</td>\n",
              "      <td>2.990520</td>\n",
              "      <td>3.076478</td>\n",
              "      <td>12.101666</td>\n",
              "      <td>8.742427</td>\n",
              "      <td>10.148137</td>\n",
              "      <td>-0.102992</td>\n",
              "      <td>1.044244</td>\n",
              "      <td>-0.369522</td>\n",
              "      <td>-0.491553</td>\n",
              "      <td>-0.311984</td>\n",
              "      <td>-0.664104</td>\n",
              "      <td>-0.091044</td>\n",
              "      <td>2.107317</td>\n",
              "      <td>2.696748</td>\n",
              "      <td>1.753171</td>\n",
              "    </tr>\n",
              "    <tr>\n",
              "      <th>3</th>\n",
              "      <td>2.936223</td>\n",
              "      <td>1.463234</td>\n",
              "      <td>2.144163</td>\n",
              "      <td>2.554317</td>\n",
              "      <td>3.076478</td>\n",
              "      <td>12.101666</td>\n",
              "      <td>8.407427</td>\n",
              "      <td>10.148137</td>\n",
              "      <td>2.291639</td>\n",
              "      <td>1.472491</td>\n",
              "      <td>-0.199747</td>\n",
              "      <td>-0.075734</td>\n",
              "      <td>-0.372677</td>\n",
              "      <td>-0.428791</td>\n",
              "      <td>-0.257895</td>\n",
              "      <td>2.024110</td>\n",
              "      <td>2.436235</td>\n",
              "      <td>2.573263</td>\n",
              "    </tr>\n",
              "    <tr>\n",
              "      <th>4</th>\n",
              "      <td>0.119701</td>\n",
              "      <td>-1.369786</td>\n",
              "      <td>-1.048217</td>\n",
              "      <td>2.990520</td>\n",
              "      <td>3.076478</td>\n",
              "      <td>13.246706</td>\n",
              "      <td>10.249927</td>\n",
              "      <td>10.148137</td>\n",
              "      <td>0.114701</td>\n",
              "      <td>0.615996</td>\n",
              "      <td>3.988044</td>\n",
              "      <td>4.082458</td>\n",
              "      <td>4.604134</td>\n",
              "      <td>4.336295</td>\n",
              "      <td>3.857769</td>\n",
              "      <td>-0.721715</td>\n",
              "      <td>-1.124099</td>\n",
              "      <td>-1.825413</td>\n",
              "    </tr>\n",
              "  </tbody>\n",
              "</table>\n",
              "</div>\n",
              "    <div class=\"colab-df-buttons\">\n",
              "\n",
              "  <div class=\"colab-df-container\">\n",
              "    <button class=\"colab-df-convert\" onclick=\"convertToInteractive('df-64da7f13-24d6-4629-a76d-9e3690e49f11')\"\n",
              "            title=\"Convert this dataframe to an interactive table.\"\n",
              "            style=\"display:none;\">\n",
              "\n",
              "  <svg xmlns=\"http://www.w3.org/2000/svg\" height=\"24px\" viewBox=\"0 -960 960 960\">\n",
              "    <path d=\"M120-120v-720h720v720H120Zm60-500h600v-160H180v160Zm220 220h160v-160H400v160Zm0 220h160v-160H400v160ZM180-400h160v-160H180v160Zm440 0h160v-160H620v160ZM180-180h160v-160H180v160Zm440 0h160v-160H620v160Z\"/>\n",
              "  </svg>\n",
              "    </button>\n",
              "\n",
              "  <style>\n",
              "    .colab-df-container {\n",
              "      display:flex;\n",
              "      gap: 12px;\n",
              "    }\n",
              "\n",
              "    .colab-df-convert {\n",
              "      background-color: #E8F0FE;\n",
              "      border: none;\n",
              "      border-radius: 50%;\n",
              "      cursor: pointer;\n",
              "      display: none;\n",
              "      fill: #1967D2;\n",
              "      height: 32px;\n",
              "      padding: 0 0 0 0;\n",
              "      width: 32px;\n",
              "    }\n",
              "\n",
              "    .colab-df-convert:hover {\n",
              "      background-color: #E2EBFA;\n",
              "      box-shadow: 0px 1px 2px rgba(60, 64, 67, 0.3), 0px 1px 3px 1px rgba(60, 64, 67, 0.15);\n",
              "      fill: #174EA6;\n",
              "    }\n",
              "\n",
              "    .colab-df-buttons div {\n",
              "      margin-bottom: 4px;\n",
              "    }\n",
              "\n",
              "    [theme=dark] .colab-df-convert {\n",
              "      background-color: #3B4455;\n",
              "      fill: #D2E3FC;\n",
              "    }\n",
              "\n",
              "    [theme=dark] .colab-df-convert:hover {\n",
              "      background-color: #434B5C;\n",
              "      box-shadow: 0px 1px 3px 1px rgba(0, 0, 0, 0.15);\n",
              "      filter: drop-shadow(0px 1px 2px rgba(0, 0, 0, 0.3));\n",
              "      fill: #FFFFFF;\n",
              "    }\n",
              "  </style>\n",
              "\n",
              "    <script>\n",
              "      const buttonEl =\n",
              "        document.querySelector('#df-64da7f13-24d6-4629-a76d-9e3690e49f11 button.colab-df-convert');\n",
              "      buttonEl.style.display =\n",
              "        google.colab.kernel.accessAllowed ? 'block' : 'none';\n",
              "\n",
              "      async function convertToInteractive(key) {\n",
              "        const element = document.querySelector('#df-64da7f13-24d6-4629-a76d-9e3690e49f11');\n",
              "        const dataTable =\n",
              "          await google.colab.kernel.invokeFunction('convertToInteractive',\n",
              "                                                    [key], {});\n",
              "        if (!dataTable) return;\n",
              "\n",
              "        const docLinkHtml = 'Like what you see? Visit the ' +\n",
              "          '<a target=\"_blank\" href=https://colab.research.google.com/notebooks/data_table.ipynb>data table notebook</a>'\n",
              "          + ' to learn more about interactive tables.';\n",
              "        element.innerHTML = '';\n",
              "        dataTable['output_type'] = 'display_data';\n",
              "        await google.colab.output.renderOutput(dataTable, element);\n",
              "        const docLink = document.createElement('div');\n",
              "        docLink.innerHTML = docLinkHtml;\n",
              "        element.appendChild(docLink);\n",
              "      }\n",
              "    </script>\n",
              "  </div>\n",
              "\n",
              "\n",
              "<div id=\"df-03cf2e08-9418-4b1d-9acc-2d959add0985\">\n",
              "  <button class=\"colab-df-quickchart\" onclick=\"quickchart('df-03cf2e08-9418-4b1d-9acc-2d959add0985')\"\n",
              "            title=\"Suggest charts\"\n",
              "            style=\"display:none;\">\n",
              "\n",
              "<svg xmlns=\"http://www.w3.org/2000/svg\" height=\"24px\"viewBox=\"0 0 24 24\"\n",
              "     width=\"24px\">\n",
              "    <g>\n",
              "        <path d=\"M19 3H5c-1.1 0-2 .9-2 2v14c0 1.1.9 2 2 2h14c1.1 0 2-.9 2-2V5c0-1.1-.9-2-2-2zM9 17H7v-7h2v7zm4 0h-2V7h2v10zm4 0h-2v-4h2v4z\"/>\n",
              "    </g>\n",
              "</svg>\n",
              "  </button>\n",
              "\n",
              "<style>\n",
              "  .colab-df-quickchart {\n",
              "      --bg-color: #E8F0FE;\n",
              "      --fill-color: #1967D2;\n",
              "      --hover-bg-color: #E2EBFA;\n",
              "      --hover-fill-color: #174EA6;\n",
              "      --disabled-fill-color: #AAA;\n",
              "      --disabled-bg-color: #DDD;\n",
              "  }\n",
              "\n",
              "  [theme=dark] .colab-df-quickchart {\n",
              "      --bg-color: #3B4455;\n",
              "      --fill-color: #D2E3FC;\n",
              "      --hover-bg-color: #434B5C;\n",
              "      --hover-fill-color: #FFFFFF;\n",
              "      --disabled-bg-color: #3B4455;\n",
              "      --disabled-fill-color: #666;\n",
              "  }\n",
              "\n",
              "  .colab-df-quickchart {\n",
              "    background-color: var(--bg-color);\n",
              "    border: none;\n",
              "    border-radius: 50%;\n",
              "    cursor: pointer;\n",
              "    display: none;\n",
              "    fill: var(--fill-color);\n",
              "    height: 32px;\n",
              "    padding: 0;\n",
              "    width: 32px;\n",
              "  }\n",
              "\n",
              "  .colab-df-quickchart:hover {\n",
              "    background-color: var(--hover-bg-color);\n",
              "    box-shadow: 0 1px 2px rgba(60, 64, 67, 0.3), 0 1px 3px 1px rgba(60, 64, 67, 0.15);\n",
              "    fill: var(--button-hover-fill-color);\n",
              "  }\n",
              "\n",
              "  .colab-df-quickchart-complete:disabled,\n",
              "  .colab-df-quickchart-complete:disabled:hover {\n",
              "    background-color: var(--disabled-bg-color);\n",
              "    fill: var(--disabled-fill-color);\n",
              "    box-shadow: none;\n",
              "  }\n",
              "\n",
              "  .colab-df-spinner {\n",
              "    border: 2px solid var(--fill-color);\n",
              "    border-color: transparent;\n",
              "    border-bottom-color: var(--fill-color);\n",
              "    animation:\n",
              "      spin 1s steps(1) infinite;\n",
              "  }\n",
              "\n",
              "  @keyframes spin {\n",
              "    0% {\n",
              "      border-color: transparent;\n",
              "      border-bottom-color: var(--fill-color);\n",
              "      border-left-color: var(--fill-color);\n",
              "    }\n",
              "    20% {\n",
              "      border-color: transparent;\n",
              "      border-left-color: var(--fill-color);\n",
              "      border-top-color: var(--fill-color);\n",
              "    }\n",
              "    30% {\n",
              "      border-color: transparent;\n",
              "      border-left-color: var(--fill-color);\n",
              "      border-top-color: var(--fill-color);\n",
              "      border-right-color: var(--fill-color);\n",
              "    }\n",
              "    40% {\n",
              "      border-color: transparent;\n",
              "      border-right-color: var(--fill-color);\n",
              "      border-top-color: var(--fill-color);\n",
              "    }\n",
              "    60% {\n",
              "      border-color: transparent;\n",
              "      border-right-color: var(--fill-color);\n",
              "    }\n",
              "    80% {\n",
              "      border-color: transparent;\n",
              "      border-right-color: var(--fill-color);\n",
              "      border-bottom-color: var(--fill-color);\n",
              "    }\n",
              "    90% {\n",
              "      border-color: transparent;\n",
              "      border-bottom-color: var(--fill-color);\n",
              "    }\n",
              "  }\n",
              "</style>\n",
              "\n",
              "  <script>\n",
              "    async function quickchart(key) {\n",
              "      const quickchartButtonEl =\n",
              "        document.querySelector('#' + key + ' button');\n",
              "      quickchartButtonEl.disabled = true;  // To prevent multiple clicks.\n",
              "      quickchartButtonEl.classList.add('colab-df-spinner');\n",
              "      try {\n",
              "        const charts = await google.colab.kernel.invokeFunction(\n",
              "            'suggestCharts', [key], {});\n",
              "      } catch (error) {\n",
              "        console.error('Error during call to suggestCharts:', error);\n",
              "      }\n",
              "      quickchartButtonEl.classList.remove('colab-df-spinner');\n",
              "      quickchartButtonEl.classList.add('colab-df-quickchart-complete');\n",
              "    }\n",
              "    (() => {\n",
              "      let quickchartButtonEl =\n",
              "        document.querySelector('#df-03cf2e08-9418-4b1d-9acc-2d959add0985 button');\n",
              "      quickchartButtonEl.style.display =\n",
              "        google.colab.kernel.accessAllowed ? 'block' : 'none';\n",
              "    })();\n",
              "  </script>\n",
              "</div>\n",
              "\n",
              "    </div>\n",
              "  </div>\n"
            ],
            "application/vnd.google.colaboratory.intrinsic+json": {
              "type": "dataframe",
              "variable_name": "X"
            }
          },
          "metadata": {},
          "execution_count": 29
        }
      ]
    },
    {
      "cell_type": "code",
      "source": [
        "y.head()"
      ],
      "metadata": {
        "colab": {
          "base_uri": "https://localhost:8080/"
        },
        "id": "C_JrUE_XOGpY",
        "outputId": "e1c6fe4a-0fbe-4727-bce3-2949ba5faf48"
      },
      "execution_count": null,
      "outputs": [
        {
          "output_type": "execute_result",
          "data": {
            "text/plain": [
              "0    93\n",
              "1    92\n",
              "2    90\n",
              "3    90\n",
              "4    90\n",
              "Name: overall, dtype: int64"
            ]
          },
          "metadata": {},
          "execution_count": 30
        }
      ]
    },
    {
      "cell_type": "code",
      "source": [
        "from sklearn.model_selection import train_test_split"
      ],
      "metadata": {
        "id": "4K955215OjK4"
      },
      "execution_count": null,
      "outputs": []
    },
    {
      "cell_type": "code",
      "source": [
        "Xtrain,Xtest,Ytrain,Ytest = train_test_split(X, y, test_size=0.2, random_state=42, stratify=y)"
      ],
      "metadata": {
        "id": "h_ym_ppQOL5V"
      },
      "execution_count": null,
      "outputs": []
    },
    {
      "cell_type": "markdown",
      "source": [
        "Random Forest Regressor"
      ],
      "metadata": {
        "id": "N3X7D-0pQORr"
      }
    },
    {
      "cell_type": "code",
      "source": [
        "from sklearn.ensemble import RandomForestRegressor"
      ],
      "metadata": {
        "id": "pl1ZX7TGOpmH"
      },
      "execution_count": null,
      "outputs": []
    },
    {
      "cell_type": "code",
      "source": [
        "rf = RandomForestRegressor(random_state=42)"
      ],
      "metadata": {
        "id": "99ENUAhDQ25C"
      },
      "execution_count": null,
      "outputs": []
    },
    {
      "cell_type": "code",
      "source": [
        "rf.fit(Xtrain,Ytrain)"
      ],
      "metadata": {
        "colab": {
          "base_uri": "https://localhost:8080/",
          "height": 75
        },
        "id": "hXeA5aWnQ8YM",
        "outputId": "e514eb80-9873-491b-e11d-fe09bc82188b"
      },
      "execution_count": null,
      "outputs": [
        {
          "output_type": "execute_result",
          "data": {
            "text/plain": [
              "RandomForestRegressor(random_state=42)"
            ],
            "text/html": [
              "<style>#sk-container-id-1 {color: black;background-color: white;}#sk-container-id-1 pre{padding: 0;}#sk-container-id-1 div.sk-toggleable {background-color: white;}#sk-container-id-1 label.sk-toggleable__label {cursor: pointer;display: block;width: 100%;margin-bottom: 0;padding: 0.3em;box-sizing: border-box;text-align: center;}#sk-container-id-1 label.sk-toggleable__label-arrow:before {content: \"▸\";float: left;margin-right: 0.25em;color: #696969;}#sk-container-id-1 label.sk-toggleable__label-arrow:hover:before {color: black;}#sk-container-id-1 div.sk-estimator:hover label.sk-toggleable__label-arrow:before {color: black;}#sk-container-id-1 div.sk-toggleable__content {max-height: 0;max-width: 0;overflow: hidden;text-align: left;background-color: #f0f8ff;}#sk-container-id-1 div.sk-toggleable__content pre {margin: 0.2em;color: black;border-radius: 0.25em;background-color: #f0f8ff;}#sk-container-id-1 input.sk-toggleable__control:checked~div.sk-toggleable__content {max-height: 200px;max-width: 100%;overflow: auto;}#sk-container-id-1 input.sk-toggleable__control:checked~label.sk-toggleable__label-arrow:before {content: \"▾\";}#sk-container-id-1 div.sk-estimator input.sk-toggleable__control:checked~label.sk-toggleable__label {background-color: #d4ebff;}#sk-container-id-1 div.sk-label input.sk-toggleable__control:checked~label.sk-toggleable__label {background-color: #d4ebff;}#sk-container-id-1 input.sk-hidden--visually {border: 0;clip: rect(1px 1px 1px 1px);clip: rect(1px, 1px, 1px, 1px);height: 1px;margin: -1px;overflow: hidden;padding: 0;position: absolute;width: 1px;}#sk-container-id-1 div.sk-estimator {font-family: monospace;background-color: #f0f8ff;border: 1px dotted black;border-radius: 0.25em;box-sizing: border-box;margin-bottom: 0.5em;}#sk-container-id-1 div.sk-estimator:hover {background-color: #d4ebff;}#sk-container-id-1 div.sk-parallel-item::after {content: \"\";width: 100%;border-bottom: 1px solid gray;flex-grow: 1;}#sk-container-id-1 div.sk-label:hover label.sk-toggleable__label {background-color: #d4ebff;}#sk-container-id-1 div.sk-serial::before {content: \"\";position: absolute;border-left: 1px solid gray;box-sizing: border-box;top: 0;bottom: 0;left: 50%;z-index: 0;}#sk-container-id-1 div.sk-serial {display: flex;flex-direction: column;align-items: center;background-color: white;padding-right: 0.2em;padding-left: 0.2em;position: relative;}#sk-container-id-1 div.sk-item {position: relative;z-index: 1;}#sk-container-id-1 div.sk-parallel {display: flex;align-items: stretch;justify-content: center;background-color: white;position: relative;}#sk-container-id-1 div.sk-item::before, #sk-container-id-1 div.sk-parallel-item::before {content: \"\";position: absolute;border-left: 1px solid gray;box-sizing: border-box;top: 0;bottom: 0;left: 50%;z-index: -1;}#sk-container-id-1 div.sk-parallel-item {display: flex;flex-direction: column;z-index: 1;position: relative;background-color: white;}#sk-container-id-1 div.sk-parallel-item:first-child::after {align-self: flex-end;width: 50%;}#sk-container-id-1 div.sk-parallel-item:last-child::after {align-self: flex-start;width: 50%;}#sk-container-id-1 div.sk-parallel-item:only-child::after {width: 0;}#sk-container-id-1 div.sk-dashed-wrapped {border: 1px dashed gray;margin: 0 0.4em 0.5em 0.4em;box-sizing: border-box;padding-bottom: 0.4em;background-color: white;}#sk-container-id-1 div.sk-label label {font-family: monospace;font-weight: bold;display: inline-block;line-height: 1.2em;}#sk-container-id-1 div.sk-label-container {text-align: center;}#sk-container-id-1 div.sk-container {/* jupyter's `normalize.less` sets `[hidden] { display: none; }` but bootstrap.min.css set `[hidden] { display: none !important; }` so we also need the `!important` here to be able to override the default hidden behavior on the sphinx rendered scikit-learn.org. See: https://github.com/scikit-learn/scikit-learn/issues/21755 */display: inline-block !important;position: relative;}#sk-container-id-1 div.sk-text-repr-fallback {display: none;}</style><div id=\"sk-container-id-1\" class=\"sk-top-container\"><div class=\"sk-text-repr-fallback\"><pre>RandomForestRegressor(random_state=42)</pre><b>In a Jupyter environment, please rerun this cell to show the HTML representation or trust the notebook. <br />On GitHub, the HTML representation is unable to render, please try loading this page with nbviewer.org.</b></div><div class=\"sk-container\" hidden><div class=\"sk-item\"><div class=\"sk-estimator sk-toggleable\"><input class=\"sk-toggleable__control sk-hidden--visually\" id=\"sk-estimator-id-1\" type=\"checkbox\" checked><label for=\"sk-estimator-id-1\" class=\"sk-toggleable__label sk-toggleable__label-arrow\">RandomForestRegressor</label><div class=\"sk-toggleable__content\"><pre>RandomForestRegressor(random_state=42)</pre></div></div></div></div></div>"
            ]
          },
          "metadata": {},
          "execution_count": 35
        }
      ]
    },
    {
      "cell_type": "code",
      "source": [
        "y_pred = rf.predict(Xtest)"
      ],
      "metadata": {
        "id": "EePLOFYYR0vw"
      },
      "execution_count": null,
      "outputs": []
    },
    {
      "cell_type": "code",
      "source": [
        "y_pred"
      ],
      "metadata": {
        "colab": {
          "base_uri": "https://localhost:8080/"
        },
        "id": "XqmkR8KvR82M",
        "outputId": "4a27b9e9-a6f2-4cf9-d978-e8daea2fac24"
      },
      "execution_count": null,
      "outputs": [
        {
          "output_type": "execute_result",
          "data": {
            "text/plain": [
              "array([64.2 , 58.08, 60.71, ..., 62.74, 54.8 , 70.  ])"
            ]
          },
          "metadata": {},
          "execution_count": 37
        }
      ]
    },
    {
      "cell_type": "code",
      "source": [
        "from sklearn.metrics import mean_absolute_error, mean_squared_error, r2_score"
      ],
      "metadata": {
        "id": "RQRAkgnaSQp5"
      },
      "execution_count": null,
      "outputs": []
    },
    {
      "cell_type": "code",
      "source": [
        "mae = mean_absolute_error(y_pred, Ytest)\n",
        "rmse = np.sqrt(mean_squared_error(y_pred, Ytest))\n",
        "r2 = r2_score(y_pred, Ytest)"
      ],
      "metadata": {
        "id": "dzvn_IbtSBmG"
      },
      "execution_count": null,
      "outputs": []
    },
    {
      "cell_type": "code",
      "source": [
        "print(f\"Mean Absolute Error = {mae}\")\n",
        "print(f\"Root Mean Squared Error = {rmse}\")\n",
        "print(f\"R2 Score = {r2}\")"
      ],
      "metadata": {
        "colab": {
          "base_uri": "https://localhost:8080/"
        },
        "id": "i3PFsP6-Sp7X",
        "outputId": "523c4f0c-a27f-496e-9f6f-86e69d7f25f6"
      },
      "execution_count": null,
      "outputs": [
        {
          "output_type": "stream",
          "name": "stdout",
          "text": [
            "Mean Absolute Error = 0.5186852121174615\n",
            "Root Mean Squared Error = 0.8507315673273471\n",
            "R2 Score = 0.9851190135108092\n"
          ]
        }
      ]
    },
    {
      "cell_type": "markdown",
      "source": [
        "XGB Regressor"
      ],
      "metadata": {
        "id": "C6fcialQX-jM"
      }
    },
    {
      "cell_type": "code",
      "source": [
        "from xgboost import XGBRegressor"
      ],
      "metadata": {
        "id": "ZEOeLWejX0nr"
      },
      "execution_count": null,
      "outputs": []
    },
    {
      "cell_type": "code",
      "source": [
        "xgb_regressor = XGBRegressor(random_state=42)"
      ],
      "metadata": {
        "id": "M0CwbAM-YL7o"
      },
      "execution_count": null,
      "outputs": []
    },
    {
      "cell_type": "code",
      "source": [
        "xgb_regressor.fit(Xtrain,Ytrain)"
      ],
      "metadata": {
        "colab": {
          "base_uri": "https://localhost:8080/",
          "height": 248
        },
        "id": "m8wzY2_8ao-5",
        "outputId": "d70a7b7c-1cd2-4ffe-e96d-8ab3c5986d1b"
      },
      "execution_count": null,
      "outputs": [
        {
          "output_type": "execute_result",
          "data": {
            "text/plain": [
              "XGBRegressor(base_score=None, booster=None, callbacks=None,\n",
              "             colsample_bylevel=None, colsample_bynode=None,\n",
              "             colsample_bytree=None, device=None, early_stopping_rounds=None,\n",
              "             enable_categorical=False, eval_metric=None, feature_types=None,\n",
              "             gamma=None, grow_policy=None, importance_type=None,\n",
              "             interaction_constraints=None, learning_rate=None, max_bin=None,\n",
              "             max_cat_threshold=None, max_cat_to_onehot=None,\n",
              "             max_delta_step=None, max_depth=None, max_leaves=None,\n",
              "             min_child_weight=None, missing=nan, monotone_constraints=None,\n",
              "             multi_strategy=None, n_estimators=None, n_jobs=None,\n",
              "             num_parallel_tree=None, random_state=42, ...)"
            ],
            "text/html": [
              "<style>#sk-container-id-2 {color: black;background-color: white;}#sk-container-id-2 pre{padding: 0;}#sk-container-id-2 div.sk-toggleable {background-color: white;}#sk-container-id-2 label.sk-toggleable__label {cursor: pointer;display: block;width: 100%;margin-bottom: 0;padding: 0.3em;box-sizing: border-box;text-align: center;}#sk-container-id-2 label.sk-toggleable__label-arrow:before {content: \"▸\";float: left;margin-right: 0.25em;color: #696969;}#sk-container-id-2 label.sk-toggleable__label-arrow:hover:before {color: black;}#sk-container-id-2 div.sk-estimator:hover label.sk-toggleable__label-arrow:before {color: black;}#sk-container-id-2 div.sk-toggleable__content {max-height: 0;max-width: 0;overflow: hidden;text-align: left;background-color: #f0f8ff;}#sk-container-id-2 div.sk-toggleable__content pre {margin: 0.2em;color: black;border-radius: 0.25em;background-color: #f0f8ff;}#sk-container-id-2 input.sk-toggleable__control:checked~div.sk-toggleable__content {max-height: 200px;max-width: 100%;overflow: auto;}#sk-container-id-2 input.sk-toggleable__control:checked~label.sk-toggleable__label-arrow:before {content: \"▾\";}#sk-container-id-2 div.sk-estimator input.sk-toggleable__control:checked~label.sk-toggleable__label {background-color: #d4ebff;}#sk-container-id-2 div.sk-label input.sk-toggleable__control:checked~label.sk-toggleable__label {background-color: #d4ebff;}#sk-container-id-2 input.sk-hidden--visually {border: 0;clip: rect(1px 1px 1px 1px);clip: rect(1px, 1px, 1px, 1px);height: 1px;margin: -1px;overflow: hidden;padding: 0;position: absolute;width: 1px;}#sk-container-id-2 div.sk-estimator {font-family: monospace;background-color: #f0f8ff;border: 1px dotted black;border-radius: 0.25em;box-sizing: border-box;margin-bottom: 0.5em;}#sk-container-id-2 div.sk-estimator:hover {background-color: #d4ebff;}#sk-container-id-2 div.sk-parallel-item::after {content: \"\";width: 100%;border-bottom: 1px solid gray;flex-grow: 1;}#sk-container-id-2 div.sk-label:hover label.sk-toggleable__label {background-color: #d4ebff;}#sk-container-id-2 div.sk-serial::before {content: \"\";position: absolute;border-left: 1px solid gray;box-sizing: border-box;top: 0;bottom: 0;left: 50%;z-index: 0;}#sk-container-id-2 div.sk-serial {display: flex;flex-direction: column;align-items: center;background-color: white;padding-right: 0.2em;padding-left: 0.2em;position: relative;}#sk-container-id-2 div.sk-item {position: relative;z-index: 1;}#sk-container-id-2 div.sk-parallel {display: flex;align-items: stretch;justify-content: center;background-color: white;position: relative;}#sk-container-id-2 div.sk-item::before, #sk-container-id-2 div.sk-parallel-item::before {content: \"\";position: absolute;border-left: 1px solid gray;box-sizing: border-box;top: 0;bottom: 0;left: 50%;z-index: -1;}#sk-container-id-2 div.sk-parallel-item {display: flex;flex-direction: column;z-index: 1;position: relative;background-color: white;}#sk-container-id-2 div.sk-parallel-item:first-child::after {align-self: flex-end;width: 50%;}#sk-container-id-2 div.sk-parallel-item:last-child::after {align-self: flex-start;width: 50%;}#sk-container-id-2 div.sk-parallel-item:only-child::after {width: 0;}#sk-container-id-2 div.sk-dashed-wrapped {border: 1px dashed gray;margin: 0 0.4em 0.5em 0.4em;box-sizing: border-box;padding-bottom: 0.4em;background-color: white;}#sk-container-id-2 div.sk-label label {font-family: monospace;font-weight: bold;display: inline-block;line-height: 1.2em;}#sk-container-id-2 div.sk-label-container {text-align: center;}#sk-container-id-2 div.sk-container {/* jupyter's `normalize.less` sets `[hidden] { display: none; }` but bootstrap.min.css set `[hidden] { display: none !important; }` so we also need the `!important` here to be able to override the default hidden behavior on the sphinx rendered scikit-learn.org. See: https://github.com/scikit-learn/scikit-learn/issues/21755 */display: inline-block !important;position: relative;}#sk-container-id-2 div.sk-text-repr-fallback {display: none;}</style><div id=\"sk-container-id-2\" class=\"sk-top-container\"><div class=\"sk-text-repr-fallback\"><pre>XGBRegressor(base_score=None, booster=None, callbacks=None,\n",
              "             colsample_bylevel=None, colsample_bynode=None,\n",
              "             colsample_bytree=None, device=None, early_stopping_rounds=None,\n",
              "             enable_categorical=False, eval_metric=None, feature_types=None,\n",
              "             gamma=None, grow_policy=None, importance_type=None,\n",
              "             interaction_constraints=None, learning_rate=None, max_bin=None,\n",
              "             max_cat_threshold=None, max_cat_to_onehot=None,\n",
              "             max_delta_step=None, max_depth=None, max_leaves=None,\n",
              "             min_child_weight=None, missing=nan, monotone_constraints=None,\n",
              "             multi_strategy=None, n_estimators=None, n_jobs=None,\n",
              "             num_parallel_tree=None, random_state=42, ...)</pre><b>In a Jupyter environment, please rerun this cell to show the HTML representation or trust the notebook. <br />On GitHub, the HTML representation is unable to render, please try loading this page with nbviewer.org.</b></div><div class=\"sk-container\" hidden><div class=\"sk-item\"><div class=\"sk-estimator sk-toggleable\"><input class=\"sk-toggleable__control sk-hidden--visually\" id=\"sk-estimator-id-2\" type=\"checkbox\" checked><label for=\"sk-estimator-id-2\" class=\"sk-toggleable__label sk-toggleable__label-arrow\">XGBRegressor</label><div class=\"sk-toggleable__content\"><pre>XGBRegressor(base_score=None, booster=None, callbacks=None,\n",
              "             colsample_bylevel=None, colsample_bynode=None,\n",
              "             colsample_bytree=None, device=None, early_stopping_rounds=None,\n",
              "             enable_categorical=False, eval_metric=None, feature_types=None,\n",
              "             gamma=None, grow_policy=None, importance_type=None,\n",
              "             interaction_constraints=None, learning_rate=None, max_bin=None,\n",
              "             max_cat_threshold=None, max_cat_to_onehot=None,\n",
              "             max_delta_step=None, max_depth=None, max_leaves=None,\n",
              "             min_child_weight=None, missing=nan, monotone_constraints=None,\n",
              "             multi_strategy=None, n_estimators=None, n_jobs=None,\n",
              "             num_parallel_tree=None, random_state=42, ...)</pre></div></div></div></div></div>"
            ]
          },
          "metadata": {},
          "execution_count": 43
        }
      ]
    },
    {
      "cell_type": "code",
      "source": [
        "y_pred = xgb_regressor.predict(Xtest)"
      ],
      "metadata": {
        "id": "eYpjK2coasP_"
      },
      "execution_count": null,
      "outputs": []
    },
    {
      "cell_type": "code",
      "source": [
        "mae = mean_absolute_error(y_pred,Ytest)\n",
        "rmse = np.sqrt(mean_squared_error(y_pred,Ytest))\n",
        "r2 = r2_score(y_pred,Ytest)"
      ],
      "metadata": {
        "id": "HmgAVMJuYUZO"
      },
      "execution_count": null,
      "outputs": []
    },
    {
      "cell_type": "code",
      "source": [
        "print(f\"Mean Absolute Error = {mae}\")\n",
        "print(f\"Root Mean Squared Error = {rmse}\")\n",
        "print(f\"R2 Score = {r2}\")"
      ],
      "metadata": {
        "colab": {
          "base_uri": "https://localhost:8080/"
        },
        "id": "jmX76x2OausO",
        "outputId": "2def70be-6c00-4669-ffc4-3139c7def5dd"
      },
      "execution_count": null,
      "outputs": [
        {
          "output_type": "stream",
          "name": "stdout",
          "text": [
            "Mean Absolute Error = 0.6403312943973772\n",
            "Root Mean Squared Error = 0.9010634722117701\n",
            "R2 Score = 0.9834079015834636\n"
          ]
        }
      ]
    },
    {
      "cell_type": "markdown",
      "source": [
        "Gradient Boosting Regressor"
      ],
      "metadata": {
        "id": "fhBE7n7Aa0x_"
      }
    },
    {
      "cell_type": "code",
      "source": [
        "from sklearn.ensemble import GradientBoostingRegressor"
      ],
      "metadata": {
        "id": "S0bgBTLIazAh"
      },
      "execution_count": null,
      "outputs": []
    },
    {
      "cell_type": "code",
      "source": [
        "gbr = GradientBoostingRegressor(random_state=42)"
      ],
      "metadata": {
        "id": "jxLrFlvaa-dV"
      },
      "execution_count": null,
      "outputs": []
    },
    {
      "cell_type": "code",
      "source": [
        "gbr.fit(Xtrain,Ytrain)"
      ],
      "metadata": {
        "colab": {
          "base_uri": "https://localhost:8080/",
          "height": 75
        },
        "id": "cFU7anl4bAos",
        "outputId": "bfc32a9e-2e7f-4cbc-83c0-c8fe8e9520c2"
      },
      "execution_count": null,
      "outputs": [
        {
          "output_type": "execute_result",
          "data": {
            "text/plain": [
              "GradientBoostingRegressor(random_state=42)"
            ],
            "text/html": [
              "<style>#sk-container-id-3 {color: black;background-color: white;}#sk-container-id-3 pre{padding: 0;}#sk-container-id-3 div.sk-toggleable {background-color: white;}#sk-container-id-3 label.sk-toggleable__label {cursor: pointer;display: block;width: 100%;margin-bottom: 0;padding: 0.3em;box-sizing: border-box;text-align: center;}#sk-container-id-3 label.sk-toggleable__label-arrow:before {content: \"▸\";float: left;margin-right: 0.25em;color: #696969;}#sk-container-id-3 label.sk-toggleable__label-arrow:hover:before {color: black;}#sk-container-id-3 div.sk-estimator:hover label.sk-toggleable__label-arrow:before {color: black;}#sk-container-id-3 div.sk-toggleable__content {max-height: 0;max-width: 0;overflow: hidden;text-align: left;background-color: #f0f8ff;}#sk-container-id-3 div.sk-toggleable__content pre {margin: 0.2em;color: black;border-radius: 0.25em;background-color: #f0f8ff;}#sk-container-id-3 input.sk-toggleable__control:checked~div.sk-toggleable__content {max-height: 200px;max-width: 100%;overflow: auto;}#sk-container-id-3 input.sk-toggleable__control:checked~label.sk-toggleable__label-arrow:before {content: \"▾\";}#sk-container-id-3 div.sk-estimator input.sk-toggleable__control:checked~label.sk-toggleable__label {background-color: #d4ebff;}#sk-container-id-3 div.sk-label input.sk-toggleable__control:checked~label.sk-toggleable__label {background-color: #d4ebff;}#sk-container-id-3 input.sk-hidden--visually {border: 0;clip: rect(1px 1px 1px 1px);clip: rect(1px, 1px, 1px, 1px);height: 1px;margin: -1px;overflow: hidden;padding: 0;position: absolute;width: 1px;}#sk-container-id-3 div.sk-estimator {font-family: monospace;background-color: #f0f8ff;border: 1px dotted black;border-radius: 0.25em;box-sizing: border-box;margin-bottom: 0.5em;}#sk-container-id-3 div.sk-estimator:hover {background-color: #d4ebff;}#sk-container-id-3 div.sk-parallel-item::after {content: \"\";width: 100%;border-bottom: 1px solid gray;flex-grow: 1;}#sk-container-id-3 div.sk-label:hover label.sk-toggleable__label {background-color: #d4ebff;}#sk-container-id-3 div.sk-serial::before {content: \"\";position: absolute;border-left: 1px solid gray;box-sizing: border-box;top: 0;bottom: 0;left: 50%;z-index: 0;}#sk-container-id-3 div.sk-serial {display: flex;flex-direction: column;align-items: center;background-color: white;padding-right: 0.2em;padding-left: 0.2em;position: relative;}#sk-container-id-3 div.sk-item {position: relative;z-index: 1;}#sk-container-id-3 div.sk-parallel {display: flex;align-items: stretch;justify-content: center;background-color: white;position: relative;}#sk-container-id-3 div.sk-item::before, #sk-container-id-3 div.sk-parallel-item::before {content: \"\";position: absolute;border-left: 1px solid gray;box-sizing: border-box;top: 0;bottom: 0;left: 50%;z-index: -1;}#sk-container-id-3 div.sk-parallel-item {display: flex;flex-direction: column;z-index: 1;position: relative;background-color: white;}#sk-container-id-3 div.sk-parallel-item:first-child::after {align-self: flex-end;width: 50%;}#sk-container-id-3 div.sk-parallel-item:last-child::after {align-self: flex-start;width: 50%;}#sk-container-id-3 div.sk-parallel-item:only-child::after {width: 0;}#sk-container-id-3 div.sk-dashed-wrapped {border: 1px dashed gray;margin: 0 0.4em 0.5em 0.4em;box-sizing: border-box;padding-bottom: 0.4em;background-color: white;}#sk-container-id-3 div.sk-label label {font-family: monospace;font-weight: bold;display: inline-block;line-height: 1.2em;}#sk-container-id-3 div.sk-label-container {text-align: center;}#sk-container-id-3 div.sk-container {/* jupyter's `normalize.less` sets `[hidden] { display: none; }` but bootstrap.min.css set `[hidden] { display: none !important; }` so we also need the `!important` here to be able to override the default hidden behavior on the sphinx rendered scikit-learn.org. See: https://github.com/scikit-learn/scikit-learn/issues/21755 */display: inline-block !important;position: relative;}#sk-container-id-3 div.sk-text-repr-fallback {display: none;}</style><div id=\"sk-container-id-3\" class=\"sk-top-container\"><div class=\"sk-text-repr-fallback\"><pre>GradientBoostingRegressor(random_state=42)</pre><b>In a Jupyter environment, please rerun this cell to show the HTML representation or trust the notebook. <br />On GitHub, the HTML representation is unable to render, please try loading this page with nbviewer.org.</b></div><div class=\"sk-container\" hidden><div class=\"sk-item\"><div class=\"sk-estimator sk-toggleable\"><input class=\"sk-toggleable__control sk-hidden--visually\" id=\"sk-estimator-id-3\" type=\"checkbox\" checked><label for=\"sk-estimator-id-3\" class=\"sk-toggleable__label sk-toggleable__label-arrow\">GradientBoostingRegressor</label><div class=\"sk-toggleable__content\"><pre>GradientBoostingRegressor(random_state=42)</pre></div></div></div></div></div>"
            ]
          },
          "metadata": {},
          "execution_count": 49
        }
      ]
    },
    {
      "cell_type": "code",
      "source": [
        "y_pred = gbr.predict(Xtest)"
      ],
      "metadata": {
        "id": "ZV61N0UtbGEk"
      },
      "execution_count": null,
      "outputs": []
    },
    {
      "cell_type": "code",
      "source": [
        "mae = mean_absolute_error(y_pred, Ytest)\n",
        "rmse = np.sqrt(mean_squared_error(y_pred, Ytest))\n",
        "r2 = r2_score(y_pred, Ytest)"
      ],
      "metadata": {
        "id": "VSDGf1RAbIcr"
      },
      "execution_count": null,
      "outputs": []
    },
    {
      "cell_type": "code",
      "source": [
        "print(f\"Mean Absolute Error = {mae}\")\n",
        "print(f\"Root Mean Squared Error = {rmse}\")\n",
        "print(f\"R2 Score = {r2}\")"
      ],
      "metadata": {
        "colab": {
          "base_uri": "https://localhost:8080/"
        },
        "id": "rcC55zTAbKcj",
        "outputId": "8b553f70-d084-4ce5-9a36-8edead813da1"
      },
      "execution_count": null,
      "outputs": [
        {
          "output_type": "stream",
          "name": "stdout",
          "text": [
            "Mean Absolute Error = 0.9018171655105855\n",
            "Root Mean Squared Error = 1.200299371465261\n",
            "R2 Score = 0.9698438919489261\n"
          ]
        }
      ]
    },
    {
      "cell_type": "markdown",
      "source": [
        "Defining functions for metrics"
      ],
      "metadata": {
        "id": "1CSQnFnRhPl0"
      }
    },
    {
      "cell_type": "code",
      "source": [
        "def train_rf(Xtrain, Xtest, Ytrain, Ytest):\n",
        "    rf = RandomForestRegressor(random_state=42)\n",
        "    rf.fit(Xtrain, Ytrain)\n",
        "    y_pred_rf = rf.predict(Xtest)\n",
        "    mae_rf = mean_absolute_error(Ytest, y_pred_rf)\n",
        "    rmse_rf = np.sqrt(mean_squared_error(Ytest, y_pred_rf))\n",
        "    r2_rf = r2_score(Ytest, y_pred_rf)\n",
        "    print(f\"Mean Absolute Error for Random Forest Model: {mae_rf}, RMSE: {rmse_rf}, R2: {r2_rf}\")\n",
        "    joblib.dump(rf, '/content/drive/MyDrive/Colab Notebooks/rfm_new.pkl')"
      ],
      "metadata": {
        "id": "FPTI-1QiHZss"
      },
      "execution_count": null,
      "outputs": []
    },
    {
      "cell_type": "code",
      "source": [
        "def train_xgb(Xtrain, Xtest, Ytrain, Ytest):\n",
        "    xgb = XGBRegressor(random_state=42)\n",
        "    xgb.fit(Xtrain, Ytrain)\n",
        "    y_pred_xgb = xgb.predict(Xtest)\n",
        "    mae_xgb = mean_absolute_error(Ytest, y_pred_xgb)\n",
        "    rmse_xgb = np.sqrt(mean_squared_error(Ytest, y_pred_xgb))\n",
        "    r2_xgb = r2_score(Ytest, y_pred_xgb)\n",
        "    print(f\"Mean Absolute Error for XGB Model: {mae_xgb}, RMSE: {rmse_xgb}, R2: {r2_xgb}\")\n",
        "    joblib.dump(xgb, '/content/drive/MyDrive/Colab Notebooks/xgboost_model_new.pkl')"
      ],
      "metadata": {
        "id": "GYRDIrgZHrVz"
      },
      "execution_count": null,
      "outputs": []
    },
    {
      "cell_type": "code",
      "source": [
        "def train_gb(Xtrain, Xtest, Ytrain, Ytest):\n",
        "    gbr = GradientBoostingRegressor(random_state=42)\n",
        "    gbr.fit(Xtrain, Ytrain)\n",
        "    y_pred_gbr = gbr.predict(Xtest)\n",
        "    mae_gbr = mean_absolute_error(Ytest, y_pred_gbr)\n",
        "    rmse_gbr = np.sqrt(mean_squared_error(Ytest, y_pred_gbr))\n",
        "    r2_gbr = r2_score(Ytest, y_pred_gbr)\n",
        "    print(f\"Mean Absolute Error for Gradient Boosting Model: {mae_gbr}, RMSE: {rmse_gbr}, R2: {r2_gbr}\")\n",
        "    joblib.dump(gbr, '/content/drive/MyDrive/Colab Notebooks/gbn_new.pkl')"
      ],
      "metadata": {
        "id": "eWX3JGxcHvT_"
      },
      "execution_count": null,
      "outputs": []
    },
    {
      "cell_type": "markdown",
      "source": [
        "Cross Validation with Grid Search"
      ],
      "metadata": {
        "id": "PQA23IW4hl8q"
      }
    },
    {
      "cell_type": "code",
      "source": [
        "from sklearn.model_selection import GridSearchCV"
      ],
      "metadata": {
        "id": "kMwQoweWhuhG"
      },
      "execution_count": null,
      "outputs": []
    },
    {
      "cell_type": "code",
      "source": [
        "rf_params = {'n_estimators':[50, 100],'max_depth':[None, 10],'min_samples_split':[2, 5]}\n",
        "xgb_params = {'n_estimators':[50, 100],'max_depth': [4, 5], 'learning_rate': [0.1, 0.01]}"
      ],
      "metadata": {
        "id": "_T6x8In5i7Jx"
      },
      "execution_count": null,
      "outputs": []
    },
    {
      "cell_type": "code",
      "source": [
        "rf_grid_search = GridSearchCV(estimator=rf, param_grid=rf_params, cv=3, n_jobs=-1, verbose=2)"
      ],
      "metadata": {
        "id": "bvtqgg_EjvM2"
      },
      "execution_count": null,
      "outputs": []
    },
    {
      "cell_type": "code",
      "source": [
        "rf_grid_search.fit(Xtrain, Ytrain)"
      ],
      "metadata": {
        "id": "-YALVVABh9bu",
        "colab": {
          "base_uri": "https://localhost:8080/",
          "height": 136
        },
        "outputId": "0100f32a-8bcb-4693-daf5-b0d1a2fa8888"
      },
      "execution_count": null,
      "outputs": [
        {
          "output_type": "stream",
          "name": "stdout",
          "text": [
            "Fitting 3 folds for each of 8 candidates, totalling 24 fits\n"
          ]
        },
        {
          "output_type": "execute_result",
          "data": {
            "text/plain": [
              "GridSearchCV(cv=3, estimator=RandomForestRegressor(random_state=42), n_jobs=-1,\n",
              "             param_grid={'max_depth': [None, 10], 'min_samples_split': [2, 5],\n",
              "                         'n_estimators': [50, 100]},\n",
              "             verbose=2)"
            ],
            "text/html": [
              "<style>#sk-container-id-4 {color: black;background-color: white;}#sk-container-id-4 pre{padding: 0;}#sk-container-id-4 div.sk-toggleable {background-color: white;}#sk-container-id-4 label.sk-toggleable__label {cursor: pointer;display: block;width: 100%;margin-bottom: 0;padding: 0.3em;box-sizing: border-box;text-align: center;}#sk-container-id-4 label.sk-toggleable__label-arrow:before {content: \"▸\";float: left;margin-right: 0.25em;color: #696969;}#sk-container-id-4 label.sk-toggleable__label-arrow:hover:before {color: black;}#sk-container-id-4 div.sk-estimator:hover label.sk-toggleable__label-arrow:before {color: black;}#sk-container-id-4 div.sk-toggleable__content {max-height: 0;max-width: 0;overflow: hidden;text-align: left;background-color: #f0f8ff;}#sk-container-id-4 div.sk-toggleable__content pre {margin: 0.2em;color: black;border-radius: 0.25em;background-color: #f0f8ff;}#sk-container-id-4 input.sk-toggleable__control:checked~div.sk-toggleable__content {max-height: 200px;max-width: 100%;overflow: auto;}#sk-container-id-4 input.sk-toggleable__control:checked~label.sk-toggleable__label-arrow:before {content: \"▾\";}#sk-container-id-4 div.sk-estimator input.sk-toggleable__control:checked~label.sk-toggleable__label {background-color: #d4ebff;}#sk-container-id-4 div.sk-label input.sk-toggleable__control:checked~label.sk-toggleable__label {background-color: #d4ebff;}#sk-container-id-4 input.sk-hidden--visually {border: 0;clip: rect(1px 1px 1px 1px);clip: rect(1px, 1px, 1px, 1px);height: 1px;margin: -1px;overflow: hidden;padding: 0;position: absolute;width: 1px;}#sk-container-id-4 div.sk-estimator {font-family: monospace;background-color: #f0f8ff;border: 1px dotted black;border-radius: 0.25em;box-sizing: border-box;margin-bottom: 0.5em;}#sk-container-id-4 div.sk-estimator:hover {background-color: #d4ebff;}#sk-container-id-4 div.sk-parallel-item::after {content: \"\";width: 100%;border-bottom: 1px solid gray;flex-grow: 1;}#sk-container-id-4 div.sk-label:hover label.sk-toggleable__label {background-color: #d4ebff;}#sk-container-id-4 div.sk-serial::before {content: \"\";position: absolute;border-left: 1px solid gray;box-sizing: border-box;top: 0;bottom: 0;left: 50%;z-index: 0;}#sk-container-id-4 div.sk-serial {display: flex;flex-direction: column;align-items: center;background-color: white;padding-right: 0.2em;padding-left: 0.2em;position: relative;}#sk-container-id-4 div.sk-item {position: relative;z-index: 1;}#sk-container-id-4 div.sk-parallel {display: flex;align-items: stretch;justify-content: center;background-color: white;position: relative;}#sk-container-id-4 div.sk-item::before, #sk-container-id-4 div.sk-parallel-item::before {content: \"\";position: absolute;border-left: 1px solid gray;box-sizing: border-box;top: 0;bottom: 0;left: 50%;z-index: -1;}#sk-container-id-4 div.sk-parallel-item {display: flex;flex-direction: column;z-index: 1;position: relative;background-color: white;}#sk-container-id-4 div.sk-parallel-item:first-child::after {align-self: flex-end;width: 50%;}#sk-container-id-4 div.sk-parallel-item:last-child::after {align-self: flex-start;width: 50%;}#sk-container-id-4 div.sk-parallel-item:only-child::after {width: 0;}#sk-container-id-4 div.sk-dashed-wrapped {border: 1px dashed gray;margin: 0 0.4em 0.5em 0.4em;box-sizing: border-box;padding-bottom: 0.4em;background-color: white;}#sk-container-id-4 div.sk-label label {font-family: monospace;font-weight: bold;display: inline-block;line-height: 1.2em;}#sk-container-id-4 div.sk-label-container {text-align: center;}#sk-container-id-4 div.sk-container {/* jupyter's `normalize.less` sets `[hidden] { display: none; }` but bootstrap.min.css set `[hidden] { display: none !important; }` so we also need the `!important` here to be able to override the default hidden behavior on the sphinx rendered scikit-learn.org. See: https://github.com/scikit-learn/scikit-learn/issues/21755 */display: inline-block !important;position: relative;}#sk-container-id-4 div.sk-text-repr-fallback {display: none;}</style><div id=\"sk-container-id-4\" class=\"sk-top-container\"><div class=\"sk-text-repr-fallback\"><pre>GridSearchCV(cv=3, estimator=RandomForestRegressor(random_state=42), n_jobs=-1,\n",
              "             param_grid={&#x27;max_depth&#x27;: [None, 10], &#x27;min_samples_split&#x27;: [2, 5],\n",
              "                         &#x27;n_estimators&#x27;: [50, 100]},\n",
              "             verbose=2)</pre><b>In a Jupyter environment, please rerun this cell to show the HTML representation or trust the notebook. <br />On GitHub, the HTML representation is unable to render, please try loading this page with nbviewer.org.</b></div><div class=\"sk-container\" hidden><div class=\"sk-item sk-dashed-wrapped\"><div class=\"sk-label-container\"><div class=\"sk-label sk-toggleable\"><input class=\"sk-toggleable__control sk-hidden--visually\" id=\"sk-estimator-id-4\" type=\"checkbox\" ><label for=\"sk-estimator-id-4\" class=\"sk-toggleable__label sk-toggleable__label-arrow\">GridSearchCV</label><div class=\"sk-toggleable__content\"><pre>GridSearchCV(cv=3, estimator=RandomForestRegressor(random_state=42), n_jobs=-1,\n",
              "             param_grid={&#x27;max_depth&#x27;: [None, 10], &#x27;min_samples_split&#x27;: [2, 5],\n",
              "                         &#x27;n_estimators&#x27;: [50, 100]},\n",
              "             verbose=2)</pre></div></div></div><div class=\"sk-parallel\"><div class=\"sk-parallel-item\"><div class=\"sk-item\"><div class=\"sk-label-container\"><div class=\"sk-label sk-toggleable\"><input class=\"sk-toggleable__control sk-hidden--visually\" id=\"sk-estimator-id-5\" type=\"checkbox\" ><label for=\"sk-estimator-id-5\" class=\"sk-toggleable__label sk-toggleable__label-arrow\">estimator: RandomForestRegressor</label><div class=\"sk-toggleable__content\"><pre>RandomForestRegressor(random_state=42)</pre></div></div></div><div class=\"sk-serial\"><div class=\"sk-item\"><div class=\"sk-estimator sk-toggleable\"><input class=\"sk-toggleable__control sk-hidden--visually\" id=\"sk-estimator-id-6\" type=\"checkbox\" ><label for=\"sk-estimator-id-6\" class=\"sk-toggleable__label sk-toggleable__label-arrow\">RandomForestRegressor</label><div class=\"sk-toggleable__content\"><pre>RandomForestRegressor(random_state=42)</pre></div></div></div></div></div></div></div></div></div></div>"
            ]
          },
          "metadata": {},
          "execution_count": 59
        }
      ]
    },
    {
      "cell_type": "code",
      "source": [
        "xgb_grid_search = GridSearchCV(estimator= xgb_regressor, param_grid=xgb_params, cv=3, n_jobs=-1, verbose=2)"
      ],
      "metadata": {
        "id": "gWJsBx4ny-Wp"
      },
      "execution_count": null,
      "outputs": []
    },
    {
      "cell_type": "code",
      "source": [
        "xgb_grid_search.fit(Xtrain, Ytrain)"
      ],
      "metadata": {
        "id": "ufbkLLfiy-6Z",
        "colab": {
          "base_uri": "https://localhost:8080/",
          "height": 136
        },
        "outputId": "e6e0700e-9c48-499a-d908-30702744d04b"
      },
      "execution_count": null,
      "outputs": [
        {
          "output_type": "stream",
          "name": "stdout",
          "text": [
            "Fitting 3 folds for each of 8 candidates, totalling 24 fits\n"
          ]
        },
        {
          "output_type": "execute_result",
          "data": {
            "text/plain": [
              "GridSearchCV(cv=3,\n",
              "             estimator=XGBRegressor(base_score=None, booster=None,\n",
              "                                    callbacks=None, colsample_bylevel=None,\n",
              "                                    colsample_bynode=None,\n",
              "                                    colsample_bytree=None, device=None,\n",
              "                                    early_stopping_rounds=None,\n",
              "                                    enable_categorical=False, eval_metric=None,\n",
              "                                    feature_types=None, gamma=None,\n",
              "                                    grow_policy=None, importance_type=None,\n",
              "                                    interaction_constraints=None,\n",
              "                                    learning_rate=None, m...\n",
              "                                    max_cat_threshold=None,\n",
              "                                    max_cat_to_onehot=None, max_delta_step=None,\n",
              "                                    max_depth=None, max_leaves=None,\n",
              "                                    min_child_weight=None, missing=nan,\n",
              "                                    monotone_constraints=None,\n",
              "                                    multi_strategy=None, n_estimators=None,\n",
              "                                    n_jobs=None, num_parallel_tree=None,\n",
              "                                    random_state=42, ...),\n",
              "             n_jobs=-1,\n",
              "             param_grid={'learning_rate': [0.1, 0.01], 'max_depth': [4, 5],\n",
              "                         'n_estimators': [50, 100]},\n",
              "             verbose=2)"
            ],
            "text/html": [
              "<style>#sk-container-id-5 {color: black;background-color: white;}#sk-container-id-5 pre{padding: 0;}#sk-container-id-5 div.sk-toggleable {background-color: white;}#sk-container-id-5 label.sk-toggleable__label {cursor: pointer;display: block;width: 100%;margin-bottom: 0;padding: 0.3em;box-sizing: border-box;text-align: center;}#sk-container-id-5 label.sk-toggleable__label-arrow:before {content: \"▸\";float: left;margin-right: 0.25em;color: #696969;}#sk-container-id-5 label.sk-toggleable__label-arrow:hover:before {color: black;}#sk-container-id-5 div.sk-estimator:hover label.sk-toggleable__label-arrow:before {color: black;}#sk-container-id-5 div.sk-toggleable__content {max-height: 0;max-width: 0;overflow: hidden;text-align: left;background-color: #f0f8ff;}#sk-container-id-5 div.sk-toggleable__content pre {margin: 0.2em;color: black;border-radius: 0.25em;background-color: #f0f8ff;}#sk-container-id-5 input.sk-toggleable__control:checked~div.sk-toggleable__content {max-height: 200px;max-width: 100%;overflow: auto;}#sk-container-id-5 input.sk-toggleable__control:checked~label.sk-toggleable__label-arrow:before {content: \"▾\";}#sk-container-id-5 div.sk-estimator input.sk-toggleable__control:checked~label.sk-toggleable__label {background-color: #d4ebff;}#sk-container-id-5 div.sk-label input.sk-toggleable__control:checked~label.sk-toggleable__label {background-color: #d4ebff;}#sk-container-id-5 input.sk-hidden--visually {border: 0;clip: rect(1px 1px 1px 1px);clip: rect(1px, 1px, 1px, 1px);height: 1px;margin: -1px;overflow: hidden;padding: 0;position: absolute;width: 1px;}#sk-container-id-5 div.sk-estimator {font-family: monospace;background-color: #f0f8ff;border: 1px dotted black;border-radius: 0.25em;box-sizing: border-box;margin-bottom: 0.5em;}#sk-container-id-5 div.sk-estimator:hover {background-color: #d4ebff;}#sk-container-id-5 div.sk-parallel-item::after {content: \"\";width: 100%;border-bottom: 1px solid gray;flex-grow: 1;}#sk-container-id-5 div.sk-label:hover label.sk-toggleable__label {background-color: #d4ebff;}#sk-container-id-5 div.sk-serial::before {content: \"\";position: absolute;border-left: 1px solid gray;box-sizing: border-box;top: 0;bottom: 0;left: 50%;z-index: 0;}#sk-container-id-5 div.sk-serial {display: flex;flex-direction: column;align-items: center;background-color: white;padding-right: 0.2em;padding-left: 0.2em;position: relative;}#sk-container-id-5 div.sk-item {position: relative;z-index: 1;}#sk-container-id-5 div.sk-parallel {display: flex;align-items: stretch;justify-content: center;background-color: white;position: relative;}#sk-container-id-5 div.sk-item::before, #sk-container-id-5 div.sk-parallel-item::before {content: \"\";position: absolute;border-left: 1px solid gray;box-sizing: border-box;top: 0;bottom: 0;left: 50%;z-index: -1;}#sk-container-id-5 div.sk-parallel-item {display: flex;flex-direction: column;z-index: 1;position: relative;background-color: white;}#sk-container-id-5 div.sk-parallel-item:first-child::after {align-self: flex-end;width: 50%;}#sk-container-id-5 div.sk-parallel-item:last-child::after {align-self: flex-start;width: 50%;}#sk-container-id-5 div.sk-parallel-item:only-child::after {width: 0;}#sk-container-id-5 div.sk-dashed-wrapped {border: 1px dashed gray;margin: 0 0.4em 0.5em 0.4em;box-sizing: border-box;padding-bottom: 0.4em;background-color: white;}#sk-container-id-5 div.sk-label label {font-family: monospace;font-weight: bold;display: inline-block;line-height: 1.2em;}#sk-container-id-5 div.sk-label-container {text-align: center;}#sk-container-id-5 div.sk-container {/* jupyter's `normalize.less` sets `[hidden] { display: none; }` but bootstrap.min.css set `[hidden] { display: none !important; }` so we also need the `!important` here to be able to override the default hidden behavior on the sphinx rendered scikit-learn.org. See: https://github.com/scikit-learn/scikit-learn/issues/21755 */display: inline-block !important;position: relative;}#sk-container-id-5 div.sk-text-repr-fallback {display: none;}</style><div id=\"sk-container-id-5\" class=\"sk-top-container\"><div class=\"sk-text-repr-fallback\"><pre>GridSearchCV(cv=3,\n",
              "             estimator=XGBRegressor(base_score=None, booster=None,\n",
              "                                    callbacks=None, colsample_bylevel=None,\n",
              "                                    colsample_bynode=None,\n",
              "                                    colsample_bytree=None, device=None,\n",
              "                                    early_stopping_rounds=None,\n",
              "                                    enable_categorical=False, eval_metric=None,\n",
              "                                    feature_types=None, gamma=None,\n",
              "                                    grow_policy=None, importance_type=None,\n",
              "                                    interaction_constraints=None,\n",
              "                                    learning_rate=None, m...\n",
              "                                    max_cat_threshold=None,\n",
              "                                    max_cat_to_onehot=None, max_delta_step=None,\n",
              "                                    max_depth=None, max_leaves=None,\n",
              "                                    min_child_weight=None, missing=nan,\n",
              "                                    monotone_constraints=None,\n",
              "                                    multi_strategy=None, n_estimators=None,\n",
              "                                    n_jobs=None, num_parallel_tree=None,\n",
              "                                    random_state=42, ...),\n",
              "             n_jobs=-1,\n",
              "             param_grid={&#x27;learning_rate&#x27;: [0.1, 0.01], &#x27;max_depth&#x27;: [4, 5],\n",
              "                         &#x27;n_estimators&#x27;: [50, 100]},\n",
              "             verbose=2)</pre><b>In a Jupyter environment, please rerun this cell to show the HTML representation or trust the notebook. <br />On GitHub, the HTML representation is unable to render, please try loading this page with nbviewer.org.</b></div><div class=\"sk-container\" hidden><div class=\"sk-item sk-dashed-wrapped\"><div class=\"sk-label-container\"><div class=\"sk-label sk-toggleable\"><input class=\"sk-toggleable__control sk-hidden--visually\" id=\"sk-estimator-id-7\" type=\"checkbox\" ><label for=\"sk-estimator-id-7\" class=\"sk-toggleable__label sk-toggleable__label-arrow\">GridSearchCV</label><div class=\"sk-toggleable__content\"><pre>GridSearchCV(cv=3,\n",
              "             estimator=XGBRegressor(base_score=None, booster=None,\n",
              "                                    callbacks=None, colsample_bylevel=None,\n",
              "                                    colsample_bynode=None,\n",
              "                                    colsample_bytree=None, device=None,\n",
              "                                    early_stopping_rounds=None,\n",
              "                                    enable_categorical=False, eval_metric=None,\n",
              "                                    feature_types=None, gamma=None,\n",
              "                                    grow_policy=None, importance_type=None,\n",
              "                                    interaction_constraints=None,\n",
              "                                    learning_rate=None, m...\n",
              "                                    max_cat_threshold=None,\n",
              "                                    max_cat_to_onehot=None, max_delta_step=None,\n",
              "                                    max_depth=None, max_leaves=None,\n",
              "                                    min_child_weight=None, missing=nan,\n",
              "                                    monotone_constraints=None,\n",
              "                                    multi_strategy=None, n_estimators=None,\n",
              "                                    n_jobs=None, num_parallel_tree=None,\n",
              "                                    random_state=42, ...),\n",
              "             n_jobs=-1,\n",
              "             param_grid={&#x27;learning_rate&#x27;: [0.1, 0.01], &#x27;max_depth&#x27;: [4, 5],\n",
              "                         &#x27;n_estimators&#x27;: [50, 100]},\n",
              "             verbose=2)</pre></div></div></div><div class=\"sk-parallel\"><div class=\"sk-parallel-item\"><div class=\"sk-item\"><div class=\"sk-label-container\"><div class=\"sk-label sk-toggleable\"><input class=\"sk-toggleable__control sk-hidden--visually\" id=\"sk-estimator-id-8\" type=\"checkbox\" ><label for=\"sk-estimator-id-8\" class=\"sk-toggleable__label sk-toggleable__label-arrow\">estimator: XGBRegressor</label><div class=\"sk-toggleable__content\"><pre>XGBRegressor(base_score=None, booster=None, callbacks=None,\n",
              "             colsample_bylevel=None, colsample_bynode=None,\n",
              "             colsample_bytree=None, device=None, early_stopping_rounds=None,\n",
              "             enable_categorical=False, eval_metric=None, feature_types=None,\n",
              "             gamma=None, grow_policy=None, importance_type=None,\n",
              "             interaction_constraints=None, learning_rate=None, max_bin=None,\n",
              "             max_cat_threshold=None, max_cat_to_onehot=None,\n",
              "             max_delta_step=None, max_depth=None, max_leaves=None,\n",
              "             min_child_weight=None, missing=nan, monotone_constraints=None,\n",
              "             multi_strategy=None, n_estimators=None, n_jobs=None,\n",
              "             num_parallel_tree=None, random_state=42, ...)</pre></div></div></div><div class=\"sk-serial\"><div class=\"sk-item\"><div class=\"sk-estimator sk-toggleable\"><input class=\"sk-toggleable__control sk-hidden--visually\" id=\"sk-estimator-id-9\" type=\"checkbox\" ><label for=\"sk-estimator-id-9\" class=\"sk-toggleable__label sk-toggleable__label-arrow\">XGBRegressor</label><div class=\"sk-toggleable__content\"><pre>XGBRegressor(base_score=None, booster=None, callbacks=None,\n",
              "             colsample_bylevel=None, colsample_bynode=None,\n",
              "             colsample_bytree=None, device=None, early_stopping_rounds=None,\n",
              "             enable_categorical=False, eval_metric=None, feature_types=None,\n",
              "             gamma=None, grow_policy=None, importance_type=None,\n",
              "             interaction_constraints=None, learning_rate=None, max_bin=None,\n",
              "             max_cat_threshold=None, max_cat_to_onehot=None,\n",
              "             max_delta_step=None, max_depth=None, max_leaves=None,\n",
              "             min_child_weight=None, missing=nan, monotone_constraints=None,\n",
              "             multi_strategy=None, n_estimators=None, n_jobs=None,\n",
              "             num_parallel_tree=None, random_state=42, ...)</pre></div></div></div></div></div></div></div></div></div></div>"
            ]
          },
          "metadata": {},
          "execution_count": 61
        }
      ]
    },
    {
      "cell_type": "code",
      "source": [
        "best_rf_model = rf_grid_search.best_estimator_\n",
        "print(\"Best Random Forest parameters:\", rf_grid_search.best_params_)"
      ],
      "metadata": {
        "id": "yXWNA1MFoZId",
        "colab": {
          "base_uri": "https://localhost:8080/"
        },
        "outputId": "64c69969-4afc-4edc-b0c6-83e0457baa48"
      },
      "execution_count": null,
      "outputs": [
        {
          "output_type": "stream",
          "name": "stdout",
          "text": [
            "Best Random Forest parameters: {'max_depth': None, 'min_samples_split': 2, 'n_estimators': 100}\n"
          ]
        }
      ]
    },
    {
      "cell_type": "code",
      "source": [
        "best_xgb_model = xgb_grid_search.best_estimator_\n",
        "print(\"Best XGB Regressor parameters:\", xgb_grid_search.best_params_)"
      ],
      "metadata": {
        "id": "xTvlqXiffaut",
        "colab": {
          "base_uri": "https://localhost:8080/"
        },
        "outputId": "1bab00f2-e274-4cf9-cd10-75c03116f05e"
      },
      "execution_count": null,
      "outputs": [
        {
          "output_type": "stream",
          "name": "stdout",
          "text": [
            "Best XGB Regressor parameters: {'learning_rate': 0.1, 'max_depth': 5, 'n_estimators': 100}\n"
          ]
        }
      ]
    },
    {
      "cell_type": "code",
      "source": [
        "import joblib"
      ],
      "metadata": {
        "id": "0KF8HrG71yvv"
      },
      "execution_count": null,
      "outputs": []
    },
    {
      "cell_type": "code",
      "source": [
        "joblib.dump(best_rf_model,'/content/drive/MyDrive/Colab Notebooks/best_rf_model.pkl')"
      ],
      "metadata": {
        "id": "5Wn7HXCpcFQY",
        "colab": {
          "base_uri": "https://localhost:8080/"
        },
        "outputId": "fdaf322a-6129-4b80-9c56-59cb9846bee6"
      },
      "execution_count": null,
      "outputs": [
        {
          "output_type": "execute_result",
          "data": {
            "text/plain": [
              "['/content/drive/MyDrive/Colab Notebooks/best_rf_model.pkl']"
            ]
          },
          "metadata": {},
          "execution_count": 65
        }
      ]
    },
    {
      "cell_type": "code",
      "source": [
        "joblib.dump(best_xgb_model, '/content/drive/MyDrive/Colab Notebooks/best_xgb_model.pkl')"
      ],
      "metadata": {
        "colab": {
          "base_uri": "https://localhost:8080/"
        },
        "id": "Qtl1sE6918nA",
        "outputId": "e3f350c7-ba6a-49d6-b851-caa49f899ec0"
      },
      "execution_count": null,
      "outputs": [
        {
          "output_type": "execute_result",
          "data": {
            "text/plain": [
              "['/content/drive/MyDrive/Colab Notebooks/best_xgb_model.pkl']"
            ]
          },
          "metadata": {},
          "execution_count": 66
        }
      ]
    },
    {
      "cell_type": "code",
      "source": [
        "#Make predictions with the best RF model\n",
        "\n",
        "y_pred_best_rf = best_rf_model.predict(Xtest)\n",
        "mae_best_rf = mean_absolute_error(Ytest,y_pred_best_rf)\n",
        "print(f\"Mean Absolute Error for best Random Forest model = {mae_best_rf}\")"
      ],
      "metadata": {
        "colab": {
          "base_uri": "https://localhost:8080/"
        },
        "id": "As4Ccq1u1-Ks",
        "outputId": "8ede8a54-2afb-4c4b-b530-f8837259b5e8"
      },
      "execution_count": null,
      "outputs": [
        {
          "output_type": "stream",
          "name": "stdout",
          "text": [
            "Mean Absolute Error for best Random Forest model = 0.5186852121174615\n"
          ]
        }
      ]
    },
    {
      "cell_type": "code",
      "source": [
        "#Make predictions with the best XGB model\n",
        "\n",
        "y_pred_best_xgb = best_xgb_model.predict(Xtest)\n",
        "mae_best_xgb = mean_absolute_error(Ytest,y_pred_best_xgb)\n",
        "print(f\"Mean Absolute Error for Best XGB model= {mae_best_xgb}\")"
      ],
      "metadata": {
        "colab": {
          "base_uri": "https://localhost:8080/"
        },
        "id": "bj45zy422eqr",
        "outputId": "72dfb46f-67ef-4fb4-a403-c9e7fa686ed8"
      },
      "execution_count": null,
      "outputs": [
        {
          "output_type": "stream",
          "name": "stdout",
          "text": [
            "Mean Absolute Error for Best XGB model= 0.7123979403874726\n"
          ]
        }
      ]
    },
    {
      "cell_type": "code",
      "source": [
        "#consolidating this process into a function to make testing new data easier\n",
        "def tuning(X_train, Y_train):\n",
        "    rf_params = {'n_estimators': [50, 100], 'max_depth': [None, 10], 'min_samples_split': [2, 5]}\n",
        "    xgb_params = {'n_estimators': [50, 100], 'max_depth': [4, 5], 'learning_rate': [0.1, 0.01]}\n",
        "\n",
        "    rf_grid_search = GridSearchCV(estimator=RandomForestRegressor(),param_grid=rf_params,cv=3,n_jobs=-1,verbose=2)\n",
        "    xgb_grid_search = GridSearchCV(estimator=XGBRegressor(),param_grid=xgb_params,cv=3, n_jobs=-1, verbose=2)\n",
        "\n",
        "    rf_grid_search.fit(X_train, Y_train)\n",
        "    xgb_grid_search.fit(X_train, Y_train)\n",
        "\n",
        "    best_rf_model = rf_grid_search.best_estimator_\n",
        "    best_xgb_model = xgb_grid_search.best_estimator_\n",
        "\n",
        "    joblib.dump(best_rf_model,'/content/drive/MyDrive/Colab Notebooks/best_rf_model.pkl')\n",
        "    joblib.dump(best_xgb_model,'/content/drive/MyDrive/Colab Notebooks/best_xgb_model.pkl')\n",
        "\n",
        "    return best_rf_model, best_xgb_model\n"
      ],
      "metadata": {
        "id": "mtB4WO8ejTzd"
      },
      "execution_count": null,
      "outputs": []
    },
    {
      "cell_type": "markdown",
      "source": [
        "Ensemble model"
      ],
      "metadata": {
        "id": "8QwexrV920ba"
      }
    },
    {
      "cell_type": "code",
      "source": [
        "from sklearn.ensemble import VotingRegressor"
      ],
      "metadata": {
        "id": "AblXCyw72zlQ"
      },
      "execution_count": null,
      "outputs": []
    },
    {
      "cell_type": "code",
      "source": [
        "em = VotingRegressor(estimators=[('rf',rf),('xgb', xgb_regressor)])"
      ],
      "metadata": {
        "id": "14Dmoef12t0g"
      },
      "execution_count": null,
      "outputs": []
    },
    {
      "cell_type": "code",
      "source": [
        "em.fit(Xtrain, Ytrain)"
      ],
      "metadata": {
        "colab": {
          "base_uri": "https://localhost:8080/",
          "height": 110
        },
        "id": "SxjWcuU63Lol",
        "outputId": "693aa561-5641-4159-a97b-0e31f59324ce"
      },
      "execution_count": null,
      "outputs": [
        {
          "output_type": "execute_result",
          "data": {
            "text/plain": [
              "VotingRegressor(estimators=[('rf', RandomForestRegressor(random_state=42)),\n",
              "                            ('xgb',\n",
              "                             XGBRegressor(base_score=None, booster=None,\n",
              "                                          callbacks=None,\n",
              "                                          colsample_bylevel=None,\n",
              "                                          colsample_bynode=None,\n",
              "                                          colsample_bytree=None, device=None,\n",
              "                                          early_stopping_rounds=None,\n",
              "                                          enable_categorical=False,\n",
              "                                          eval_metric=None, feature_types=None,\n",
              "                                          gamma=None, grow_policy=None,\n",
              "                                          importance_type=None,\n",
              "                                          interaction_constraints=None,\n",
              "                                          learning_rate=None, max_bin=None,\n",
              "                                          max_cat_threshold=None,\n",
              "                                          max_cat_to_onehot=None,\n",
              "                                          max_delta_step=None, max_depth=None,\n",
              "                                          max_leaves=None,\n",
              "                                          min_child_weight=None, missing=nan,\n",
              "                                          monotone_constraints=None,\n",
              "                                          multi_strategy=None,\n",
              "                                          n_estimators=None, n_jobs=None,\n",
              "                                          num_parallel_tree=None,\n",
              "                                          random_state=42, ...))])"
            ],
            "text/html": [
              "<style>#sk-container-id-6 {color: black;background-color: white;}#sk-container-id-6 pre{padding: 0;}#sk-container-id-6 div.sk-toggleable {background-color: white;}#sk-container-id-6 label.sk-toggleable__label {cursor: pointer;display: block;width: 100%;margin-bottom: 0;padding: 0.3em;box-sizing: border-box;text-align: center;}#sk-container-id-6 label.sk-toggleable__label-arrow:before {content: \"▸\";float: left;margin-right: 0.25em;color: #696969;}#sk-container-id-6 label.sk-toggleable__label-arrow:hover:before {color: black;}#sk-container-id-6 div.sk-estimator:hover label.sk-toggleable__label-arrow:before {color: black;}#sk-container-id-6 div.sk-toggleable__content {max-height: 0;max-width: 0;overflow: hidden;text-align: left;background-color: #f0f8ff;}#sk-container-id-6 div.sk-toggleable__content pre {margin: 0.2em;color: black;border-radius: 0.25em;background-color: #f0f8ff;}#sk-container-id-6 input.sk-toggleable__control:checked~div.sk-toggleable__content {max-height: 200px;max-width: 100%;overflow: auto;}#sk-container-id-6 input.sk-toggleable__control:checked~label.sk-toggleable__label-arrow:before {content: \"▾\";}#sk-container-id-6 div.sk-estimator input.sk-toggleable__control:checked~label.sk-toggleable__label {background-color: #d4ebff;}#sk-container-id-6 div.sk-label input.sk-toggleable__control:checked~label.sk-toggleable__label {background-color: #d4ebff;}#sk-container-id-6 input.sk-hidden--visually {border: 0;clip: rect(1px 1px 1px 1px);clip: rect(1px, 1px, 1px, 1px);height: 1px;margin: -1px;overflow: hidden;padding: 0;position: absolute;width: 1px;}#sk-container-id-6 div.sk-estimator {font-family: monospace;background-color: #f0f8ff;border: 1px dotted black;border-radius: 0.25em;box-sizing: border-box;margin-bottom: 0.5em;}#sk-container-id-6 div.sk-estimator:hover {background-color: #d4ebff;}#sk-container-id-6 div.sk-parallel-item::after {content: \"\";width: 100%;border-bottom: 1px solid gray;flex-grow: 1;}#sk-container-id-6 div.sk-label:hover label.sk-toggleable__label {background-color: #d4ebff;}#sk-container-id-6 div.sk-serial::before {content: \"\";position: absolute;border-left: 1px solid gray;box-sizing: border-box;top: 0;bottom: 0;left: 50%;z-index: 0;}#sk-container-id-6 div.sk-serial {display: flex;flex-direction: column;align-items: center;background-color: white;padding-right: 0.2em;padding-left: 0.2em;position: relative;}#sk-container-id-6 div.sk-item {position: relative;z-index: 1;}#sk-container-id-6 div.sk-parallel {display: flex;align-items: stretch;justify-content: center;background-color: white;position: relative;}#sk-container-id-6 div.sk-item::before, #sk-container-id-6 div.sk-parallel-item::before {content: \"\";position: absolute;border-left: 1px solid gray;box-sizing: border-box;top: 0;bottom: 0;left: 50%;z-index: -1;}#sk-container-id-6 div.sk-parallel-item {display: flex;flex-direction: column;z-index: 1;position: relative;background-color: white;}#sk-container-id-6 div.sk-parallel-item:first-child::after {align-self: flex-end;width: 50%;}#sk-container-id-6 div.sk-parallel-item:last-child::after {align-self: flex-start;width: 50%;}#sk-container-id-6 div.sk-parallel-item:only-child::after {width: 0;}#sk-container-id-6 div.sk-dashed-wrapped {border: 1px dashed gray;margin: 0 0.4em 0.5em 0.4em;box-sizing: border-box;padding-bottom: 0.4em;background-color: white;}#sk-container-id-6 div.sk-label label {font-family: monospace;font-weight: bold;display: inline-block;line-height: 1.2em;}#sk-container-id-6 div.sk-label-container {text-align: center;}#sk-container-id-6 div.sk-container {/* jupyter's `normalize.less` sets `[hidden] { display: none; }` but bootstrap.min.css set `[hidden] { display: none !important; }` so we also need the `!important` here to be able to override the default hidden behavior on the sphinx rendered scikit-learn.org. See: https://github.com/scikit-learn/scikit-learn/issues/21755 */display: inline-block !important;position: relative;}#sk-container-id-6 div.sk-text-repr-fallback {display: none;}</style><div id=\"sk-container-id-6\" class=\"sk-top-container\"><div class=\"sk-text-repr-fallback\"><pre>VotingRegressor(estimators=[(&#x27;rf&#x27;, RandomForestRegressor(random_state=42)),\n",
              "                            (&#x27;xgb&#x27;,\n",
              "                             XGBRegressor(base_score=None, booster=None,\n",
              "                                          callbacks=None,\n",
              "                                          colsample_bylevel=None,\n",
              "                                          colsample_bynode=None,\n",
              "                                          colsample_bytree=None, device=None,\n",
              "                                          early_stopping_rounds=None,\n",
              "                                          enable_categorical=False,\n",
              "                                          eval_metric=None, feature_types=None,\n",
              "                                          gamma=None, grow_policy=None,\n",
              "                                          importance_type=None,\n",
              "                                          interaction_constraints=None,\n",
              "                                          learning_rate=None, max_bin=None,\n",
              "                                          max_cat_threshold=None,\n",
              "                                          max_cat_to_onehot=None,\n",
              "                                          max_delta_step=None, max_depth=None,\n",
              "                                          max_leaves=None,\n",
              "                                          min_child_weight=None, missing=nan,\n",
              "                                          monotone_constraints=None,\n",
              "                                          multi_strategy=None,\n",
              "                                          n_estimators=None, n_jobs=None,\n",
              "                                          num_parallel_tree=None,\n",
              "                                          random_state=42, ...))])</pre><b>In a Jupyter environment, please rerun this cell to show the HTML representation or trust the notebook. <br />On GitHub, the HTML representation is unable to render, please try loading this page with nbviewer.org.</b></div><div class=\"sk-container\" hidden><div class=\"sk-item sk-dashed-wrapped\"><div class=\"sk-label-container\"><div class=\"sk-label sk-toggleable\"><input class=\"sk-toggleable__control sk-hidden--visually\" id=\"sk-estimator-id-10\" type=\"checkbox\" ><label for=\"sk-estimator-id-10\" class=\"sk-toggleable__label sk-toggleable__label-arrow\">VotingRegressor</label><div class=\"sk-toggleable__content\"><pre>VotingRegressor(estimators=[(&#x27;rf&#x27;, RandomForestRegressor(random_state=42)),\n",
              "                            (&#x27;xgb&#x27;,\n",
              "                             XGBRegressor(base_score=None, booster=None,\n",
              "                                          callbacks=None,\n",
              "                                          colsample_bylevel=None,\n",
              "                                          colsample_bynode=None,\n",
              "                                          colsample_bytree=None, device=None,\n",
              "                                          early_stopping_rounds=None,\n",
              "                                          enable_categorical=False,\n",
              "                                          eval_metric=None, feature_types=None,\n",
              "                                          gamma=None, grow_policy=None,\n",
              "                                          importance_type=None,\n",
              "                                          interaction_constraints=None,\n",
              "                                          learning_rate=None, max_bin=None,\n",
              "                                          max_cat_threshold=None,\n",
              "                                          max_cat_to_onehot=None,\n",
              "                                          max_delta_step=None, max_depth=None,\n",
              "                                          max_leaves=None,\n",
              "                                          min_child_weight=None, missing=nan,\n",
              "                                          monotone_constraints=None,\n",
              "                                          multi_strategy=None,\n",
              "                                          n_estimators=None, n_jobs=None,\n",
              "                                          num_parallel_tree=None,\n",
              "                                          random_state=42, ...))])</pre></div></div></div><div class=\"sk-parallel\"><div class=\"sk-parallel-item\"><div class=\"sk-item\"><div class=\"sk-label-container\"><div class=\"sk-label sk-toggleable\"><label>rf</label></div></div><div class=\"sk-serial\"><div class=\"sk-item\"><div class=\"sk-estimator sk-toggleable\"><input class=\"sk-toggleable__control sk-hidden--visually\" id=\"sk-estimator-id-11\" type=\"checkbox\" ><label for=\"sk-estimator-id-11\" class=\"sk-toggleable__label sk-toggleable__label-arrow\">RandomForestRegressor</label><div class=\"sk-toggleable__content\"><pre>RandomForestRegressor(random_state=42)</pre></div></div></div></div></div></div><div class=\"sk-parallel-item\"><div class=\"sk-item\"><div class=\"sk-label-container\"><div class=\"sk-label sk-toggleable\"><label>xgb</label></div></div><div class=\"sk-serial\"><div class=\"sk-item\"><div class=\"sk-estimator sk-toggleable\"><input class=\"sk-toggleable__control sk-hidden--visually\" id=\"sk-estimator-id-12\" type=\"checkbox\" ><label for=\"sk-estimator-id-12\" class=\"sk-toggleable__label sk-toggleable__label-arrow\">XGBRegressor</label><div class=\"sk-toggleable__content\"><pre>XGBRegressor(base_score=None, booster=None, callbacks=None,\n",
              "             colsample_bylevel=None, colsample_bynode=None,\n",
              "             colsample_bytree=None, device=None, early_stopping_rounds=None,\n",
              "             enable_categorical=False, eval_metric=None, feature_types=None,\n",
              "             gamma=None, grow_policy=None, importance_type=None,\n",
              "             interaction_constraints=None, learning_rate=None, max_bin=None,\n",
              "             max_cat_threshold=None, max_cat_to_onehot=None,\n",
              "             max_delta_step=None, max_depth=None, max_leaves=None,\n",
              "             min_child_weight=None, missing=nan, monotone_constraints=None,\n",
              "             multi_strategy=None, n_estimators=None, n_jobs=None,\n",
              "             num_parallel_tree=None, random_state=42, ...)</pre></div></div></div></div></div></div></div></div></div></div>"
            ]
          },
          "metadata": {},
          "execution_count": 72
        }
      ]
    },
    {
      "cell_type": "code",
      "source": [
        "em_pred = em.predict(Xtest)"
      ],
      "metadata": {
        "id": "qRms9Ei639K4"
      },
      "execution_count": null,
      "outputs": []
    },
    {
      "cell_type": "code",
      "source": [
        "#Evaluating model predictions\n",
        "mae_ensemble = mean_absolute_error(em_pred, Ytest)\n",
        "rmse_ensemble = np.sqrt(mean_squared_error(em_pred, Ytest))\n",
        "print(f\"Mean Absolute Error for Ensemble model = {mae_ensemble}\")\n",
        "print(f\"Root Mean Squared Error for Ensemble model:{rmse_ensemble}\")"
      ],
      "metadata": {
        "colab": {
          "base_uri": "https://localhost:8080/"
        },
        "id": "f7s_41Am4N3X",
        "outputId": "a928d614-bbc3-42cf-924e-967178af6e83"
      },
      "execution_count": null,
      "outputs": [
        {
          "output_type": "stream",
          "name": "stdout",
          "text": [
            "Mean Absolute Error for Ensemble model = 0.5527906868393389\n",
            "Root Mean Squared Error for Ensemble model:0.8300646478528991\n"
          ]
        }
      ]
    },
    {
      "cell_type": "code",
      "source": [
        "joblib.dump(em, '/content/drive/MyDrive/Colab Notebooks/ensemble_model.pkl')"
      ],
      "metadata": {
        "id": "ua-OOLxzmJIp",
        "colab": {
          "base_uri": "https://localhost:8080/"
        },
        "outputId": "e995b8fa-f6e9-4ee4-bf7d-a3f09f36b68f"
      },
      "execution_count": null,
      "outputs": [
        {
          "output_type": "execute_result",
          "data": {
            "text/plain": [
              "['/content/drive/MyDrive/Colab Notebooks/ensemble_model.pkl']"
            ]
          },
          "metadata": {},
          "execution_count": 75
        }
      ]
    },
    {
      "cell_type": "markdown",
      "source": [
        "Training model with new dataset"
      ],
      "metadata": {
        "id": "cDGuiRev6rqT"
      }
    },
    {
      "cell_type": "code",
      "source": [
        "players_22 = pd.read_csv('/content/drive/MyDrive/Players 22-1.csv')"
      ],
      "metadata": {
        "colab": {
          "base_uri": "https://localhost:8080/"
        },
        "id": "RImBsneL6qGU",
        "outputId": "dcbf400f-8960-4211-c70c-81b713dbe05e"
      },
      "execution_count": null,
      "outputs": [
        {
          "output_type": "stream",
          "name": "stderr",
          "text": [
            "<ipython-input-76-95cc27f3cf4d>:1: DtypeWarning: Columns (25,108) have mixed types. Specify dtype option on import or set low_memory=False.\n",
            "  players_22 = pd.read_csv('/content/drive/MyDrive/Players 22-1.csv')\n"
          ]
        }
      ]
    },
    {
      "cell_type": "code",
      "source": [
        "new_df_players = preprocessing(players_22)"
      ],
      "metadata": {
        "colab": {
          "base_uri": "https://localhost:8080/"
        },
        "id": "UDqbgZPG7gPw",
        "outputId": "0cdaf710-5429-40b1-f7ed-13ea9ce4666c"
      },
      "execution_count": null,
      "outputs": [
        {
          "output_type": "stream",
          "name": "stdout",
          "text": [
            "<class 'pandas.core.frame.DataFrame'>\n",
            "RangeIndex: 19239 entries, 0 to 19238\n",
            "Columns: 110 entries, sofifa_id to nation_flag_url\n",
            "dtypes: float64(16), int64(44), object(50)\n",
            "memory usage: 16.1+ MB\n",
            "Shape of the data: 110\n"
          ]
        },
        {
          "output_type": "stream",
          "name": "stderr",
          "text": [
            "<ipython-input-26-6f505dc8c955>:40: SettingWithCopyWarning: \n",
            "A value is trying to be set on a copy of a slice from a DataFrame\n",
            "\n",
            "See the caveats in the documentation: https://pandas.pydata.org/pandas-docs/stable/user_guide/indexing.html#returning-a-view-versus-a-copy\n",
            "  new_features.fillna(new_features.median(), inplace=True)\n",
            "<ipython-input-26-6f505dc8c955>:47: SettingWithCopyWarning: \n",
            "A value is trying to be set on a copy of a slice from a DataFrame.\n",
            "Try using .loc[row_indexer,col_indexer] = value instead\n",
            "\n",
            "See the caveats in the documentation: https://pandas.pydata.org/pandas-docs/stable/user_guide/indexing.html#returning-a-view-versus-a-copy\n",
            "  new_features['combined_passing'] = new_features[combined_passing].mean(axis=1)\n",
            "<ipython-input-26-6f505dc8c955>:48: SettingWithCopyWarning: \n",
            "A value is trying to be set on a copy of a slice from a DataFrame.\n",
            "Try using .loc[row_indexer,col_indexer] = value instead\n",
            "\n",
            "See the caveats in the documentation: https://pandas.pydata.org/pandas-docs/stable/user_guide/indexing.html#returning-a-view-versus-a-copy\n",
            "  new_features['combined_dribbling'] = new_features[combined_dribbling].mean(axis=1)\n",
            "<ipython-input-26-6f505dc8c955>:49: SettingWithCopyWarning: \n",
            "A value is trying to be set on a copy of a slice from a DataFrame.\n",
            "Try using .loc[row_indexer,col_indexer] = value instead\n",
            "\n",
            "See the caveats in the documentation: https://pandas.pydata.org/pandas-docs/stable/user_guide/indexing.html#returning-a-view-versus-a-copy\n",
            "  new_features['combined_mentality'] = new_features[combined_mentality].mean(axis=1)\n",
            "<ipython-input-26-6f505dc8c955>:51: SettingWithCopyWarning: \n",
            "A value is trying to be set on a copy of a slice from a DataFrame\n",
            "\n",
            "See the caveats in the documentation: https://pandas.pydata.org/pandas-docs/stable/user_guide/indexing.html#returning-a-view-versus-a-copy\n",
            "  new_features.drop(columns=combined_passing, inplace=True)\n",
            "<ipython-input-26-6f505dc8c955>:52: SettingWithCopyWarning: \n",
            "A value is trying to be set on a copy of a slice from a DataFrame\n",
            "\n",
            "See the caveats in the documentation: https://pandas.pydata.org/pandas-docs/stable/user_guide/indexing.html#returning-a-view-versus-a-copy\n",
            "  new_features.drop(columns=combined_dribbling, inplace=True)\n",
            "<ipython-input-26-6f505dc8c955>:53: SettingWithCopyWarning: \n",
            "A value is trying to be set on a copy of a slice from a DataFrame\n",
            "\n",
            "See the caveats in the documentation: https://pandas.pydata.org/pandas-docs/stable/user_guide/indexing.html#returning-a-view-versus-a-copy\n",
            "  new_features.drop(columns=combined_mentality, inplace=True)\n"
          ]
        }
      ]
    },
    {
      "cell_type": "markdown",
      "source": [
        "Training model with new data set"
      ],
      "metadata": {
        "id": "dZcOqyrzCNfy"
      }
    },
    {
      "cell_type": "code",
      "source": [
        "y_new = new_df_players['overall']\n",
        "X_new = new_df_players.drop('overall', axis=1)\n",
        "scaled_new = scaler.fit_transform(X_new)\n",
        "X_new = pd.DataFrame(scaled_new, columns=X_new.columns)"
      ],
      "metadata": {
        "id": "eRoYLM5WCFBm"
      },
      "execution_count": null,
      "outputs": []
    },
    {
      "cell_type": "code",
      "source": [
        "X_new.head()"
      ],
      "metadata": {
        "colab": {
          "base_uri": "https://localhost:8080/",
          "height": 226
        },
        "id": "E2iJldQtXcgY",
        "outputId": "7d76a069-d44a-499d-dd53-87137bf0d84a"
      },
      "execution_count": null,
      "outputs": [
        {
          "output_type": "execute_result",
          "data": {
            "text/plain": [
              "   potential  shooting  attacking_crossing  skill_fk_accuracy  \\\n",
              "0    3.60178  2.976726            1.964190           3.012606   \n",
              "1    3.43747  2.976726            1.187887           2.488684   \n",
              "2    3.27316  3.127556            2.075090           2.430471   \n",
              "3    3.27316  2.297992            1.964190           2.605111   \n",
              "4    3.27316  2.524237            2.463242           2.372257   \n",
              "\n",
              "   movement_reactions   wage_eur  value_eur  international_reputation  \\\n",
              "0            3.599846  15.996581   9.889397                 10.525295   \n",
              "1            3.489252  13.424792  15.350116                 10.525295   \n",
              "2            3.599846  13.424792   5.547138                 10.525295   \n",
              "3            3.046874  13.424792  16.600160                 10.525295   \n",
              "4            3.268063  17.539654  16.139617                  7.830520   \n",
              "\n",
              "     physic       age  goalkeeping_diving  goalkeeping_handling  \\\n",
              "0  0.005012  1.851089           -0.592145             -0.308358   \n",
              "1  1.844734  1.429869           -0.080012             -0.605286   \n",
              "2  1.087202  2.272309           -0.535241             -0.308358   \n",
              "3 -0.211426  0.798039           -0.421434             -0.427130   \n",
              "4  1.411859  1.008649           -0.080012             -0.189587   \n",
              "\n",
              "   goalkeeping_kicking  goalkeeping_positioning  goalkeeping_reflexes  \\\n",
              "0            -0.063713                -0.130678             -0.474818   \n",
              "1            -0.244828                -0.482391             -0.362988   \n",
              "2            -0.063713                -0.130678             -0.307073   \n",
              "3            -0.063713                -0.072059             -0.307073   \n",
              "4            -0.667428                -0.365153             -0.195244   \n",
              "\n",
              "   combined_passing  combined_dribbling  combined_mentality  \n",
              "0          2.971689            3.100659            1.808216  \n",
              "1          1.864378            2.384812            2.547629  \n",
              "2          1.949556            2.474293            2.103981  \n",
              "3          2.375445            3.011178            2.325805  \n",
              "4          3.142044            2.563774            2.473688  "
            ],
            "text/html": [
              "\n",
              "  <div id=\"df-220769cf-51ea-4c59-9e7e-59e815f60740\" class=\"colab-df-container\">\n",
              "    <div>\n",
              "<style scoped>\n",
              "    .dataframe tbody tr th:only-of-type {\n",
              "        vertical-align: middle;\n",
              "    }\n",
              "\n",
              "    .dataframe tbody tr th {\n",
              "        vertical-align: top;\n",
              "    }\n",
              "\n",
              "    .dataframe thead th {\n",
              "        text-align: right;\n",
              "    }\n",
              "</style>\n",
              "<table border=\"1\" class=\"dataframe\">\n",
              "  <thead>\n",
              "    <tr style=\"text-align: right;\">\n",
              "      <th></th>\n",
              "      <th>potential</th>\n",
              "      <th>shooting</th>\n",
              "      <th>attacking_crossing</th>\n",
              "      <th>skill_fk_accuracy</th>\n",
              "      <th>movement_reactions</th>\n",
              "      <th>wage_eur</th>\n",
              "      <th>value_eur</th>\n",
              "      <th>international_reputation</th>\n",
              "      <th>physic</th>\n",
              "      <th>age</th>\n",
              "      <th>goalkeeping_diving</th>\n",
              "      <th>goalkeeping_handling</th>\n",
              "      <th>goalkeeping_kicking</th>\n",
              "      <th>goalkeeping_positioning</th>\n",
              "      <th>goalkeeping_reflexes</th>\n",
              "      <th>combined_passing</th>\n",
              "      <th>combined_dribbling</th>\n",
              "      <th>combined_mentality</th>\n",
              "    </tr>\n",
              "  </thead>\n",
              "  <tbody>\n",
              "    <tr>\n",
              "      <th>0</th>\n",
              "      <td>3.60178</td>\n",
              "      <td>2.976726</td>\n",
              "      <td>1.964190</td>\n",
              "      <td>3.012606</td>\n",
              "      <td>3.599846</td>\n",
              "      <td>15.996581</td>\n",
              "      <td>9.889397</td>\n",
              "      <td>10.525295</td>\n",
              "      <td>0.005012</td>\n",
              "      <td>1.851089</td>\n",
              "      <td>-0.592145</td>\n",
              "      <td>-0.308358</td>\n",
              "      <td>-0.063713</td>\n",
              "      <td>-0.130678</td>\n",
              "      <td>-0.474818</td>\n",
              "      <td>2.971689</td>\n",
              "      <td>3.100659</td>\n",
              "      <td>1.808216</td>\n",
              "    </tr>\n",
              "    <tr>\n",
              "      <th>1</th>\n",
              "      <td>3.43747</td>\n",
              "      <td>2.976726</td>\n",
              "      <td>1.187887</td>\n",
              "      <td>2.488684</td>\n",
              "      <td>3.489252</td>\n",
              "      <td>13.424792</td>\n",
              "      <td>15.350116</td>\n",
              "      <td>10.525295</td>\n",
              "      <td>1.844734</td>\n",
              "      <td>1.429869</td>\n",
              "      <td>-0.080012</td>\n",
              "      <td>-0.605286</td>\n",
              "      <td>-0.244828</td>\n",
              "      <td>-0.482391</td>\n",
              "      <td>-0.362988</td>\n",
              "      <td>1.864378</td>\n",
              "      <td>2.384812</td>\n",
              "      <td>2.547629</td>\n",
              "    </tr>\n",
              "    <tr>\n",
              "      <th>2</th>\n",
              "      <td>3.27316</td>\n",
              "      <td>3.127556</td>\n",
              "      <td>2.075090</td>\n",
              "      <td>2.430471</td>\n",
              "      <td>3.599846</td>\n",
              "      <td>13.424792</td>\n",
              "      <td>5.547138</td>\n",
              "      <td>10.525295</td>\n",
              "      <td>1.087202</td>\n",
              "      <td>2.272309</td>\n",
              "      <td>-0.535241</td>\n",
              "      <td>-0.308358</td>\n",
              "      <td>-0.063713</td>\n",
              "      <td>-0.130678</td>\n",
              "      <td>-0.307073</td>\n",
              "      <td>1.949556</td>\n",
              "      <td>2.474293</td>\n",
              "      <td>2.103981</td>\n",
              "    </tr>\n",
              "    <tr>\n",
              "      <th>3</th>\n",
              "      <td>3.27316</td>\n",
              "      <td>2.297992</td>\n",
              "      <td>1.964190</td>\n",
              "      <td>2.605111</td>\n",
              "      <td>3.046874</td>\n",
              "      <td>13.424792</td>\n",
              "      <td>16.600160</td>\n",
              "      <td>10.525295</td>\n",
              "      <td>-0.211426</td>\n",
              "      <td>0.798039</td>\n",
              "      <td>-0.421434</td>\n",
              "      <td>-0.427130</td>\n",
              "      <td>-0.063713</td>\n",
              "      <td>-0.072059</td>\n",
              "      <td>-0.307073</td>\n",
              "      <td>2.375445</td>\n",
              "      <td>3.011178</td>\n",
              "      <td>2.325805</td>\n",
              "    </tr>\n",
              "    <tr>\n",
              "      <th>4</th>\n",
              "      <td>3.27316</td>\n",
              "      <td>2.524237</td>\n",
              "      <td>2.463242</td>\n",
              "      <td>2.372257</td>\n",
              "      <td>3.268063</td>\n",
              "      <td>17.539654</td>\n",
              "      <td>16.139617</td>\n",
              "      <td>7.830520</td>\n",
              "      <td>1.411859</td>\n",
              "      <td>1.008649</td>\n",
              "      <td>-0.080012</td>\n",
              "      <td>-0.189587</td>\n",
              "      <td>-0.667428</td>\n",
              "      <td>-0.365153</td>\n",
              "      <td>-0.195244</td>\n",
              "      <td>3.142044</td>\n",
              "      <td>2.563774</td>\n",
              "      <td>2.473688</td>\n",
              "    </tr>\n",
              "  </tbody>\n",
              "</table>\n",
              "</div>\n",
              "    <div class=\"colab-df-buttons\">\n",
              "\n",
              "  <div class=\"colab-df-container\">\n",
              "    <button class=\"colab-df-convert\" onclick=\"convertToInteractive('df-220769cf-51ea-4c59-9e7e-59e815f60740')\"\n",
              "            title=\"Convert this dataframe to an interactive table.\"\n",
              "            style=\"display:none;\">\n",
              "\n",
              "  <svg xmlns=\"http://www.w3.org/2000/svg\" height=\"24px\" viewBox=\"0 -960 960 960\">\n",
              "    <path d=\"M120-120v-720h720v720H120Zm60-500h600v-160H180v160Zm220 220h160v-160H400v160Zm0 220h160v-160H400v160ZM180-400h160v-160H180v160Zm440 0h160v-160H620v160ZM180-180h160v-160H180v160Zm440 0h160v-160H620v160Z\"/>\n",
              "  </svg>\n",
              "    </button>\n",
              "\n",
              "  <style>\n",
              "    .colab-df-container {\n",
              "      display:flex;\n",
              "      gap: 12px;\n",
              "    }\n",
              "\n",
              "    .colab-df-convert {\n",
              "      background-color: #E8F0FE;\n",
              "      border: none;\n",
              "      border-radius: 50%;\n",
              "      cursor: pointer;\n",
              "      display: none;\n",
              "      fill: #1967D2;\n",
              "      height: 32px;\n",
              "      padding: 0 0 0 0;\n",
              "      width: 32px;\n",
              "    }\n",
              "\n",
              "    .colab-df-convert:hover {\n",
              "      background-color: #E2EBFA;\n",
              "      box-shadow: 0px 1px 2px rgba(60, 64, 67, 0.3), 0px 1px 3px 1px rgba(60, 64, 67, 0.15);\n",
              "      fill: #174EA6;\n",
              "    }\n",
              "\n",
              "    .colab-df-buttons div {\n",
              "      margin-bottom: 4px;\n",
              "    }\n",
              "\n",
              "    [theme=dark] .colab-df-convert {\n",
              "      background-color: #3B4455;\n",
              "      fill: #D2E3FC;\n",
              "    }\n",
              "\n",
              "    [theme=dark] .colab-df-convert:hover {\n",
              "      background-color: #434B5C;\n",
              "      box-shadow: 0px 1px 3px 1px rgba(0, 0, 0, 0.15);\n",
              "      filter: drop-shadow(0px 1px 2px rgba(0, 0, 0, 0.3));\n",
              "      fill: #FFFFFF;\n",
              "    }\n",
              "  </style>\n",
              "\n",
              "    <script>\n",
              "      const buttonEl =\n",
              "        document.querySelector('#df-220769cf-51ea-4c59-9e7e-59e815f60740 button.colab-df-convert');\n",
              "      buttonEl.style.display =\n",
              "        google.colab.kernel.accessAllowed ? 'block' : 'none';\n",
              "\n",
              "      async function convertToInteractive(key) {\n",
              "        const element = document.querySelector('#df-220769cf-51ea-4c59-9e7e-59e815f60740');\n",
              "        const dataTable =\n",
              "          await google.colab.kernel.invokeFunction('convertToInteractive',\n",
              "                                                    [key], {});\n",
              "        if (!dataTable) return;\n",
              "\n",
              "        const docLinkHtml = 'Like what you see? Visit the ' +\n",
              "          '<a target=\"_blank\" href=https://colab.research.google.com/notebooks/data_table.ipynb>data table notebook</a>'\n",
              "          + ' to learn more about interactive tables.';\n",
              "        element.innerHTML = '';\n",
              "        dataTable['output_type'] = 'display_data';\n",
              "        await google.colab.output.renderOutput(dataTable, element);\n",
              "        const docLink = document.createElement('div');\n",
              "        docLink.innerHTML = docLinkHtml;\n",
              "        element.appendChild(docLink);\n",
              "      }\n",
              "    </script>\n",
              "  </div>\n",
              "\n",
              "\n",
              "<div id=\"df-18db42bc-3f97-48ee-bbe1-6e1b5ab0bd3c\">\n",
              "  <button class=\"colab-df-quickchart\" onclick=\"quickchart('df-18db42bc-3f97-48ee-bbe1-6e1b5ab0bd3c')\"\n",
              "            title=\"Suggest charts\"\n",
              "            style=\"display:none;\">\n",
              "\n",
              "<svg xmlns=\"http://www.w3.org/2000/svg\" height=\"24px\"viewBox=\"0 0 24 24\"\n",
              "     width=\"24px\">\n",
              "    <g>\n",
              "        <path d=\"M19 3H5c-1.1 0-2 .9-2 2v14c0 1.1.9 2 2 2h14c1.1 0 2-.9 2-2V5c0-1.1-.9-2-2-2zM9 17H7v-7h2v7zm4 0h-2V7h2v10zm4 0h-2v-4h2v4z\"/>\n",
              "    </g>\n",
              "</svg>\n",
              "  </button>\n",
              "\n",
              "<style>\n",
              "  .colab-df-quickchart {\n",
              "      --bg-color: #E8F0FE;\n",
              "      --fill-color: #1967D2;\n",
              "      --hover-bg-color: #E2EBFA;\n",
              "      --hover-fill-color: #174EA6;\n",
              "      --disabled-fill-color: #AAA;\n",
              "      --disabled-bg-color: #DDD;\n",
              "  }\n",
              "\n",
              "  [theme=dark] .colab-df-quickchart {\n",
              "      --bg-color: #3B4455;\n",
              "      --fill-color: #D2E3FC;\n",
              "      --hover-bg-color: #434B5C;\n",
              "      --hover-fill-color: #FFFFFF;\n",
              "      --disabled-bg-color: #3B4455;\n",
              "      --disabled-fill-color: #666;\n",
              "  }\n",
              "\n",
              "  .colab-df-quickchart {\n",
              "    background-color: var(--bg-color);\n",
              "    border: none;\n",
              "    border-radius: 50%;\n",
              "    cursor: pointer;\n",
              "    display: none;\n",
              "    fill: var(--fill-color);\n",
              "    height: 32px;\n",
              "    padding: 0;\n",
              "    width: 32px;\n",
              "  }\n",
              "\n",
              "  .colab-df-quickchart:hover {\n",
              "    background-color: var(--hover-bg-color);\n",
              "    box-shadow: 0 1px 2px rgba(60, 64, 67, 0.3), 0 1px 3px 1px rgba(60, 64, 67, 0.15);\n",
              "    fill: var(--button-hover-fill-color);\n",
              "  }\n",
              "\n",
              "  .colab-df-quickchart-complete:disabled,\n",
              "  .colab-df-quickchart-complete:disabled:hover {\n",
              "    background-color: var(--disabled-bg-color);\n",
              "    fill: var(--disabled-fill-color);\n",
              "    box-shadow: none;\n",
              "  }\n",
              "\n",
              "  .colab-df-spinner {\n",
              "    border: 2px solid var(--fill-color);\n",
              "    border-color: transparent;\n",
              "    border-bottom-color: var(--fill-color);\n",
              "    animation:\n",
              "      spin 1s steps(1) infinite;\n",
              "  }\n",
              "\n",
              "  @keyframes spin {\n",
              "    0% {\n",
              "      border-color: transparent;\n",
              "      border-bottom-color: var(--fill-color);\n",
              "      border-left-color: var(--fill-color);\n",
              "    }\n",
              "    20% {\n",
              "      border-color: transparent;\n",
              "      border-left-color: var(--fill-color);\n",
              "      border-top-color: var(--fill-color);\n",
              "    }\n",
              "    30% {\n",
              "      border-color: transparent;\n",
              "      border-left-color: var(--fill-color);\n",
              "      border-top-color: var(--fill-color);\n",
              "      border-right-color: var(--fill-color);\n",
              "    }\n",
              "    40% {\n",
              "      border-color: transparent;\n",
              "      border-right-color: var(--fill-color);\n",
              "      border-top-color: var(--fill-color);\n",
              "    }\n",
              "    60% {\n",
              "      border-color: transparent;\n",
              "      border-right-color: var(--fill-color);\n",
              "    }\n",
              "    80% {\n",
              "      border-color: transparent;\n",
              "      border-right-color: var(--fill-color);\n",
              "      border-bottom-color: var(--fill-color);\n",
              "    }\n",
              "    90% {\n",
              "      border-color: transparent;\n",
              "      border-bottom-color: var(--fill-color);\n",
              "    }\n",
              "  }\n",
              "</style>\n",
              "\n",
              "  <script>\n",
              "    async function quickchart(key) {\n",
              "      const quickchartButtonEl =\n",
              "        document.querySelector('#' + key + ' button');\n",
              "      quickchartButtonEl.disabled = true;  // To prevent multiple clicks.\n",
              "      quickchartButtonEl.classList.add('colab-df-spinner');\n",
              "      try {\n",
              "        const charts = await google.colab.kernel.invokeFunction(\n",
              "            'suggestCharts', [key], {});\n",
              "      } catch (error) {\n",
              "        console.error('Error during call to suggestCharts:', error);\n",
              "      }\n",
              "      quickchartButtonEl.classList.remove('colab-df-spinner');\n",
              "      quickchartButtonEl.classList.add('colab-df-quickchart-complete');\n",
              "    }\n",
              "    (() => {\n",
              "      let quickchartButtonEl =\n",
              "        document.querySelector('#df-18db42bc-3f97-48ee-bbe1-6e1b5ab0bd3c button');\n",
              "      quickchartButtonEl.style.display =\n",
              "        google.colab.kernel.accessAllowed ? 'block' : 'none';\n",
              "    })();\n",
              "  </script>\n",
              "</div>\n",
              "\n",
              "    </div>\n",
              "  </div>\n"
            ],
            "application/vnd.google.colaboratory.intrinsic+json": {
              "type": "dataframe",
              "variable_name": "X_new",
              "summary": "{\n  \"name\": \"X_new\",\n  \"rows\": 19239,\n  \"fields\": [\n    {\n      \"column\": \"potential\",\n      \"properties\": {\n        \"dtype\": \"number\",\n        \"std\": 1.000025989889937,\n        \"min\": -3.6278624331195193,\n        \"max\": 3.930399949347321,\n        \"num_unique_values\": 46,\n        \"samples\": [\n          -2.642002122362975,\n          -0.3416613972643713,\n          -0.5059714490571287\n        ],\n        \"semantic_type\": \"\",\n        \"description\": \"\"\n      }\n    },\n    {\n      \"column\": \"shooting\",\n      \"properties\": {\n        \"dtype\": \"number\",\n        \"std\": 1.000025989889937,\n        \"min\": -2.6039753369673644,\n        \"max\": 3.1275558826551086,\n        \"num_unique_values\": 76,\n        \"samples\": [\n          0.11096050390643845,\n          1.6192581932807735,\n          0.563449810718739\n        ],\n        \"semantic_type\": \"\",\n        \"description\": \"\"\n      }\n    },\n    {\n      \"column\": \"attacking_crossing\",\n      \"properties\": {\n        \"dtype\": \"number\",\n        \"std\": 1.000025989889937,\n        \"min\": -2.4163777001614406,\n        \"max\": 2.4632419147411504,\n        \"num_unique_values\": 88,\n        \"samples\": [\n          -0.36471945298648745,\n          1.9641899086715673,\n          2.019640131568188\n        ],\n        \"semantic_type\": \"\",\n        \"description\": \"\"\n      }\n    },\n    {\n      \"column\": \"skill_fk_accuracy\",\n      \"properties\": {\n        \"dtype\": \"number\",\n        \"std\": 1.0000259898899373,\n        \"min\": -2.2266099461289834,\n        \"max\": 3.0126057715584382,\n        \"num_unique_values\": 90,\n        \"samples\": [\n          2.5468977077640007,\n          1.731908596123735,\n          -1.353407326514413\n        ],\n        \"semantic_type\": \"\",\n        \"description\": \"\"\n      }\n    },\n    {\n      \"column\": \"movement_reactions\",\n      \"properties\": {\n        \"dtype\": \"number\",\n        \"std\": 1.000025989889937,\n        \"min\": -4.031169777299296,\n        \"max\": 3.599846303476248,\n        \"num_unique_values\": 67,\n        \"samples\": [\n          -0.9345255706077708,\n          1.3879575844108731,\n          2.9362796877566355\n        ],\n        \"semantic_type\": \"\",\n        \"description\": \"\"\n      }\n    },\n    {\n      \"column\": \"wage_eur\",\n      \"properties\": {\n        \"dtype\": \"number\",\n        \"std\": 1.000025989889937,\n        \"min\": -0.43714790621316124,\n        \"max\": 17.539653916229042,\n        \"num_unique_values\": 133,\n        \"samples\": [\n          1.8517438851993653,\n          3.189073920631403,\n          3.291945461818483\n        ],\n        \"semantic_type\": \"\",\n        \"description\": \"\"\n      }\n    },\n    {\n      \"column\": \"value_eur\",\n      \"properties\": {\n        \"dtype\": \"number\",\n        \"std\": 1.0000259898899373,\n        \"min\": -0.3729392343625868,\n        \"max\": 25.153093115889718,\n        \"num_unique_values\": 252,\n        \"samples\": [\n          0.1127357990398971,\n          25.153093115889718,\n          3.6391760307349847\n        ],\n        \"semantic_type\": \"\",\n        \"description\": \"\"\n      }\n    },\n    {\n      \"column\": \"international_reputation\",\n      \"properties\": {\n        \"dtype\": \"number\",\n        \"std\": 1.0000259898899373,\n        \"min\": -0.25380382738907287,\n        \"max\": 10.525295146426325,\n        \"num_unique_values\": 5,\n        \"samples\": [\n          7.830520402972477,\n          -0.25380382738907287,\n          5.135745659518626\n        ],\n        \"semantic_type\": \"\",\n        \"description\": \"\"\n      }\n    },\n    {\n      \"column\": \"physic\",\n      \"properties\": {\n        \"dtype\": \"number\",\n        \"std\": 1.000025989889937,\n        \"min\": -3.8908713615233754,\n        \"max\": 2.710486313676081,\n        \"num_unique_values\": 61,\n        \"samples\": [\n          0.005011856627123455,\n          0.11323083490908176,\n          -2.0511487307300844\n        ],\n        \"semantic_type\": \"\",\n        \"description\": \"\"\n      }\n    },\n    {\n      \"column\": \"age\",\n      \"properties\": {\n        \"dtype\": \"number\",\n        \"std\": 1.0000259898899373,\n        \"min\": -1.939891491721446,\n        \"max\": 6.063289824765477,\n        \"num_unique_values\": 29,\n        \"samples\": [\n          3.5359694090327647,\n          -0.46562124921069703,\n          -1.0974513531438752\n        ],\n        \"semantic_type\": \"\",\n        \"description\": \"\"\n      }\n    },\n    {\n      \"column\": \"goalkeeping_diving\",\n      \"properties\": {\n        \"dtype\": \"number\",\n        \"std\": 1.000025989889937,\n        \"min\": -0.8197595163848953,\n        \"max\": 4.244663601319676,\n        \"num_unique_values\": 71,\n        \"samples\": [\n          -0.8197595163848953,\n          -0.5921449942408696,\n          2.708265576847503\n        ],\n        \"semantic_type\": \"\",\n        \"description\": \"\"\n      }\n    },\n    {\n      \"column\": \"goalkeeping_handling\",\n      \"properties\": {\n        \"dtype\": \"number\",\n        \"std\": 1.000025989889937,\n        \"min\": -0.8428289716552335,\n        \"max\": 4.501877629397154,\n        \"num_unique_values\": 69,\n        \"samples\": [\n          3.848635711490751,\n          -0.3083583115499947,\n          0.9981255242628111\n        ],\n        \"semantic_type\": \"\",\n        \"description\": \"\"\n      }\n    },\n    {\n      \"column\": \"goalkeeping_kicking\",\n      \"properties\": {\n        \"dtype\": \"number\",\n        \"std\": 1.000025989889937,\n        \"min\": -0.8485421092175194,\n        \"max\": 4.64525899048058,\n        \"num_unique_values\": 79,\n        \"samples\": [\n          3.1963444147360267,\n          -0.06371338068921939,\n          -0.8485421092175194\n        ],\n        \"semantic_type\": \"\",\n        \"description\": \"\"\n      }\n    },\n    {\n      \"column\": \"goalkeeping_positioning\",\n      \"properties\": {\n        \"dtype\": \"number\",\n        \"std\": 1.000025989889937,\n        \"min\": -0.834104811041514,\n        \"max\": 4.441598901983146,\n        \"num_unique_values\": 77,\n        \"samples\": [\n          4.3243610416937095,\n          3.4450770895229326,\n          4.089885321114836\n        ],\n        \"semantic_type\": \"\",\n        \"description\": \"\"\n      }\n    },\n    {\n      \"column\": \"goalkeeping_reflexes\",\n      \"properties\": {\n        \"dtype\": \"number\",\n        \"std\": 1.000025989889937,\n        \"min\": -0.8103061302128739,\n        \"max\": 4.1101918764675744,\n        \"num_unique_values\": 70,\n        \"samples\": [\n          3.774703376012089,\n          -0.4748176297573888,\n          2.656408374493805\n        ],\n        \"semantic_type\": \"\",\n        \"description\": \"\"\n      }\n    },\n    {\n      \"column\": \"combined_passing\",\n      \"properties\": {\n        \"dtype\": \"number\",\n        \"std\": 1.000025989889937,\n        \"min\": -2.8203974153487112,\n        \"max\": 3.1420442071123116,\n        \"num_unique_values\": 71,\n        \"samples\": [\n          0.8422452955916315,\n          2.971688732184854,\n          -1.5427313533927776\n        ],\n        \"semantic_type\": \"\",\n        \"description\": \"\"\n      }\n    },\n    {\n      \"column\": \"combined_dribbling\",\n      \"properties\": {\n        \"dtype\": \"number\",\n        \"std\": 1.000025989889937,\n        \"min\": -2.984039459376664,\n        \"max\": 3.1006589859028524,\n        \"num_unique_values\": 67,\n        \"samples\": [\n          -1.910269145503808,\n          1.4900035150935687,\n          2.5637738289664243\n        ],\n        \"semantic_type\": \"\",\n        \"description\": \"\"\n      }\n    },\n    {\n      \"column\": \"combined_mentality\",\n      \"properties\": {\n        \"dtype\": \"number\",\n        \"std\": 1.000025989889937,\n        \"min\": -2.997967830410721,\n        \"max\": 2.6955114822922255,\n        \"num_unique_values\": 77,\n        \"samples\": [\n          2.473687612966137,\n          1.0688031072342408,\n          1.6603334254371442\n        ],\n        \"semantic_type\": \"\",\n        \"description\": \"\"\n      }\n    }\n  ]\n}"
            }
          },
          "metadata": {},
          "execution_count": 79
        }
      ]
    },
    {
      "cell_type": "code",
      "source": [
        "y_new.value_counts()"
      ],
      "metadata": {
        "colab": {
          "base_uri": "https://localhost:8080/"
        },
        "id": "S-rn6SdKXd-u",
        "outputId": "124559e0-a4e9-4589-f547-f63cac4e038d"
      },
      "execution_count": null,
      "outputs": [
        {
          "output_type": "execute_result",
          "data": {
            "text/plain": [
              "overall\n",
              "65    1251\n",
              "67    1195\n",
              "64    1188\n",
              "66    1137\n",
              "63    1127\n",
              "68    1069\n",
              "62    1023\n",
              "69     939\n",
              "70     872\n",
              "60     783\n",
              "61     775\n",
              "71     766\n",
              "72     733\n",
              "73     665\n",
              "59     553\n",
              "75     503\n",
              "58     491\n",
              "74     462\n",
              "57     439\n",
              "56     362\n",
              "55     336\n",
              "76     328\n",
              "54     293\n",
              "77     273\n",
              "53     232\n",
              "52     209\n",
              "78     200\n",
              "79     154\n",
              "51     136\n",
              "80     121\n",
              "81     104\n",
              "50      97\n",
              "82      85\n",
              "49      75\n",
              "83      59\n",
              "48      45\n",
              "84      43\n",
              "85      28\n",
              "86      22\n",
              "47      19\n",
              "87      17\n",
              "89      11\n",
              "88       8\n",
              "91       5\n",
              "90       4\n",
              "92       1\n",
              "93       1\n",
              "Name: count, dtype: int64"
            ]
          },
          "metadata": {},
          "execution_count": 80
        }
      ]
    },
    {
      "cell_type": "code",
      "source": [
        "# Fixing a value error I encountered with classes 92 and 93\n",
        "y_new = new_df_players['overall'].replace({93: 92})"
      ],
      "metadata": {
        "id": "A8t4Kzv-gR_j"
      },
      "execution_count": null,
      "outputs": []
    },
    {
      "cell_type": "code",
      "source": [
        "y_new.value_counts()"
      ],
      "metadata": {
        "colab": {
          "base_uri": "https://localhost:8080/"
        },
        "id": "s6cm7Jg4gVvr",
        "outputId": "343cf4b3-cbf9-4af4-d5ea-0c1aa0d7cad3"
      },
      "execution_count": null,
      "outputs": [
        {
          "output_type": "execute_result",
          "data": {
            "text/plain": [
              "overall\n",
              "65    1251\n",
              "67    1195\n",
              "64    1188\n",
              "66    1137\n",
              "63    1127\n",
              "68    1069\n",
              "62    1023\n",
              "69     939\n",
              "70     872\n",
              "60     783\n",
              "61     775\n",
              "71     766\n",
              "72     733\n",
              "73     665\n",
              "59     553\n",
              "75     503\n",
              "58     491\n",
              "74     462\n",
              "57     439\n",
              "56     362\n",
              "55     336\n",
              "76     328\n",
              "54     293\n",
              "77     273\n",
              "53     232\n",
              "52     209\n",
              "78     200\n",
              "79     154\n",
              "51     136\n",
              "80     121\n",
              "81     104\n",
              "50      97\n",
              "82      85\n",
              "49      75\n",
              "83      59\n",
              "48      45\n",
              "84      43\n",
              "85      28\n",
              "86      22\n",
              "47      19\n",
              "87      17\n",
              "89      11\n",
              "88       8\n",
              "91       5\n",
              "90       4\n",
              "92       2\n",
              "Name: count, dtype: int64"
            ]
          },
          "metadata": {},
          "execution_count": 82
        }
      ]
    },
    {
      "cell_type": "code",
      "source": [
        "X_train,X_test,Y_train,Y_test = train_test_split(X_new, y_new, test_size=0.2, random_state=42, stratify=y_new)"
      ],
      "metadata": {
        "id": "Gp7gLfarG_yE"
      },
      "execution_count": null,
      "outputs": []
    },
    {
      "cell_type": "code",
      "source": [
        "train_rf(X_train,X_test,Y_train,Y_test)"
      ],
      "metadata": {
        "colab": {
          "base_uri": "https://localhost:8080/"
        },
        "id": "nN9Lb5uQX64u",
        "outputId": "053a6875-9835-443e-df07-ac4dfa3256ea"
      },
      "execution_count": null,
      "outputs": [
        {
          "output_type": "stream",
          "name": "stdout",
          "text": [
            "Mean Absolute Error for Random Forest Model: 0.2769516632016633, RMSE: 0.4845413041916813, R2: 0.9950261915496152\n"
          ]
        }
      ]
    },
    {
      "cell_type": "code",
      "source": [
        "train_xgb(X_train,X_test,Y_train,Y_test)"
      ],
      "metadata": {
        "colab": {
          "base_uri": "https://localhost:8080/"
        },
        "id": "wJXxx-S9hvHm",
        "outputId": "b863ebef-95c4-4fbe-bab1-a0468261a9df"
      },
      "execution_count": null,
      "outputs": [
        {
          "output_type": "stream",
          "name": "stdout",
          "text": [
            "Mean Absolute Error for XGB Model: 0.3597413348556804, RMSE: 0.5231595459886353, R2: 0.994201765757102\n"
          ]
        }
      ]
    },
    {
      "cell_type": "code",
      "source": [
        "train_gb(X_train,X_test,Y_train,Y_test)"
      ],
      "metadata": {
        "colab": {
          "base_uri": "https://localhost:8080/"
        },
        "id": "G3uR6ZbYh04D",
        "outputId": "57fa3b49-5156-431f-93b1-d6fc65fde492"
      },
      "execution_count": null,
      "outputs": [
        {
          "output_type": "stream",
          "name": "stdout",
          "text": [
            "Mean Absolute Error for Gradient Boosting Model: 0.5583528061000702, RMSE: 0.7704529934256692, R2: 0.9874246598318989\n"
          ]
        }
      ]
    },
    {
      "cell_type": "markdown",
      "source": [
        "Cross Validation using grid search"
      ],
      "metadata": {
        "id": "Qh4ltAq_iE9J"
      }
    },
    {
      "cell_type": "code",
      "source": [
        "tuning(X_train,Y_train)"
      ],
      "metadata": {
        "colab": {
          "base_uri": "https://localhost:8080/"
        },
        "id": "b-juRPX3iJof",
        "outputId": "0d5e80f2-8149-494f-8639-4d912a7d6687"
      },
      "execution_count": null,
      "outputs": [
        {
          "output_type": "stream",
          "name": "stdout",
          "text": [
            "Fitting 3 folds for each of 8 candidates, totalling 24 fits\n",
            "Fitting 3 folds for each of 8 candidates, totalling 24 fits\n"
          ]
        },
        {
          "output_type": "execute_result",
          "data": {
            "text/plain": [
              "(RandomForestRegressor(),\n",
              " XGBRegressor(base_score=None, booster=None, callbacks=None,\n",
              "              colsample_bylevel=None, colsample_bynode=None,\n",
              "              colsample_bytree=None, device=None, early_stopping_rounds=None,\n",
              "              enable_categorical=False, eval_metric=None, feature_types=None,\n",
              "              gamma=None, grow_policy=None, importance_type=None,\n",
              "              interaction_constraints=None, learning_rate=0.1, max_bin=None,\n",
              "              max_cat_threshold=None, max_cat_to_onehot=None,\n",
              "              max_delta_step=None, max_depth=5, max_leaves=None,\n",
              "              min_child_weight=None, missing=nan, monotone_constraints=None,\n",
              "              multi_strategy=None, n_estimators=100, n_jobs=None,\n",
              "              num_parallel_tree=None, random_state=None, ...))"
            ]
          },
          "metadata": {},
          "execution_count": 94
        }
      ]
    },
    {
      "cell_type": "code",
      "source": [
        "em = VotingRegressor(estimators=[('rf',rf),('xgb', xgb_regressor)])"
      ],
      "metadata": {
        "id": "MbAvDOYPjy7K"
      },
      "execution_count": null,
      "outputs": []
    },
    {
      "cell_type": "code",
      "source": [
        "em.fit(X_train, Y_train)"
      ],
      "metadata": {
        "colab": {
          "base_uri": "https://localhost:8080/",
          "height": 110
        },
        "id": "r5psMxUrnY_X",
        "outputId": "1aede844-20ee-4c49-e674-a4265da6077e"
      },
      "execution_count": null,
      "outputs": [
        {
          "output_type": "execute_result",
          "data": {
            "text/plain": [
              "VotingRegressor(estimators=[('rf', RandomForestRegressor(random_state=42)),\n",
              "                            ('xgb',\n",
              "                             XGBRegressor(base_score=None, booster=None,\n",
              "                                          callbacks=None,\n",
              "                                          colsample_bylevel=None,\n",
              "                                          colsample_bynode=None,\n",
              "                                          colsample_bytree=None, device=None,\n",
              "                                          early_stopping_rounds=None,\n",
              "                                          enable_categorical=False,\n",
              "                                          eval_metric=None, feature_types=None,\n",
              "                                          gamma=None, grow_policy=None,\n",
              "                                          importance_type=None,\n",
              "                                          interaction_constraints=None,\n",
              "                                          learning_rate=None, max_bin=None,\n",
              "                                          max_cat_threshold=None,\n",
              "                                          max_cat_to_onehot=None,\n",
              "                                          max_delta_step=None, max_depth=None,\n",
              "                                          max_leaves=None,\n",
              "                                          min_child_weight=None, missing=nan,\n",
              "                                          monotone_constraints=None,\n",
              "                                          multi_strategy=None,\n",
              "                                          n_estimators=None, n_jobs=None,\n",
              "                                          num_parallel_tree=None,\n",
              "                                          random_state=42, ...))])"
            ],
            "text/html": [
              "<style>#sk-container-id-8 {color: black;background-color: white;}#sk-container-id-8 pre{padding: 0;}#sk-container-id-8 div.sk-toggleable {background-color: white;}#sk-container-id-8 label.sk-toggleable__label {cursor: pointer;display: block;width: 100%;margin-bottom: 0;padding: 0.3em;box-sizing: border-box;text-align: center;}#sk-container-id-8 label.sk-toggleable__label-arrow:before {content: \"▸\";float: left;margin-right: 0.25em;color: #696969;}#sk-container-id-8 label.sk-toggleable__label-arrow:hover:before {color: black;}#sk-container-id-8 div.sk-estimator:hover label.sk-toggleable__label-arrow:before {color: black;}#sk-container-id-8 div.sk-toggleable__content {max-height: 0;max-width: 0;overflow: hidden;text-align: left;background-color: #f0f8ff;}#sk-container-id-8 div.sk-toggleable__content pre {margin: 0.2em;color: black;border-radius: 0.25em;background-color: #f0f8ff;}#sk-container-id-8 input.sk-toggleable__control:checked~div.sk-toggleable__content {max-height: 200px;max-width: 100%;overflow: auto;}#sk-container-id-8 input.sk-toggleable__control:checked~label.sk-toggleable__label-arrow:before {content: \"▾\";}#sk-container-id-8 div.sk-estimator input.sk-toggleable__control:checked~label.sk-toggleable__label {background-color: #d4ebff;}#sk-container-id-8 div.sk-label input.sk-toggleable__control:checked~label.sk-toggleable__label {background-color: #d4ebff;}#sk-container-id-8 input.sk-hidden--visually {border: 0;clip: rect(1px 1px 1px 1px);clip: rect(1px, 1px, 1px, 1px);height: 1px;margin: -1px;overflow: hidden;padding: 0;position: absolute;width: 1px;}#sk-container-id-8 div.sk-estimator {font-family: monospace;background-color: #f0f8ff;border: 1px dotted black;border-radius: 0.25em;box-sizing: border-box;margin-bottom: 0.5em;}#sk-container-id-8 div.sk-estimator:hover {background-color: #d4ebff;}#sk-container-id-8 div.sk-parallel-item::after {content: \"\";width: 100%;border-bottom: 1px solid gray;flex-grow: 1;}#sk-container-id-8 div.sk-label:hover label.sk-toggleable__label {background-color: #d4ebff;}#sk-container-id-8 div.sk-serial::before {content: \"\";position: absolute;border-left: 1px solid gray;box-sizing: border-box;top: 0;bottom: 0;left: 50%;z-index: 0;}#sk-container-id-8 div.sk-serial {display: flex;flex-direction: column;align-items: center;background-color: white;padding-right: 0.2em;padding-left: 0.2em;position: relative;}#sk-container-id-8 div.sk-item {position: relative;z-index: 1;}#sk-container-id-8 div.sk-parallel {display: flex;align-items: stretch;justify-content: center;background-color: white;position: relative;}#sk-container-id-8 div.sk-item::before, #sk-container-id-8 div.sk-parallel-item::before {content: \"\";position: absolute;border-left: 1px solid gray;box-sizing: border-box;top: 0;bottom: 0;left: 50%;z-index: -1;}#sk-container-id-8 div.sk-parallel-item {display: flex;flex-direction: column;z-index: 1;position: relative;background-color: white;}#sk-container-id-8 div.sk-parallel-item:first-child::after {align-self: flex-end;width: 50%;}#sk-container-id-8 div.sk-parallel-item:last-child::after {align-self: flex-start;width: 50%;}#sk-container-id-8 div.sk-parallel-item:only-child::after {width: 0;}#sk-container-id-8 div.sk-dashed-wrapped {border: 1px dashed gray;margin: 0 0.4em 0.5em 0.4em;box-sizing: border-box;padding-bottom: 0.4em;background-color: white;}#sk-container-id-8 div.sk-label label {font-family: monospace;font-weight: bold;display: inline-block;line-height: 1.2em;}#sk-container-id-8 div.sk-label-container {text-align: center;}#sk-container-id-8 div.sk-container {/* jupyter's `normalize.less` sets `[hidden] { display: none; }` but bootstrap.min.css set `[hidden] { display: none !important; }` so we also need the `!important` here to be able to override the default hidden behavior on the sphinx rendered scikit-learn.org. See: https://github.com/scikit-learn/scikit-learn/issues/21755 */display: inline-block !important;position: relative;}#sk-container-id-8 div.sk-text-repr-fallback {display: none;}</style><div id=\"sk-container-id-8\" class=\"sk-top-container\"><div class=\"sk-text-repr-fallback\"><pre>VotingRegressor(estimators=[(&#x27;rf&#x27;, RandomForestRegressor(random_state=42)),\n",
              "                            (&#x27;xgb&#x27;,\n",
              "                             XGBRegressor(base_score=None, booster=None,\n",
              "                                          callbacks=None,\n",
              "                                          colsample_bylevel=None,\n",
              "                                          colsample_bynode=None,\n",
              "                                          colsample_bytree=None, device=None,\n",
              "                                          early_stopping_rounds=None,\n",
              "                                          enable_categorical=False,\n",
              "                                          eval_metric=None, feature_types=None,\n",
              "                                          gamma=None, grow_policy=None,\n",
              "                                          importance_type=None,\n",
              "                                          interaction_constraints=None,\n",
              "                                          learning_rate=None, max_bin=None,\n",
              "                                          max_cat_threshold=None,\n",
              "                                          max_cat_to_onehot=None,\n",
              "                                          max_delta_step=None, max_depth=None,\n",
              "                                          max_leaves=None,\n",
              "                                          min_child_weight=None, missing=nan,\n",
              "                                          monotone_constraints=None,\n",
              "                                          multi_strategy=None,\n",
              "                                          n_estimators=None, n_jobs=None,\n",
              "                                          num_parallel_tree=None,\n",
              "                                          random_state=42, ...))])</pre><b>In a Jupyter environment, please rerun this cell to show the HTML representation or trust the notebook. <br />On GitHub, the HTML representation is unable to render, please try loading this page with nbviewer.org.</b></div><div class=\"sk-container\" hidden><div class=\"sk-item sk-dashed-wrapped\"><div class=\"sk-label-container\"><div class=\"sk-label sk-toggleable\"><input class=\"sk-toggleable__control sk-hidden--visually\" id=\"sk-estimator-id-16\" type=\"checkbox\" ><label for=\"sk-estimator-id-16\" class=\"sk-toggleable__label sk-toggleable__label-arrow\">VotingRegressor</label><div class=\"sk-toggleable__content\"><pre>VotingRegressor(estimators=[(&#x27;rf&#x27;, RandomForestRegressor(random_state=42)),\n",
              "                            (&#x27;xgb&#x27;,\n",
              "                             XGBRegressor(base_score=None, booster=None,\n",
              "                                          callbacks=None,\n",
              "                                          colsample_bylevel=None,\n",
              "                                          colsample_bynode=None,\n",
              "                                          colsample_bytree=None, device=None,\n",
              "                                          early_stopping_rounds=None,\n",
              "                                          enable_categorical=False,\n",
              "                                          eval_metric=None, feature_types=None,\n",
              "                                          gamma=None, grow_policy=None,\n",
              "                                          importance_type=None,\n",
              "                                          interaction_constraints=None,\n",
              "                                          learning_rate=None, max_bin=None,\n",
              "                                          max_cat_threshold=None,\n",
              "                                          max_cat_to_onehot=None,\n",
              "                                          max_delta_step=None, max_depth=None,\n",
              "                                          max_leaves=None,\n",
              "                                          min_child_weight=None, missing=nan,\n",
              "                                          monotone_constraints=None,\n",
              "                                          multi_strategy=None,\n",
              "                                          n_estimators=None, n_jobs=None,\n",
              "                                          num_parallel_tree=None,\n",
              "                                          random_state=42, ...))])</pre></div></div></div><div class=\"sk-parallel\"><div class=\"sk-parallel-item\"><div class=\"sk-item\"><div class=\"sk-label-container\"><div class=\"sk-label sk-toggleable\"><label>rf</label></div></div><div class=\"sk-serial\"><div class=\"sk-item\"><div class=\"sk-estimator sk-toggleable\"><input class=\"sk-toggleable__control sk-hidden--visually\" id=\"sk-estimator-id-17\" type=\"checkbox\" ><label for=\"sk-estimator-id-17\" class=\"sk-toggleable__label sk-toggleable__label-arrow\">RandomForestRegressor</label><div class=\"sk-toggleable__content\"><pre>RandomForestRegressor(random_state=42)</pre></div></div></div></div></div></div><div class=\"sk-parallel-item\"><div class=\"sk-item\"><div class=\"sk-label-container\"><div class=\"sk-label sk-toggleable\"><label>xgb</label></div></div><div class=\"sk-serial\"><div class=\"sk-item\"><div class=\"sk-estimator sk-toggleable\"><input class=\"sk-toggleable__control sk-hidden--visually\" id=\"sk-estimator-id-18\" type=\"checkbox\" ><label for=\"sk-estimator-id-18\" class=\"sk-toggleable__label sk-toggleable__label-arrow\">XGBRegressor</label><div class=\"sk-toggleable__content\"><pre>XGBRegressor(base_score=None, booster=None, callbacks=None,\n",
              "             colsample_bylevel=None, colsample_bynode=None,\n",
              "             colsample_bytree=None, device=None, early_stopping_rounds=None,\n",
              "             enable_categorical=False, eval_metric=None, feature_types=None,\n",
              "             gamma=None, grow_policy=None, importance_type=None,\n",
              "             interaction_constraints=None, learning_rate=None, max_bin=None,\n",
              "             max_cat_threshold=None, max_cat_to_onehot=None,\n",
              "             max_delta_step=None, max_depth=None, max_leaves=None,\n",
              "             min_child_weight=None, missing=nan, monotone_constraints=None,\n",
              "             multi_strategy=None, n_estimators=None, n_jobs=None,\n",
              "             num_parallel_tree=None, random_state=42, ...)</pre></div></div></div></div></div></div></div></div></div></div>"
            ]
          },
          "metadata": {},
          "execution_count": 96
        }
      ]
    },
    {
      "cell_type": "code",
      "source": [
        "em_pred = em.predict(X_test)"
      ],
      "metadata": {
        "id": "0c163Slonbey"
      },
      "execution_count": null,
      "outputs": []
    },
    {
      "cell_type": "code",
      "source": [
        "#Evaluating model predictions\n",
        "mae_ensemble = mean_absolute_error(em_pred, Y_test)\n",
        "rmse_ensemble = np.sqrt(mean_squared_error(em_pred, Y_test))"
      ],
      "metadata": {
        "id": "7hgdbtTan-Sr"
      },
      "execution_count": null,
      "outputs": []
    },
    {
      "cell_type": "code",
      "source": [
        "print(f\"Mean Absolute Error for Ensemble model = {mae_ensemble}\")\n",
        "print(f\"Root Mean Squared Error for Ensemble model:{rmse_ensemble}\")"
      ],
      "metadata": {
        "colab": {
          "base_uri": "https://localhost:8080/"
        },
        "id": "Tgz54rlnz9Fo",
        "outputId": "4079d151-622f-45ed-fc70-999754fbbe01"
      },
      "execution_count": null,
      "outputs": [
        {
          "output_type": "stream",
          "name": "stdout",
          "text": [
            "Mean Absolute Error for Ensemble model = 0.2973232719556209\n",
            "Root Mean Squared Error for Ensemble model:0.47108518133578775\n"
          ]
        }
      ]
    },
    {
      "cell_type": "code",
      "source": [
        "joblib.dump(em, '/content/drive/My Drive/Colab Notebooks/em.pkl')"
      ],
      "metadata": {
        "colab": {
          "base_uri": "https://localhost:8080/"
        },
        "id": "wM8Xa8Mi0b8Y",
        "outputId": "aed93d49-6a05-41c3-cf3b-ba6275b947fc"
      },
      "execution_count": null,
      "outputs": [
        {
          "output_type": "execute_result",
          "data": {
            "text/plain": [
              "['/content/drive/My Drive/Colab Notebooks/em.pkl']"
            ]
          },
          "metadata": {},
          "execution_count": 100
        }
      ]
    },
    {
      "cell_type": "markdown",
      "source": [
        "Creating a pickle to save data"
      ],
      "metadata": {
        "id": "-elC3_ag2eoH"
      }
    },
    {
      "cell_type": "code",
      "source": [
        "import pickle"
      ],
      "metadata": {
        "id": "OlvDWAfq2XLS"
      },
      "execution_count": null,
      "outputs": []
    },
    {
      "cell_type": "code",
      "source": [
        "pickle.dump(scaled_new, open('/content/drive/My Drive/Colab Notebooks/scaler_ensemble.pkl', 'wb'))"
      ],
      "metadata": {
        "id": "UukrhAGi2m_h"
      },
      "execution_count": null,
      "outputs": []
    }
  ],
  "metadata": {
    "colab": {
      "provenance": []
    },
    "kernelspec": {
      "display_name": "Python 3",
      "name": "python3"
    },
    "language_info": {
      "name": "python"
    }
  },
  "nbformat": 4,
  "nbformat_minor": 0
}